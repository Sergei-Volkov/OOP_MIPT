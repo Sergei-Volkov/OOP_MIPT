{
  "nbformat": 4,
  "nbformat_minor": 0,
  "metadata": {
    "kernelspec": {
      "display_name": "Python 3",
      "language": "python",
      "name": "python3"
    },
    "language_info": {
      "codemirror_mode": {
        "name": "ipython",
        "version": 3
      },
      "file_extension": ".py",
      "mimetype": "text/x-python",
      "name": "python",
      "nbconvert_exporter": "python",
      "pygments_lexer": "ipython3",
      "version": "3.6.4"
    },
    "colab": {
      "name": "Copy of laba6.ipynb",
      "provenance": [],
      "collapsed_sections": []
    }
  },
  "cells": [
    {
      "cell_type": "markdown",
      "metadata": {
        "id": "FQCk82_JLYLn"
      },
      "source": [
        "# Домашняя работа №5 (Курс \"Advanced Python\")\n",
        "## ФИО: Волков Сергей Андреевич"
      ]
    },
    {
      "cell_type": "markdown",
      "metadata": {
        "id": "JRL7118mLYLp"
      },
      "source": [
        "**Тема:** Объектно ориентированное программирование 1  \n",
        "**Выдана:** 9 октября  \n",
        "**Мягкий дедлайн:** 18 октября  \n",
        "**Жесткий дедлайн:** 25 октября  "
      ]
    },
    {
      "cell_type": "markdown",
      "metadata": {
        "id": "ZZxzuQBSLYLq"
      },
      "source": [
        "**Правила:**\n",
        "Результат выполнения задания - отчет в формате Jupyter Notebook с кодом и выводами. В ходе выполнения задания требуется реализовать все необходимые алгоритмы, провести эксперименты и ответить на поставленные вопросы. Дополнительные выводы приветствуются. Чем меньше кода и больше комментариев - тем лучше.\n",
        "\n",
        "Все ячейки должны быть \"выполненными\", при этом результат должен воспроизвдиться при проверке.\n",
        "\n",
        "Задание выполняется самостоятельно. **Если вы нашли в Интернете какой-то код, который собираетесь заимствовать, обязательно укажите это в задании.** Если вы советовались с товарищем и/или позаимствовали его решение, обязательно укажите об этом в отчете. Нет ничего плохого в том, что вы пытаетесь разобраться и помогаете друг другу; плохо - когда вы скрываете это и выдаете чужие заслуги за свои. При обнаружении списывания ВСЕМ студентам, имеющим одинаковые списанные решения будет выставлен ОТРИЦАТЕЛЬНЫЙ балл (т.е если задача стоит 4 балла, вы получите не 0, а -4), \"оригинал\" искаться не будет\n",
        "\n",
        "Задание, сданное после жесткого дедлайна, не принимается."
      ]
    },
    {
      "cell_type": "markdown",
      "metadata": {
        "id": "rWcbPfe3LYLq"
      },
      "source": [
        "### Задача 1: Комплексное число (2 балла):\n",
        "Реализуйте свой класс Complex для комплексных чисел, аналогично встроенной реализации complex:\n",
        "1. Добавьте конструктор класса\n",
        "2. Реализуйте операции проверки на равенство, сложения, вычитания, произведения и деления комплексных чисел (__eq__, __add__, __sub__, __mul__, __truediv__)\n",
        "3. Реализуйте операцию модуля (__abs__, вызываемую как |c|)\n",
        "4. Оба класса должны давать осмысленный вывод как при print, так и просто при вызове в ячейке"
      ]
    },
    {
      "cell_type": "code",
      "metadata": {
        "id": "GFjzgsVWL0EE"
      },
      "source": [
        "from math import sqrt\n",
        "\n",
        "\n",
        "class Complex:\n",
        "    def __init__(self, x, y):  # комплексное число в алгебраической форме z = x + iy\n",
        "        self.x = x\n",
        "        self.y = y\n",
        "\n",
        "\n",
        "    @property\n",
        "    def abs(self):\n",
        "        return sqrt(self.x ** 2 + self.y ** 2)\n",
        "\n",
        "\n",
        "    def __eq__(self, anotherNumber):\n",
        "        return (self.x == anotherNumber.x and self.y == anotherNumber.y)\n",
        "\n",
        "\n",
        "    def __add__(self, anotherNumber):\n",
        "        return Complex(self.x + anotherNumber.x, self.y + anotherNumber.y)\n",
        "\n",
        "\n",
        "    def __sub__(self, anotherNumber):\n",
        "        return Complex(self.x - anotherNumber.x, self.y - anotherNumber.y)\n",
        "\n",
        "\n",
        "    def __mul__(self, anotherNumber):\n",
        "        return Complex(\n",
        "            self.x * anotherNumber.x - self.y * anotherNumber.y,\n",
        "            self.y * anotherNumber.x + self.x * anotherNumber.y\n",
        "        )\n",
        "\n",
        "\n",
        "    def __truediv__(self, anotherNumber):\n",
        "        return Complex(\n",
        "            (self.x * anotherNumber.x + self.y * anotherNumber.y) / anotherNumber.abs ** 2,\n",
        "            (self.y * anotherNumber.x - self.x * anotherNumber.y) / anotherNumber.abs ** 2\n",
        "        )\n",
        "\n",
        "\n",
        "    def __str__(self):\n",
        "        if self.y == 0:\n",
        "            return str(self.x)\n",
        "        elif self.x == 0 and self.y != 0:\n",
        "            if self.y == 1:\n",
        "                return 'i'\n",
        "            else:\n",
        "                return str(self.y) + 'i'\n",
        "        else:\n",
        "            if self.y == 1:\n",
        "                return str(self.x) + ' + i'\n",
        "            else:\n",
        "                return str(self.x) + ' + ' + str(self.y) + 'i'\n",
        "\n",
        "\n",
        "    def __repr__(self):\n",
        "        return Complex.__str__(self)"
      ],
      "execution_count": null,
      "outputs": []
    },
    {
      "cell_type": "code",
      "metadata": {
        "id": "PP61_A6bfKJf"
      },
      "source": [
        "a = Complex(1, 2)\n",
        "b = Complex(2, 1)\n",
        "real = Complex(5, 0)\n",
        "imaginary = Complex(0, 5)\n",
        "imaginary_unit = Complex(0, 1)"
      ],
      "execution_count": null,
      "outputs": []
    },
    {
      "cell_type": "code",
      "metadata": {
        "id": "60WWQeIQjJqY",
        "outputId": "b6d958e6-9f97-4197-cbab-739c947673a5",
        "colab": {
          "base_uri": "https://localhost:8080/",
          "height": 34
        }
      },
      "source": [
        "a, b, real, imaginary, imaginary_unit"
      ],
      "execution_count": null,
      "outputs": [
        {
          "output_type": "execute_result",
          "data": {
            "text/plain": [
              "(1 + 2i, 2 + i, 5, 5i, i)"
            ]
          },
          "metadata": {
            "tags": []
          },
          "execution_count": 5
        }
      ]
    },
    {
      "cell_type": "code",
      "metadata": {
        "id": "R3jWe5Z4hwoI",
        "outputId": "7168a27a-3c38-4773-ae57-ae2d0ff1fbb8",
        "colab": {
          "base_uri": "https://localhost:8080/",
          "height": 34
        }
      },
      "source": [
        "print(a)"
      ],
      "execution_count": null,
      "outputs": [
        {
          "output_type": "stream",
          "text": [
            "1 + 2i\n"
          ],
          "name": "stdout"
        }
      ]
    },
    {
      "cell_type": "code",
      "metadata": {
        "id": "XRHs3RpLjbMG",
        "outputId": "0aa0f7c0-069e-416e-8386-b102be34b158",
        "colab": {
          "base_uri": "https://localhost:8080/",
          "height": 34
        }
      },
      "source": [
        "a + b, a - b, a * b, a / b"
      ],
      "execution_count": null,
      "outputs": [
        {
          "output_type": "execute_result",
          "data": {
            "text/plain": [
              "(3 + 3i, -1 + i, 5i, 0.7999999999999998 + 0.5999999999999999i)"
            ]
          },
          "metadata": {
            "tags": []
          },
          "execution_count": 6
        }
      ]
    },
    {
      "cell_type": "code",
      "metadata": {
        "id": "DbxhHCDaqscM",
        "outputId": "fd1a268a-85ba-415e-a623-b386b57a74c0",
        "colab": {
          "base_uri": "https://localhost:8080/",
          "height": 34
        }
      },
      "source": [
        "a.abs, b.abs"
      ],
      "execution_count": null,
      "outputs": [
        {
          "output_type": "execute_result",
          "data": {
            "text/plain": [
              "(2.23606797749979, 2.23606797749979)"
            ]
          },
          "metadata": {
            "tags": []
          },
          "execution_count": 154
        }
      ]
    },
    {
      "cell_type": "markdown",
      "metadata": {
        "id": "VEoORbHSLYLr"
      },
      "source": [
        "### Задача 2: Буффер (2 балла)\n",
        "Вам на вход приходит последовательность целых чисел. Вам надо обрабатывать ее следующим образом: выводить на экран сумму первых пяти чисел этой последовательности, затем следующих 5 итд\n",
        "\n",
        "Но последовательность не дается вам сразу целиком. С течением времени к вам поступают её последовательные части. Например, сначала первые три элемента, потом следующие шесть, потом следующие два и т. д.\n",
        "\n",
        "Реализуйте класс Buffer, который будет накапливать в себе элементы последовательности и выводить сумму пятерок последовательных элементов по мере их накопления.\n",
        "\n",
        "Одним из требований к классу является то, что он не должен хранить в себе больше элементов, чем ему действительно необходимо, т. е. он не должен хранить элементы, которые уже вошли в пятерку, для которой была выведена сумма.\n",
        "\n",
        "Класс должен иметь следующий вид\n",
        "```python\n",
        "class Buffer:\n",
        "    def __init__(self):\n",
        "        # конструктор без аргументов\n",
        "    \n",
        "    def add(self, *a):\n",
        "        # добавить следующую часть последовательности\n",
        "\n",
        "    def get_current_part(self):\n",
        "        # вернуть сохраненные в текущий момент элементы последовательности в порядке, в котором они были     \n",
        "        # добавлены\n",
        "```"
      ]
    },
    {
      "cell_type": "code",
      "metadata": {
        "id": "dBkrY52oLYLs"
      },
      "source": [
        "#ваш код здесь\n",
        "# здесь посоветовался с Никитой Шатиловым, элементы кода могут быть похожи\n",
        "class Buffer:\n",
        "    def __init__(self):\n",
        "        self.sequence = []\n",
        "    \n",
        "\n",
        "    def add(self, *a):\n",
        "        self.sequence.extend(a)\n",
        "        while len(self.sequence) >= 5:\n",
        "            print(sum(self.sequence[:5]))\n",
        "            del self.sequence[:5]\n",
        "\n",
        "\n",
        "    @property\n",
        "    def get_current_part(self):\n",
        "        return self.sequence"
      ],
      "execution_count": null,
      "outputs": []
    },
    {
      "cell_type": "code",
      "metadata": {
        "id": "LwNWEVKcMMX3"
      },
      "source": [
        "buffer = Buffer()"
      ],
      "execution_count": null,
      "outputs": []
    },
    {
      "cell_type": "code",
      "metadata": {
        "id": "Jyh9ooqqMPfV",
        "outputId": "d9485207-97b7-4769-8027-d306dea69539",
        "colab": {
          "base_uri": "https://localhost:8080/",
          "height": 102
        }
      },
      "source": [
        "buffer.add(1, 2, 3, 4, 5)\n",
        "print(buffer.get_current_part)\n",
        "buffer.add(1, 2)\n",
        "print(buffer.get_current_part)\n",
        "buffer.add(1, 2, 3, 4, 5)\n",
        "print(buffer.get_current_part)"
      ],
      "execution_count": null,
      "outputs": [
        {
          "output_type": "stream",
          "text": [
            "15\n",
            "[]\n",
            "[1, 2]\n",
            "9\n",
            "[4, 5]\n"
          ],
          "name": "stdout"
        }
      ]
    },
    {
      "cell_type": "markdown",
      "metadata": {
        "id": "tcgE5v1kLYLx"
      },
      "source": [
        "### Задача 3: PositiveList (2 балла)\n",
        "Реализуйте класс PositiveList, отнаследовав его от класса list, для хранения положительных целых чисел.\n",
        "Также реализуйте новое исключение NonPositiveError.\n",
        "\n",
        "В классе PositiveList переопределите метод append(self, x) таким образом, чтобы при попытке добавить неположительное целое число бросалось исключение NonPositiveError и число не добавлялось, а при попытке добавить положительное целое число, число добавлялось бы как в стандартный list.\n",
        "\n",
        "В данной задаче гарантируется, что в качестве аргумента x метода append всегда будет передаваться целое число."
      ]
    },
    {
      "cell_type": "code",
      "metadata": {
        "id": "6pzVL8fhLYLy"
      },
      "source": [
        "#ваш код здесь\n",
        "class NonPositiveError(Exception):\n",
        "    pass\n",
        "\n",
        "\n",
        "class PositiveList(list):\n",
        "    def __init__(self):\n",
        "        self.posList = []\n",
        "    \n",
        "\n",
        "    def append(self, x):\n",
        "        if x > 0:\n",
        "            self.posList.append(x)\n",
        "        else:\n",
        "            raise NonPositiveError('Введенно неположительное число')\n",
        "\n",
        "\n",
        "    def __str__(self):\n",
        "        return(str(self.posList))\n",
        "\n",
        "\n",
        "    def __repr__(self):\n",
        "        return(str(self.posList))"
      ],
      "execution_count": null,
      "outputs": []
    },
    {
      "cell_type": "code",
      "metadata": {
        "id": "Emssb3ulF6d9"
      },
      "source": [
        "posList = PositiveList()"
      ],
      "execution_count": null,
      "outputs": []
    },
    {
      "cell_type": "code",
      "metadata": {
        "id": "aITOtd-TGEf4",
        "outputId": "f17dab1c-d4f1-4ec5-d033-833343ec6042",
        "colab": {
          "base_uri": "https://localhost:8080/",
          "height": 34
        }
      },
      "source": [
        "posList.append(5)\n",
        "posList"
      ],
      "execution_count": null,
      "outputs": [
        {
          "output_type": "execute_result",
          "data": {
            "text/plain": [
              "[5]"
            ]
          },
          "metadata": {
            "tags": []
          },
          "execution_count": 157
        }
      ]
    },
    {
      "cell_type": "code",
      "metadata": {
        "id": "kmclRBizGOze",
        "outputId": "49367648-6045-4c2c-b4e8-e88f8b614f88",
        "colab": {
          "base_uri": "https://localhost:8080/",
          "height": 282
        }
      },
      "source": [
        "posList.append(0)"
      ],
      "execution_count": null,
      "outputs": [
        {
          "output_type": "error",
          "ename": "NonPositiveError",
          "evalue": "ignored",
          "traceback": [
            "\u001b[0;31m---------------------------------------------------------------------------\u001b[0m",
            "\u001b[0;31mNonPositiveError\u001b[0m                          Traceback (most recent call last)",
            "\u001b[0;32m<ipython-input-158-df36c6fa8744>\u001b[0m in \u001b[0;36m<module>\u001b[0;34m()\u001b[0m\n\u001b[0;32m----> 1\u001b[0;31m \u001b[0mposList\u001b[0m\u001b[0;34m.\u001b[0m\u001b[0mappend\u001b[0m\u001b[0;34m(\u001b[0m\u001b[0;36m0\u001b[0m\u001b[0;34m)\u001b[0m\u001b[0;34m\u001b[0m\u001b[0;34m\u001b[0m\u001b[0m\n\u001b[0m",
            "\u001b[0;32m<ipython-input-155-4e49b3f90d24>\u001b[0m in \u001b[0;36mappend\u001b[0;34m(self, x)\u001b[0m\n\u001b[1;32m     13\u001b[0m             \u001b[0mself\u001b[0m\u001b[0;34m.\u001b[0m\u001b[0mposList\u001b[0m\u001b[0;34m.\u001b[0m\u001b[0mappend\u001b[0m\u001b[0;34m(\u001b[0m\u001b[0mx\u001b[0m\u001b[0;34m)\u001b[0m\u001b[0;34m\u001b[0m\u001b[0;34m\u001b[0m\u001b[0m\n\u001b[1;32m     14\u001b[0m         \u001b[0;32melse\u001b[0m\u001b[0;34m:\u001b[0m\u001b[0;34m\u001b[0m\u001b[0;34m\u001b[0m\u001b[0m\n\u001b[0;32m---> 15\u001b[0;31m             \u001b[0;32mraise\u001b[0m \u001b[0mNonPositiveError\u001b[0m\u001b[0;34m(\u001b[0m\u001b[0;34m'Введенно неположительное число'\u001b[0m\u001b[0;34m)\u001b[0m\u001b[0;34m\u001b[0m\u001b[0;34m\u001b[0m\u001b[0m\n\u001b[0m\u001b[1;32m     16\u001b[0m \u001b[0;34m\u001b[0m\u001b[0m\n\u001b[1;32m     17\u001b[0m \u001b[0;34m\u001b[0m\u001b[0m\n",
            "\u001b[0;31mNonPositiveError\u001b[0m: Введенно неположительное число"
          ]
        }
      ]
    },
    {
      "cell_type": "code",
      "metadata": {
        "id": "25g4cMDhGTVr",
        "outputId": "f80dc499-5aff-4ef1-f143-a86ad9821027",
        "colab": {
          "base_uri": "https://localhost:8080/",
          "height": 282
        }
      },
      "source": [
        "posList.append(-1)"
      ],
      "execution_count": null,
      "outputs": [
        {
          "output_type": "error",
          "ename": "NonPositiveError",
          "evalue": "ignored",
          "traceback": [
            "\u001b[0;31m---------------------------------------------------------------------------\u001b[0m",
            "\u001b[0;31mNonPositiveError\u001b[0m                          Traceback (most recent call last)",
            "\u001b[0;32m<ipython-input-159-1f96c8b22238>\u001b[0m in \u001b[0;36m<module>\u001b[0;34m()\u001b[0m\n\u001b[0;32m----> 1\u001b[0;31m \u001b[0mposList\u001b[0m\u001b[0;34m.\u001b[0m\u001b[0mappend\u001b[0m\u001b[0;34m(\u001b[0m\u001b[0;34m-\u001b[0m\u001b[0;36m1\u001b[0m\u001b[0;34m)\u001b[0m\u001b[0;34m\u001b[0m\u001b[0;34m\u001b[0m\u001b[0m\n\u001b[0m",
            "\u001b[0;32m<ipython-input-155-4e49b3f90d24>\u001b[0m in \u001b[0;36mappend\u001b[0;34m(self, x)\u001b[0m\n\u001b[1;32m     13\u001b[0m             \u001b[0mself\u001b[0m\u001b[0;34m.\u001b[0m\u001b[0mposList\u001b[0m\u001b[0;34m.\u001b[0m\u001b[0mappend\u001b[0m\u001b[0;34m(\u001b[0m\u001b[0mx\u001b[0m\u001b[0;34m)\u001b[0m\u001b[0;34m\u001b[0m\u001b[0;34m\u001b[0m\u001b[0m\n\u001b[1;32m     14\u001b[0m         \u001b[0;32melse\u001b[0m\u001b[0;34m:\u001b[0m\u001b[0;34m\u001b[0m\u001b[0;34m\u001b[0m\u001b[0m\n\u001b[0;32m---> 15\u001b[0;31m             \u001b[0;32mraise\u001b[0m \u001b[0mNonPositiveError\u001b[0m\u001b[0;34m(\u001b[0m\u001b[0;34m'Введенно неположительное число'\u001b[0m\u001b[0;34m)\u001b[0m\u001b[0;34m\u001b[0m\u001b[0;34m\u001b[0m\u001b[0m\n\u001b[0m\u001b[1;32m     16\u001b[0m \u001b[0;34m\u001b[0m\u001b[0m\n\u001b[1;32m     17\u001b[0m \u001b[0;34m\u001b[0m\u001b[0m\n",
            "\u001b[0;31mNonPositiveError\u001b[0m: Введенно неположительное число"
          ]
        }
      ]
    },
    {
      "cell_type": "code",
      "metadata": {
        "id": "HVgzfx5LHQ22",
        "outputId": "f782e026-c975-4667-b459-e70ace310d9b",
        "colab": {
          "base_uri": "https://localhost:8080/",
          "height": 34
        }
      },
      "source": [
        "print(posList)"
      ],
      "execution_count": null,
      "outputs": [
        {
          "output_type": "stream",
          "text": [
            "[5]\n"
          ],
          "name": "stdout"
        }
      ]
    },
    {
      "cell_type": "markdown",
      "metadata": {
        "id": "XGNX6Ko0LYL2"
      },
      "source": [
        "### Задача 4: Стек (2 балла)\n",
        "Реализуйте структуру данных, представляющую собой расширенную структуру стек. Необходимо поддерживать добавление элемента на вершину стека, удаление с вершины стека, и необходимо поддерживать операции сложения на стеке, вычитания на стеке, умножения на стеке и целочисленного деления на стеке. Также переопределите сложение стеков.\n",
        "\n",
        "Операция сложения на стеке определяется следующим образом. Со стека снимается верхний элемент (top1), затем снимается следующий верхний элемент (top2), и затем как результат операции сложения на вершину стека кладется элемент, равный top1 + top2.\n",
        "\n",
        "Аналогичным образом определяются операции вычитания (top1 - top2), умножения (top1 * top2) и целочисленного деления (top1 // top2).\n",
        "\n",
        "Сложение стеков: при сложении двух стеков в результирующем стеке лежат элементы этих двух стеков в чередующемся порядке, начиная со дна, с первого стека. Если в каком-то из стеков элементов больше, чем во втором - результат кладется сверху подряд без чередований (см пример ниже)\n",
        "\n",
        "Реализуйте эту структуру данных как класс ExtendedStack, отнаследовав его от стандартного класса list.\n",
        "\n",
        "![Сложение стеков](Сложение стеков.jpg \"Сложение стеков\")"
      ]
    },
    {
      "cell_type": "code",
      "metadata": {
        "id": "F1XZpxbULYL3"
      },
      "source": [
        "class ExtendedStack(list):\n",
        "    #Ваш код здесь\n",
        "    def __init__(self, initialStack=None):\n",
        "        super(ExtendedStack, self).__init__()\n",
        "        if (initialStack is not None):\n",
        "            self._list = list(initialStack)\n",
        "        else:\n",
        "            self._list = list()\n",
        "\n",
        "\n",
        "    def addValue(self, x):\n",
        "        self._list.insert(0, x)\n",
        "\n",
        "    \n",
        "    @property\n",
        "    def removeValue(self):\n",
        "        self._list.pop(0)\n",
        "\n",
        "\n",
        "    @property\n",
        "    def stackAddition(self):\n",
        "        top1 = self._list.pop(0)\n",
        "        top2 = self._list.pop(0)\n",
        "        self._list.insert(0, top1 + top2)\n",
        "\n",
        "\n",
        "    @property\n",
        "    def stackSubtraction(self):\n",
        "        top1 = self._list.pop(0)\n",
        "        top2 = self._list.pop(0)\n",
        "        self._list.insert(0, top1 - top2)\n",
        "\n",
        "\n",
        "    @property\n",
        "    def stackMultiplication(self):\n",
        "        top1 = self._list.pop(0)\n",
        "        top2 = self._list.pop(0)\n",
        "        self._list.insert(0, top1 * top2)\n",
        "\n",
        "\n",
        "    @property\n",
        "    def stackDivision(self):\n",
        "        top1 = self._list.pop(0)\n",
        "        top2 = self._list.pop(0)\n",
        "        self._list.insert(0, top1 // top2)\n",
        "    \n",
        "\n",
        "    def __add__(self, anotherStack):\n",
        "        newStack = ExtendedStack()\n",
        "        for first, second in zip(self._list[::-1], anotherStack._list[::-1]):\n",
        "            newStack.addValue(first)\n",
        "            newStack.addValue(second)\n",
        "        firstLength, secondLength = len(self._list), len(anotherStack._list)\n",
        "        if firstLength > secondLength:\n",
        "            for val in self._list[secondLength::-1]:\n",
        "                newStack.addValue(val)\n",
        "        elif firstLength < secondLength:\n",
        "            for val in anotherStack._list[firstLength::-1]:\n",
        "                newStack.addValue(val)\n",
        "        return newStack\n",
        "\n",
        "\n",
        "    def __str__(self):\n",
        "        return(str(self._list))\n",
        "\n",
        "\n",
        "    def __repr__(self):\n",
        "        return(str(self._list))"
      ],
      "execution_count": 151,
      "outputs": []
    },
    {
      "cell_type": "code",
      "metadata": {
        "id": "6Y6ZTMwCZDp5",
        "outputId": "2977549e-6538-4374-f339-3d0ca0279e27",
        "colab": {
          "base_uri": "https://localhost:8080/",
          "height": 34
        }
      },
      "source": [
        "stack = ExtendedStack([1, 2, 3, 4, 5, 6])  # стек читается сверху вниз <=> слева направо\n",
        "print(stack)"
      ],
      "execution_count": 152,
      "outputs": [
        {
          "output_type": "stream",
          "text": [
            "[1, 2, 3, 4, 5, 6]\n"
          ],
          "name": "stdout"
        }
      ]
    },
    {
      "cell_type": "code",
      "metadata": {
        "id": "Yw1vVhH0Zc5b",
        "outputId": "5b3cff02-a247-4680-b137-62bd8b50780a",
        "colab": {
          "base_uri": "https://localhost:8080/",
          "height": 34
        }
      },
      "source": [
        "stack.addValue(2)\n",
        "stack"
      ],
      "execution_count": 153,
      "outputs": [
        {
          "output_type": "execute_result",
          "data": {
            "text/plain": [
              "[2, 1, 2, 3, 4, 5, 6]"
            ]
          },
          "metadata": {
            "tags": []
          },
          "execution_count": 153
        }
      ]
    },
    {
      "cell_type": "code",
      "metadata": {
        "id": "9nFxnTbWZn5-",
        "outputId": "e790cc09-7f27-4834-d775-7a5d900a930e",
        "colab": {
          "base_uri": "https://localhost:8080/",
          "height": 34
        }
      },
      "source": [
        "stack.removeValue\n",
        "stack"
      ],
      "execution_count": 154,
      "outputs": [
        {
          "output_type": "execute_result",
          "data": {
            "text/plain": [
              "[1, 2, 3, 4, 5, 6]"
            ]
          },
          "metadata": {
            "tags": []
          },
          "execution_count": 154
        }
      ]
    },
    {
      "cell_type": "code",
      "metadata": {
        "id": "QqW7AmmMZ6qd",
        "outputId": "11ea0d28-3ad1-4b9a-b828-33155852eaea",
        "colab": {
          "base_uri": "https://localhost:8080/",
          "height": 34
        }
      },
      "source": [
        "stack.stackAddition\n",
        "stack"
      ],
      "execution_count": 155,
      "outputs": [
        {
          "output_type": "execute_result",
          "data": {
            "text/plain": [
              "[3, 3, 4, 5, 6]"
            ]
          },
          "metadata": {
            "tags": []
          },
          "execution_count": 155
        }
      ]
    },
    {
      "cell_type": "code",
      "metadata": {
        "id": "ZFX5KUq0aNP7",
        "outputId": "b512cd18-ec70-4a5b-ab51-1bc13ceae2b0",
        "colab": {
          "base_uri": "https://localhost:8080/",
          "height": 34
        }
      },
      "source": [
        "stack.stackSubtraction\n",
        "stack"
      ],
      "execution_count": 156,
      "outputs": [
        {
          "output_type": "execute_result",
          "data": {
            "text/plain": [
              "[0, 4, 5, 6]"
            ]
          },
          "metadata": {
            "tags": []
          },
          "execution_count": 156
        }
      ]
    },
    {
      "cell_type": "code",
      "metadata": {
        "id": "FKKaapupaRTW",
        "outputId": "96080c02-e25f-4312-b0dd-4ada54a42434",
        "colab": {
          "base_uri": "https://localhost:8080/",
          "height": 34
        }
      },
      "source": [
        "stack.stackMultiplication\n",
        "stack"
      ],
      "execution_count": 157,
      "outputs": [
        {
          "output_type": "execute_result",
          "data": {
            "text/plain": [
              "[0, 5, 6]"
            ]
          },
          "metadata": {
            "tags": []
          },
          "execution_count": 157
        }
      ]
    },
    {
      "cell_type": "code",
      "metadata": {
        "id": "MUC9DMLWaUGe",
        "outputId": "1fad49c5-498a-4262-a037-1d049d0e090c",
        "colab": {
          "base_uri": "https://localhost:8080/",
          "height": 34
        }
      },
      "source": [
        "stack.stackDivision\n",
        "stack"
      ],
      "execution_count": 158,
      "outputs": [
        {
          "output_type": "execute_result",
          "data": {
            "text/plain": [
              "[0, 6]"
            ]
          },
          "metadata": {
            "tags": []
          },
          "execution_count": 158
        }
      ]
    },
    {
      "cell_type": "code",
      "metadata": {
        "id": "GXid0SrYadXv",
        "outputId": "116a3108-7209-4d83-c611-a3d854833391",
        "colab": {
          "base_uri": "https://localhost:8080/",
          "height": 34
        }
      },
      "source": [
        "newStack = stack + ExtendedStack([1, 2, 3, 4, 5])  # должно быть 1 2 3 4 0 5 6\n",
        "newStack"
      ],
      "execution_count": 159,
      "outputs": [
        {
          "output_type": "execute_result",
          "data": {
            "text/plain": [
              "[1, 2, 3, 4, 0, 5, 6]"
            ]
          },
          "metadata": {
            "tags": []
          },
          "execution_count": 159
        }
      ]
    },
    {
      "cell_type": "markdown",
      "metadata": {
        "id": "QYeW47PtLYL7"
      },
      "source": [
        "### Задача 5: Логгирование (1 балл)\n",
        "Одно из применений множественного наследование – расширение функциональности класса каким-то заранее определенным способом. Например, если нам понадобится логировать какую-то информацию при обращении к методам класса.  \n",
        "Реализуйте класс Loggable: У него есть ровно один метод log, который позволяет выводить в лог какое-то сообщение, добавляя при этом текущее время. (для вывода времени воспользуйтесь стандартной библиотекой time).  \n",
        "Реализуйте класс LoggableList, отнаследовав его от классов list и Loggable таким образом, чтобы при добавлении элемента в список посредством метода append в лог отправлялось сообщение, состоящее из только что добавленного элемента."
      ]
    },
    {
      "cell_type": "code",
      "metadata": {
        "id": "VYxzGnD4LYL8"
      },
      "source": [
        "from time import time\n",
        "\n",
        "\n",
        "class Loggable:\n",
        "    def log(self, msg):\n",
        "        #Ваш код здесь\n",
        "        print('At the', time(), 'time', 'element', msg, 'was added')\n",
        "\n",
        "    \n",
        "#и код класса LoggableList\n",
        "class LoggableList(list, Loggable):\n",
        "    def __init__(self, initialList=None):\n",
        "        super(LoggableList, self).__init__()\n",
        "        if (initialList is not None):\n",
        "            self._list = list(initialList)\n",
        "        else:\n",
        "            self._list = list()\n",
        "\n",
        "\n",
        "    def append(self, x):\n",
        "        self._list.append(x)\n",
        "        self.log(x)\n",
        "\n",
        "\n",
        "    def __str__(self):\n",
        "        return(str(self._list))\n",
        "\n",
        "\n",
        "    def __repr__(self):\n",
        "        return(str(self._list))"
      ],
      "execution_count": 101,
      "outputs": []
    },
    {
      "cell_type": "code",
      "metadata": {
        "id": "wx4kPUR4Dwrc",
        "outputId": "56ff3061-efe1-4a69-cf47-ce4add93ca92",
        "colab": {
          "base_uri": "https://localhost:8080/",
          "height": 34
        }
      },
      "source": [
        "loggableList = LoggableList([1, 2, 3, 4])\n",
        "loggableList"
      ],
      "execution_count": 102,
      "outputs": [
        {
          "output_type": "execute_result",
          "data": {
            "text/plain": [
              "[1, 2, 3, 4]"
            ]
          },
          "metadata": {
            "tags": []
          },
          "execution_count": 102
        }
      ]
    },
    {
      "cell_type": "code",
      "metadata": {
        "id": "5B-kC-O8FSly",
        "outputId": "f13e8e87-f937-4623-c0c2-801a093fc919",
        "colab": {
          "base_uri": "https://localhost:8080/",
          "height": 68
        }
      },
      "source": [
        "loggableList.append(5)\n",
        "loggableList.append(6)\n",
        "loggableList"
      ],
      "execution_count": 103,
      "outputs": [
        {
          "output_type": "stream",
          "text": [
            "At the 1603021211.910898 time element 5 was added\n",
            "At the 1603021211.9119475 time element 6 was added\n"
          ],
          "name": "stdout"
        },
        {
          "output_type": "execute_result",
          "data": {
            "text/plain": [
              "[1, 2, 3, 4, 5, 6]"
            ]
          },
          "metadata": {
            "tags": []
          },
          "execution_count": 103
        }
      ]
    },
    {
      "cell_type": "markdown",
      "metadata": {
        "id": "QyETM9o9LYMA"
      },
      "source": [
        "### Задача 6: Цепочки наследований  (1 балл)\n",
        "Создайте правильные цепочки наследования классов для:\n",
        "\n",
        "Животное,\n",
        "\n",
        "собака, \n",
        "\n",
        "щенок, \n",
        "\n",
        "самолет,\n",
        "\n",
        " компьютер, \n",
        " \n",
        " имеющее лапы, \n",
        " \n",
        " летающее, \n",
        " \n",
        " орел, \n",
        " \n",
        " белка-летяга, \n",
        " \n",
        " разумное, \n",
        " \n",
        " человек, \n",
        " \n",
        " медуза, \n",
        " \n",
        " одуванчик.   \n",
        "В эти классы добавьте конструкторы, а также методы (с пустым телом) для следующих действий (где надо): \n",
        "\n",
        "полаять, \n",
        "\n",
        "родить, \n",
        "\n",
        "сложить два числа, \n",
        "\n",
        "ужалить, \n",
        "\n",
        "подумать, \n",
        "\n",
        "взлететь, \n",
        "\n",
        "пустить корни, \n",
        "\n",
        "поесть, \n",
        "\n",
        "взять,\n",
        "\n",
        " а также следующие поля: \n",
        "\n",
        "возраст, \n",
        "\n",
        "латинское название (или модель). \n",
        "\n",
        "Прокомментируйте вашу логику"
      ]
    },
    {
      "cell_type": "code",
      "metadata": {
        "id": "TSSqq-sULYMB"
      },
      "source": [
        "#ваш код здесь\n",
        "class Animal:\n",
        "    def __init__(self, age, latin_name):\n",
        "        self.age = age\n",
        "        self.latin_name = latin_name\n",
        "\n",
        "\n",
        "    def eat(self):  # есть могут все животные, и принцип не сильно отличается у разных животных, если что, можно переопределить в конкретном случае\n",
        "        pass\n",
        "\n",
        "\n",
        "    def giveBirth(self):  # один из принципов живого - репродукция себеподобных\n",
        "        pass\n",
        "\n",
        "\n",
        "class Flying:\n",
        "    def __init__(self):\n",
        "        pass\n",
        "\n",
        "\n",
        "    def fly(self):\n",
        "        pass\n",
        "\n",
        "\n",
        "class Pawed:  # есть роботы с лапами, это уже не животное\n",
        "    def __init__(self):\n",
        "        pass\n",
        "\n",
        "\n",
        "    def take(self, smth):\n",
        "        pass\n",
        "    \n",
        "\n",
        "\n",
        "class Thinking:\n",
        "    def __init__(self):\n",
        "        pass\n",
        "\n",
        "\n",
        "    def think(self):\n",
        "        pass\n",
        "\n",
        "\n",
        "class Dog(Animal, Pawed):  # есть лапы\n",
        "    def __init__(self, age):\n",
        "        super(Dog, self).__init__(age, 'Canis lupus familiaris')\n",
        "\n",
        "\n",
        "    def bork(self):  # может полаять\n",
        "        pass\n",
        "\n",
        "\n",
        "class Puppy(Dog):\n",
        "    def __init__(self, age):\n",
        "        super(Puppy, self).__init__(age)\n",
        "    \n",
        "\n",
        "    def giveBirth(self):  # непонятно, как убрать то, что щенок может родить... а костыль делать не хочется\n",
        "        pass\n",
        "\n",
        "\n",
        "class Plane(Flying):  # летающий\n",
        "    def __init__(self, model):\n",
        "        self.model = model\n",
        "\n",
        "\n",
        "class Computer:\n",
        "    def __init__(self, model):\n",
        "        self.model = model\n",
        "\n",
        "\n",
        "    def addTwoNumbers(self):\n",
        "        pass\n",
        "\n",
        "\n",
        "class Eagle(Animal, Flying):  # умеет летать\n",
        "    def __init__(self, age, species):\n",
        "        super(Eagle, self).__init__(age, 'Aquila' + species)  # есть много видов орлов\n",
        "\n",
        "\n",
        "class FlyingSquirrel(Animal, Flying, Pawed):  # умеет летать, есть лапы\n",
        "    def __init__(self, age, species):\n",
        "        super(FlyingSquirrel, self).__init__(age, 'Pteromyini' + species)  # есть много видов белок-летяг\n",
        "\n",
        "\n",
        "class Human(Animal, Thinking, Pawed):\n",
        "    def __init__(self, age):\n",
        "        super(Human, self).__init__(age, 'Homo Sapiens')  # есть только один вид людей =)\n",
        "\n",
        "\n",
        "class Jellyfish(Animal):\n",
        "    def __init__(self, age, species):\n",
        "        super(Jellyfish, self).__init__(age, 'Medusozoa' + species)  # есть много видов медуз\n",
        "\n",
        "\n",
        "    def sting(self, smth):  # может ужалить\n",
        "        pass\n",
        "\n",
        "\n",
        "class Blowball:  # одуванчик\n",
        "    def __init__(self, age, latin_name):\n",
        "        self.age = age\n",
        "        self.latin_name = latin_name\n",
        "\n",
        "\n",
        "    def putDownRoots(self):\n",
        "        pass"
      ],
      "execution_count": 104,
      "outputs": []
    }
  ]
}