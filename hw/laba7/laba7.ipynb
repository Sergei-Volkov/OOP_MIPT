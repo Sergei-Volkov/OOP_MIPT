{
 "cells": [
  {
   "cell_type": "markdown",
   "metadata": {
    "collapsed": true,
    "id": "FDoUc4zytvnG"
   },
   "source": [
    "# Домашняя работа №6 (Курс \"Advanced Python\")\n",
    "## ФИО: Волков Сергей Андреевич"
   ]
  },
  {
   "cell_type": "markdown",
   "metadata": {
    "id": "l5T3uJ9AtvnI"
   },
   "source": [
    "**Тема:** Объектно ориентированное программирование 2  \n",
    "**Выдана:** 15 октября  \n",
    "**Мягкий дедлайн:** 22 октября  \n",
    "**Жесткий дедлайн:** 29 октября"
   ]
  },
  {
   "cell_type": "markdown",
   "metadata": {
    "id": "ny1h2IRVtvnK"
   },
   "source": [
    "**Правила:**\n",
    "Результат выполнения задания - отчет в формате Jupyter Notebook с кодом и выводами. В ходе выполнения задания требуется реализовать все необходимые алгоритмы, провести эксперименты и ответить на поставленные вопросы. Дополнительные выводы приветствуются. Чем меньше кода и больше комментариев - тем лучше.\n",
    "\n",
    "Все ячейки должны быть \"выполненными\", при этом результат должен воспроизвдиться при проверке.\n",
    "\n",
    "Задание выполняется самостоятельно. **Если вы нашли в Интернете какой-то код, который собираетесь заимствовать, обязательно укажите это в задании** Если вы советовались с товарищем и/или позаимствовали его решение, обязательно укажите об этом в отчете. Нет ничего плохого в том, что вы пытаетесь разобраться и помогаете друг другу; плохо - когда вы скрываете это и выдаете чужие заслуги за свои. При обнаружении списывания ВСЕМ студентам, имеющим одинаковые списанные решения будет выставлен ОТРИЦАТЕЛЬНЫЙ балл (т.е если задача стоит 4 балла, вы получите не 0, а -4), \"оригинал\" искаться не будет\n",
    "\n",
    "Задание, сданное после жесткого дедлайна, не принимается."
   ]
  },
  {
   "cell_type": "markdown",
   "metadata": {
    "collapsed": true,
    "id": "Af7YFObotvnL"
   },
   "source": [
    "### Задача 1: ДНК (7 баллов)\n",
    "Реализуйте классы для ДНК (двойная цепочк) и РНК (одинарная цепочка). Данные структуры данных должны поддерживать следующие возможности:\n",
    "1. Создавать структуру из строк. Обратите внимание, что в ДНК встречаются только азотистые основания ATGC, а в РНК (AUGC) поэтому если во входной строке содержались другие символы, необходимо поднимать ошибку (Exception). \n",
    "2. Поддерживают индексацию. РНК по индексу возвращает i-ое азотистое основание, ДНК - пару азотистых оснований (соответствующие первой и второй цепочке)\n",
    "3. РНК может возвращать комплиментарную ДНК (каждому азотистому основанию из РНК соответсвует соответсвующее основание для первой цепочки ДНК: $A \\to T$, $U \\to A$, $G \\to C$, $C \\to G$. Вторая цепочка ДНК строится комплиментарной первой строчке ДНК: $A \\to T$, $T \\to A$, $G \\to C$, $C \\to G$) \n",
    "4. РНК, как и ДНК, могут складываться путем склеивания (\"AUUGAACUA\" + \"CGGAAA\" = \"AUUGAACUACGGAAA\"). У ДНК склеиваются соответствующие цепочки ([\"ACG\", \"TGC\"] + [\"TTTAAT\", \"AAATTA\"] = [\"ACGTTTAAT\", \"TGCAAATTA\"])\n",
    "5. РНК могут перемножаться друг с другом: каждое азотистое основание результирующей РНК получается случайным выбором одного из двух соответсвующих родительских азотистых оснований. Если одна из цепочек длиннее другой, то перемножение происходит с начала, когда одна из цепочек закончится оставшийся хвост другой переносится без изменений.\n",
    "![Умножение РНК](Умножение РНК.jpg \"Умножение РНК\")\n",
    "6. ДНК могут перемножаться друг с другом: ПЕРВЫЕ цепочки каждой из ДНК перемножаются по такому же приницпу, как перемножаются РНК выше. Вторая цепочка результирующей ДНК строится как комплиментарная первой \n",
    "7. Цепочки РНК и первую и вторую у ДНК можно проверять на равенство\n",
    "8. Оба класса должны давать осмысленный вывод как при print, так и просто при вызове в ячейке  \n",
    "**Обдумайте и создайте необходимые и, возможно, вспомогательные классы, настройте наследование, если требуется. Полученная структура должна быть адекватной и удобной, готовой к простому расширению функционала, если потребуется**"
   ]
  },
  {
   "cell_type": "code",
   "execution_count": 7,
   "metadata": {
    "id": "jGVPTW4OtvnM"
   },
   "outputs": [],
   "source": [
    "import random\n",
    "\n",
    "\n",
    "#ваш код здесь\n",
    "class AnotherSymbolError(Exception):\n",
    "    pass\n",
    "\n",
    "\n",
    "class DNA():\n",
    "    def __init__(self, chain):  # достаточно ввести одну цепь ДНК, вторую строим комплементарно первой\n",
    "        if not set(chain).issubset({'A', 'C', 'G', 'T'}):\n",
    "            raise AnotherSymbolError('В введенной строке есть символы, не содержащиеся в РНК')\n",
    "        self.strand1 = chain\n",
    "        self.strand2 = ''.join([{'A': 'T', 'T': 'A', 'G': 'C', 'C': 'G'}[symbol] for symbol in self.strand1])\n",
    "\n",
    "    \n",
    "    def __str__(self):\n",
    "        return str([self.strand1, self.strand2])\n",
    "\n",
    "\n",
    "    def __repr__(self):\n",
    "        return str([self.strand1, self.strand2])\n",
    "\n",
    "\n",
    "    def __getitem__(self, i):\n",
    "        return self.strand1[i], self.strand2[i]\n",
    "\n",
    "\n",
    "    def __add__(self, another):\n",
    "        return DNA(self.strand1 + another.strand1)\n",
    "\n",
    "\n",
    "    def __mul__(self, another):\n",
    "        firstLength, secondLength = len(self.strand1), len(another.strand1)\n",
    "        if firstLength > secondLength:\n",
    "            end = self.strand1[-firstLength + secondLength:]\n",
    "        else:\n",
    "            end = another.strand1[-secondLength + firstLength:]\n",
    "        return DNA(''.join([random.choice([symbol1, symbol2]) for symbol1, symbol2 in zip(self.strand1, another.strand1)]) + end)\n",
    "\n",
    "\n",
    "    def __eq__(self, another):  # ДНК (цепь1, цепь2) == ДНК (цепь2, цепь1) просто по смыслу\n",
    "        return (self.strand1 == another.strand1 or self.strand1 == another.strand2) \n",
    "\n",
    "\n",
    "class RNA(str):\n",
    "    def __init__(self, chain):\n",
    "        if not set(chain).issubset({'A', 'C', 'G', 'U'}):\n",
    "            raise AnotherSymbolError('В введенной строке есть символы, не содержащиеся в РНК')\n",
    "        self.rna = chain\n",
    "\n",
    "\n",
    "    def __getitem__(self, i):\n",
    "        return self.rna[i]\n",
    "\n",
    "\n",
    "    @property\n",
    "    def getComplementaryDNA(self):\n",
    "        return DNA(''.join([{'A': 'T', 'U': 'A', 'G': 'C', 'C': 'G'}[symbol] for symbol in self.rna]))\n",
    "\n",
    "\n",
    "    def __add__(self, another):\n",
    "        return RNA(self.rna + another.rna)\n",
    "\n",
    "\n",
    "    def __mul__(self, another):\n",
    "        firstLength, secondLength = len(self.rna), len(another.rna)\n",
    "        if firstLength > secondLength:\n",
    "            end = self.rna[-firstLength + secondLength:]\n",
    "        else:\n",
    "            end = another.rna[-secondLength + firstLength:]\n",
    "        print(''.join([random.choice([symbol1, symbol2]) for symbol1, symbol2 in zip(self.rna, another.rna)]) + end)\n",
    "        return RNA(''.join([random.choice([symbol1, symbol2]) for symbol1, symbol2 in zip(self.rna, another.rna)]) + end)\n",
    "\n",
    "\n",
    "    def __eq__(self, another):\n",
    "        return self.rna == another.rna\n",
    "\n",
    "\n",
    "    def __str__(self):\n",
    "        return self.rna\n",
    "\n",
    "\n",
    "    def __repr__(self):\n",
    "        return self.rna"
   ]
  },
  {
   "cell_type": "markdown",
   "metadata": {},
   "source": [
    "### Чек РНК"
   ]
  },
  {
   "cell_type": "code",
   "execution_count": 8,
   "metadata": {
    "colab": {
     "base_uri": "https://localhost:8080/",
     "height": 322
    },
    "id": "Ept32wGavoha",
    "outputId": "57d47f03-8d38-4747-e99f-93dc7056cead"
   },
   "outputs": [],
   "source": [
    "rna = RNA('AUCG')"
   ]
  },
  {
   "cell_type": "code",
   "execution_count": 14,
   "metadata": {
    "colab": {
     "base_uri": "https://localhost:8080/",
     "height": 35
    },
    "id": "2-wS2h6BpKd-",
    "outputId": "ab83b4c1-ef6a-48d6-cc69-ac71bc9709ce"
   },
   "outputs": [
    {
     "name": "stdout",
     "output_type": "stream",
     "text": [
      "AUCG\n"
     ]
    },
    {
     "data": {
      "text/plain": [
       "AUCG"
      ]
     },
     "execution_count": 14,
     "metadata": {},
     "output_type": "execute_result"
    }
   ],
   "source": [
    "print(rna)\n",
    "rna"
   ]
  },
  {
   "cell_type": "code",
   "execution_count": 15,
   "metadata": {},
   "outputs": [
    {
     "data": {
      "text/plain": [
       "'C'"
      ]
     },
     "execution_count": 15,
     "metadata": {},
     "output_type": "execute_result"
    }
   ],
   "source": [
    "rna[2]"
   ]
  },
  {
   "cell_type": "code",
   "execution_count": 17,
   "metadata": {
    "colab": {
     "base_uri": "https://localhost:8080/",
     "height": 35
    },
    "id": "12RhsVInK_yW",
    "outputId": "d32116d9-f6e7-448b-e200-c2e37fbe2afe"
   },
   "outputs": [
    {
     "data": {
      "text/plain": [
       "['TAGC', 'ATCG']"
      ]
     },
     "execution_count": 17,
     "metadata": {},
     "output_type": "execute_result"
    }
   ],
   "source": [
    "rna.getComplementaryDNA"
   ]
  },
  {
   "cell_type": "code",
   "execution_count": 11,
   "metadata": {
    "colab": {
     "base_uri": "https://localhost:8080/",
     "height": 35
    },
    "id": "Jz-SW9jyLJyv",
    "outputId": "69c41c3d-06af-4c46-917b-ad84ae7d11cb"
   },
   "outputs": [
    {
     "data": {
      "text/plain": [
       "AUCGGCUA"
      ]
     },
     "execution_count": 11,
     "metadata": {},
     "output_type": "execute_result"
    }
   ],
   "source": [
    "rna + RNA('GCUA')"
   ]
  },
  {
   "cell_type": "code",
   "execution_count": 12,
   "metadata": {
    "colab": {
     "base_uri": "https://localhost:8080/",
     "height": 346
    },
    "id": "pXvIY3h9LRx2",
    "outputId": "ab01b8e0-6e72-463b-bfd2-479d96221fd8",
    "scrolled": true
   },
   "outputs": [
    {
     "name": "stdout",
     "output_type": "stream",
     "text": [
      "GUUAU\n"
     ]
    },
    {
     "data": {
      "text/plain": [
       "GCCGU"
      ]
     },
     "execution_count": 12,
     "metadata": {},
     "output_type": "execute_result"
    }
   ],
   "source": [
    "rna * RNA('GCUAU')"
   ]
  },
  {
   "cell_type": "code",
   "execution_count": 18,
   "metadata": {},
   "outputs": [
    {
     "name": "stdout",
     "output_type": "stream",
     "text": [
      "False\n",
      "True\n"
     ]
    }
   ],
   "source": [
    "print(rna == RNA('GCUA'))\n",
    "print(rna == RNA('GCUA'[::-1]))"
   ]
  },
  {
   "cell_type": "markdown",
   "metadata": {},
   "source": [
    "### Чек ДНК"
   ]
  },
  {
   "cell_type": "code",
   "execution_count": 19,
   "metadata": {
    "colab": {
     "base_uri": "https://localhost:8080/",
     "height": 166
    },
    "id": "ROf4vawzrauq",
    "outputId": "b5d29b19-cd3e-481f-f6ba-132635cea206"
   },
   "outputs": [],
   "source": [
    "dna = DNA('ATCG')"
   ]
  },
  {
   "cell_type": "code",
   "execution_count": 21,
   "metadata": {},
   "outputs": [
    {
     "name": "stdout",
     "output_type": "stream",
     "text": [
      "['ATCG', 'TAGC']\n"
     ]
    },
    {
     "data": {
      "text/plain": [
       "['ATCG', 'TAGC']"
      ]
     },
     "execution_count": 21,
     "metadata": {},
     "output_type": "execute_result"
    }
   ],
   "source": [
    "print(dna)\n",
    "dna"
   ]
  },
  {
   "cell_type": "code",
   "execution_count": 20,
   "metadata": {},
   "outputs": [
    {
     "data": {
      "text/plain": [
       "('C', 'G')"
      ]
     },
     "execution_count": 20,
     "metadata": {},
     "output_type": "execute_result"
    }
   ],
   "source": [
    "dna[2]"
   ]
  },
  {
   "cell_type": "code",
   "execution_count": 22,
   "metadata": {},
   "outputs": [
    {
     "data": {
      "text/plain": [
       "['ATCGGCTA', 'TAGCCGAT']"
      ]
     },
     "execution_count": 22,
     "metadata": {},
     "output_type": "execute_result"
    }
   ],
   "source": [
    "dna + DNA('GCTA')"
   ]
  },
  {
   "cell_type": "code",
   "execution_count": 23,
   "metadata": {},
   "outputs": [
    {
     "data": {
      "text/plain": [
       "['GTTAT', 'CAATA']"
      ]
     },
     "execution_count": 23,
     "metadata": {},
     "output_type": "execute_result"
    }
   ],
   "source": [
    "dna * DNA('GCTAT')"
   ]
  },
  {
   "cell_type": "markdown",
   "metadata": {
    "id": "lW0rsr_BtvnV"
   },
   "source": [
    "### Задача 2: логгер времени (1 балла)\n",
    "Напишите декоратор, который будет выводить время выполнения декорируемой функции. Библиотека time вам в помощь. Проиллюстрируйте работу вашего декоратора "
   ]
  },
  {
   "cell_type": "code",
   "execution_count": 57,
   "metadata": {
    "id": "D4IUJDnPtvnW"
   },
   "outputs": [],
   "source": [
    "#ваш код здесь\n",
    "import time\n",
    "from functools import wraps\n",
    "\n",
    "\n",
    "class TimeLogger:\n",
    "    def __init__(self):\n",
    "        pass\n",
    "    \n",
    "    \n",
    "    def __call__(self, func):\n",
    "        @wraps(func)\n",
    "        def wrapper(*args, **kwargs):\n",
    "            start = time.time()\n",
    "            result = func(*args, **kwargs)\n",
    "            print('Время выполнения функции равно {} секунды'.format(time.time() - start))\n",
    "            return result\n",
    "        return wrapper"
   ]
  },
  {
   "cell_type": "code",
   "execution_count": 59,
   "metadata": {},
   "outputs": [],
   "source": [
    "@TimeLogger()  # нужны скобки как вызов функции... (иначе выдает ошибку)\n",
    "def funcWithDelay(delay):\n",
    "    time.sleep(delay)"
   ]
  },
  {
   "cell_type": "code",
   "execution_count": 60,
   "metadata": {},
   "outputs": [
    {
     "name": "stdout",
     "output_type": "stream",
     "text": [
      "Время выполнения функции равно 2.0082859992980957 секунды\n"
     ]
    }
   ],
   "source": [
    "funcWithDelay(2)"
   ]
  },
  {
   "cell_type": "markdown",
   "metadata": {
    "id": "kNMehs1vtvnc"
   },
   "source": [
    "### Задача 3: подсчет детей (2 балла + 1 бонусный)\n",
    "**Т.е за нерешенную задачу вы потеряете 2 обязательных балла, а если сделаете верно, то получите 3 балла**  \n",
    "\n",
    "На вход поступает описание наследования классов в формате JSON  \n",
    "Описание представляет из себя массив JSON-объектов, которые соответствуют классам. У каждого JSON-объекта есть поле name, которое содержит имя класса, и поле parents, которое содержит список имен прямых предков.\n",
    "\n",
    "Пример:\n",
    "[{\"name\": \"A\", \"parents\": []}, {\"name\": \"B\", \"parents\": [\"A\", \"C\"]}, {\"name\": \"C\", \"parents\": [\"A\"]}]\n",
    "\n",
    "Эквивалент на Python:\n",
    "\n",
    "```python3\n",
    "class A:\n",
    "    pass\n",
    "\n",
    "class B(A, C):\n",
    "    pass\n",
    "\n",
    "class C(A):\n",
    "    pass\n",
    "```\n",
    "Гарантируется, что никакой класс не наследуется от себя явно или косвенно, и что никакой класс не наследуется явно от одного класса более одного раза.\n",
    "\n",
    "Напишите функцию, которая будет по строке описания JSON возвращать словарь, в котором для каждого класса указано, предком скольких классов он является.\n",
    "\n",
    "Например count_childs('[{\"name\": \"A\", \"parents\": []}, {\"name\": \"B\", \"parents\": [\"A\", \"C\"]}, {\"name\": \"C\", \"parents\": [\"A\"]}]') возвращает\n",
    "{\"A\": 3, \"B\": 1, \"C\": 2}"
   ]
  },
  {
   "cell_type": "code",
   "execution_count": 80,
   "metadata": {
    "id": "CtFhqXaztvnd"
   },
   "outputs": [],
   "source": [
    "#ваш код здесь\n",
    "import json\n",
    "\n",
    "\n",
    "# изначально дан ориентированный граф с ребрами, направленными в сторону предка\n",
    "# нужно инвертировать все ребра и тогда мы получим граф с ребрами, направленными в сторону наследника\n",
    "# на нем уже просто считаем, сколько ребер выходит из каждой вершины\n",
    "def countChilds(jsonObjects):\n",
    "    graphList = json.loads(jsonObjects)\n",
    "    ancestors = {key: set() for key in [obj['name'] for obj in graphList]}\n",
    "    for obj in graphList:\n",
    "        for vertex in obj['parents']:\n",
    "            ancestors[vertex].add(obj['name'])\n",
    "#     print(ancestors)\n",
    "    for vertex in ancestors:\n",
    "        ancestors[vertex] = len(ancestors[vertex]) + 1\n",
    "    return ancestors"
   ]
  },
  {
   "cell_type": "code",
   "execution_count": 81,
   "metadata": {},
   "outputs": [
    {
     "data": {
      "text/plain": [
       "{'A': 3, 'B': 1, 'C': 2}"
      ]
     },
     "execution_count": 81,
     "metadata": {},
     "output_type": "execute_result"
    }
   ],
   "source": [
    "countChilds('[{\"name\": \"A\", \"parents\": []}, {\"name\": \"B\", \"parents\": [\"A\", \"C\"]}, {\"name\": \"C\", \"parents\": [\"A\"]}]')"
   ]
  }
 ],
 "metadata": {
  "colab": {
   "collapsed_sections": [],
   "name": "Copy of laba7.ipynb",
   "provenance": []
  },
  "kernelspec": {
   "display_name": "Python 3",
   "language": "python",
   "name": "python3"
  },
  "language_info": {
   "codemirror_mode": {
    "name": "ipython",
    "version": 3
   },
   "file_extension": ".py",
   "mimetype": "text/x-python",
   "name": "python",
   "nbconvert_exporter": "python",
   "pygments_lexer": "ipython3",
   "version": "3.9.0"
  }
 },
 "nbformat": 4,
 "nbformat_minor": 1
}
