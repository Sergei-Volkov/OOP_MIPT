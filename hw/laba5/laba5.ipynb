{
  "nbformat": 4,
  "nbformat_minor": 0,
  "metadata": {
    "kernelspec": {
      "display_name": "Python 3",
      "language": "python",
      "name": "python3"
    },
    "language_info": {
      "codemirror_mode": {
        "name": "ipython",
        "version": 3
      },
      "file_extension": ".py",
      "mimetype": "text/x-python",
      "name": "python",
      "nbconvert_exporter": "python",
      "pygments_lexer": "ipython3",
      "version": "3.6.4"
    },
    "colab": {
      "name": "laba5.ipynb",
      "provenance": [],
      "collapsed_sections": []
    }
  },
  "cells": [
    {
      "cell_type": "markdown",
      "metadata": {
        "collapsed": true,
        "id": "Ck43PGRg9JF2"
      },
      "source": [
        "# Домашняя работа №5 (Курс \"Advanced Python\")\n",
        "## ФИО: Волков Сергей Андреевич"
      ]
    },
    {
      "cell_type": "markdown",
      "metadata": {
        "id": "4sx2KQ0W9JF4"
      },
      "source": [
        "**Тема:** Работа с файлами  \n",
        "**Выдана:** 29 сентября  \n",
        "**Мягкий дедлайн:** 6 октября  \n",
        "**Жесткий дедлайн:** 13 октября   "
      ]
    },
    {
      "cell_type": "markdown",
      "metadata": {
        "id": "Rab0sHVe9JF5"
      },
      "source": [
        "**Правила:**\n",
        "Результат выполнения задания - отчет в формате Jupyter Notebook с кодом и выводами. В ходе выполнения задания требуется реализовать все необходимые алгоритмы, провести эксперименты и ответить на поставленные вопросы. Дополнительные выводы приветствуются. Чем меньше кода и больше комментариев - тем лучше.\n",
        "\n",
        "Все ячейки должны быть \"выполненными\", при этом результат должен воспроизвдиться при проверке.\n",
        "\n",
        "Задание выполняется самостоятельно. Если вы нашли в Интернете какой-то код, который собираетесь заимствовать, обязательно укажите это в задании. Если вы советовались с товарищем и/или позаимствовали его решение, обязательно укажите об этом в отчете. Нет ничего плохого в том, что вы пытаетесь разобраться и помогаете друг другу; плохо - когда вы скрываете это и выдаете чужие заслуги за свои. При обнаружении списывания ВСЕМ студентам, имеющим одинаковые списанные решения будет выставлен ОТРИЦАТЕЛЬНЫЙ балл (т.е если задача стоит 4 балла, вы получите не 0, а -4), \"оригинал\" искаться не будет\n",
        "\n",
        "Задание, сданное после жесткого дедлайна, не принимается."
      ]
    },
    {
      "cell_type": "markdown",
      "metadata": {
        "id": "jJAd3wgD9JF6"
      },
      "source": [
        "### Задача 1: (1 балл)\n",
        "Вам дается текстовый файл \"your_text.txt\", содержащий некоторое количество непустых строк.\n",
        "На основе него сгенерируйте новый текстовый файл, содержащий те же строки, но в обратном порядке, а также удалите лишние пробелы в начале и конце строк  \n",
        "\n",
        "\n",
        "**Пример входного файла:**  \n",
        "   ab     \n",
        " c     \n",
        "dde   \n",
        "   ff\n",
        "\n",
        "**Пример выходного файла:**\n",
        "ff\n",
        "dde\n",
        "c\n",
        "ab\n",
        "\n",
        "PS. ДЛЯ ПРОСМОТРА ПРИМЕРОВ ФАЙЛОВ ВЫШЕ НАЖМИТЕ НА ЭТУ ЯЧЕЙКУ ДВАЖДЫ, ЧТОБЫ УВИДЕТЬ ЕЕ КОД И НОРМАЛЬНО УВИДЕТЬ СТРУКТУРУ ФАЙЛОВ"
      ]
    },
    {
      "cell_type": "markdown",
      "metadata": {
        "id": "gFjewAZR9JF7"
      },
      "source": [
        "Каждому из вас сгенерируется уникальный личный файл. Для этого выполните ячейку снизу предварительно заменив last_name на строку с вашей фамилией"
      ]
    },
    {
      "cell_type": "code",
      "metadata": {
        "id": "-jacWMpS9JF8"
      },
      "source": [
        "import numpy as np\n",
        "last_name = \"Volkov\"                                        #Измени меня на свою фамилию в латинице!\n",
        "np.random.seed(hash(last_name) % 1000)                        #Фиксирую random.seed чтобы получать различные, но\n",
        "                                                              #фиксированные тексты для каждого студента\n",
        "\n",
        "def generate_text(last_name, file_name=\"your_text.txt\"):\n",
        "    n_lines = int(1000 * np.random.randn() + 8000)            #генерирую случайное количество строк в вашем файле\n",
        "                                                              #из нормального распределения с м.о 8000 и дисперсией 1000\n",
        "    while n_lines <= 0:\n",
        "        n_lines = 1000 * np.random.randn() + 8000\n",
        "        \n",
        "    with open(file_name, \"w\") as out:\n",
        "        for i in range(n_lines):\n",
        "            line_len = np.random.randint(20, 300)             #генерирую количество символов в строке\n",
        "            letters = np.random.randint(0, 27, line_len)      #генерирую сами символы - 26 букв англ. языка и пробел\n",
        "            letters = list(map(lambda x: chr(x + ord('a')), letters))\n",
        "            letters = [c if c != chr(26+ord('a')) else ' ' for c in letters]\n",
        "            \n",
        "            out.write((' '*np.random.randint(0, 5))+ \"\".join(letters)+ ' '*np.random.randint(0, 5) + \"\\n\")\n",
        "            \n",
        "generate_text(last_name)"
      ],
      "execution_count": null,
      "outputs": []
    },
    {
      "cell_type": "code",
      "metadata": {
        "id": "T6Rk3pOV9JGC"
      },
      "source": [
        "#Ваш код\n",
        "def invert_text_lines(input_file='your_text.txt', output_file='out.txt'):\n",
        "    with open(input_file, 'r') as inputFile, open(output_file, 'w') as outputFile:\n",
        "        lines = inputFile.readlines()\n",
        "        for line in lines[::-1]:\n",
        "            outputFile.write(line.strip() + '\\n')\n",
        "\n",
        "\n",
        "invert_text_lines()"
      ],
      "execution_count": null,
      "outputs": []
    },
    {
      "cell_type": "markdown",
      "metadata": {
        "id": "UiDP3UsN9JGH"
      },
      "source": [
        "### Задача 2: Гипотеза Коллатца или сиракузская проблема  (2 балла)\n",
        "Гипотеза Коллатца является одной из нерешенных проблем математики. У нее очень простая и понятная формулировка:  \n",
        "Рассмотрим следующую последовательность чисел, называемую **сиракузской**. Берем любое натуральное число $n$. Если оно чётное, то делим его на 2, а если нечётное, то умножаем на 3 и прибавляем 1 (получаем 3$n$ + 1). Над полученным числом выполняем те же самые действия, и так далее.\n",
        "\n",
        "Гипотеза Коллатца заключается в том, что какое бы начальное число $n$ мы ни взяли, рано или поздно мы получим единицу.\n",
        "\n",
        "Например для числа 3 сиракузской последовательностью будет являться: 3, 10, 5, 16, 8, 4, 2, 1\n",
        "\n",
        "Интересный факт: по состоянию на апрель 2019 года проверены все натуральные числа меньше чем 1 152 921 504 606 846 976 и каждое из них за конечное количество шагов соответствовало условиям Гипотезы Коллатца, поэтому самонадеянно будем считать что гипотеза Коллатца все-таки верна. \n",
        "\n",
        "Напишите консольную программу, которая будет принимать единственный аргумент $n$ (без имени или с именем -n), а программа печатает сиракузскую последовательность для этого числа до единицы включительно через запятую и пробел. \n",
        "\n",
        "Разделите текст вашей программы на составляющие: **как минимум** не смешивайте разбор аргументов и вычисление последовательности в одном месте: создайте функцию для подсчета последовательности.  \n",
        "\n",
        "Не забывайте про исключения: обработайте всевозможные потенциальные ошибочные ситуации в программе. **Программа должна корректно завершаться при любом вводе**\n",
        "\n",
        "**В качестве решения отправьте файл с программой на Anytask вместе с этим ноутбуком**"
      ]
    },
    {
      "cell_type": "code",
      "metadata": {
        "id": "yQH3Y2ZAHtKk",
        "outputId": "d09e2873-11af-4f66-ad17-484954377603",
        "colab": {
          "base_uri": "https://localhost:8080/",
          "height": 34
        }
      },
      "source": [
        "def check_arg(arg):\n",
        "    try:\n",
        "        float(arg)\n",
        "    except ValueError:\n",
        "        return False\n",
        "    return True\n",
        "\n",
        "\n",
        "def syracuse_problem(n: int):\n",
        "    if n == 1:\n",
        "        return n\n",
        "    elif n % 2 == 0:\n",
        "        return n // 2\n",
        "    else:\n",
        "        return 3 * n + 1\n",
        "\n",
        "\n",
        "if __name__ == '__main__':\n",
        "    n = input()\n",
        "    while not check_arg(n):\n",
        "        print('Введите число в верном формате, пожалуйста')\n",
        "        n = input()\n",
        "    n = int(float(n))\n",
        "    sequence = [n]\n",
        "    while n != 1:\n",
        "        n = syracuse_problem(n)\n",
        "        sequence.append(n)\n",
        "    print(', '.join(map(str, sequence)))\n",
        "    # with open('output.txt', 'w') as f:  # запись в файл удобнее, чем просто печать\n",
        "    #     print(', '.join(map(str, sequence)), file=f)"
      ],
      "execution_count": null,
      "outputs": [
        {
          "output_type": "stream",
          "text": [
            "25.\n"
          ],
          "name": "stdout"
        }
      ]
    },
    {
      "cell_type": "markdown",
      "metadata": {
        "id": "gQ44S6g09JGH"
      },
      "source": [
        "## Бонусная задача ''Мамкин пират''  (8 баллов)\n",
        "\n",
        "#### Как минимум прочитайте весь текст ниже, т.к в нем содержится теория про хэш-таблицы\n",
        "Вам предстоит довольно объемный, но очень интересный проект. Сделав его, вы в совершенстве научитесь работать с файлами и файловой системой. Кроме того, вы познакомитесь с такими важными понятиями как хэш-функция и хэш-таблица"
      ]
    },
    {
      "cell_type": "markdown",
      "metadata": {
        "id": "o-jloWgC9JGI"
      },
      "source": [
        "Представьте, что вы - активный пользователь интернета и частенько качаете разные файлы (фильмы, картинки, музыку) с пиратских сайтов. Но вы немного боитесь, что однажды кто-то случайно зайдет в вашу папочку и найдет там самые разные НЕЛИЦЕНЗИОННЫЕ файлы. Вы не собираетесь допускать этого и собираетесь сделать настоящее испытание такому лазутчику, чтобы он точно не нашел ваши фильмецы.  \n",
        "Вы хотите написать консольную программу которая на вход будет принимать название файла и переносить его в спрятанную папочку, закопанную глубоко далеко в иеархии папок, параллельно создавая кучу других тупиковых папок. В общем, подробности поймете позже, а пока потихоньку приступим создавать наш софт"
      ]
    },
    {
      "cell_type": "markdown",
      "metadata": {
        "id": "b21Oatu_9JGJ"
      },
      "source": [
        "### Подзадача 1 (3 балла)\n",
        "Не долго думая вы решили создавать \"папковое дерево\" следующим образом:\n",
        "У вас есть два параметра: depth - количество уровней папок и width - количество папок на каждом уровне. И вы хотите создать стуктуру из папок, следуя логике из картинки ниже. **(1 балл)**\n",
        "![Папки1](Папки.jpg \"Папки1\")\n",
        "Да-да, всего создается $\\sum\\limits_{i=0}^{depth}width^i = \\frac{width^{depth+1}-1}{width-1}$ - количество папок растет экспоненциально"
      ]
    },
    {
      "cell_type": "code",
      "metadata": {
        "id": "UA5TYHrd9JGK"
      },
      "source": [
        "def create_simple_forest_of_folders(depth=5, width=6, root=\"\"): #в root находится путь до корня дерева. \n",
        "                                                                #Вдруг ваша структура лежит не в папке с этим ноутбуком\n",
        "    #ваш код здесь\n",
        "    import os \n",
        "    if depth == 0:\n",
        "        return\n",
        "    else:\n",
        "        os.chdir(root)\n",
        "        for i in range(width):\n",
        "            new_root = root + '/' + str(i + 1)\n",
        "            if not os.path.exists(new_root):\n",
        "                os.mkdir(new_root) \n",
        "            if depth > 1:\n",
        "                create_simple_forest_of_folders(depth=depth - 1, width=width, root=new_root)\n",
        "\n",
        "\n",
        "# if __name__ == '__main__':\n",
        "#     create_simple_forest_of_folders(depth=2, width=4, root=\"C:/Users/Сергей/Desktop\")"
      ],
      "execution_count": null,
      "outputs": []
    },
    {
      "cell_type": "markdown",
      "metadata": {
        "id": "CZgya85m9JGO"
      },
      "source": [
        "Теперь вы можете создать папковое дерево желаемого, достаточно большого объема.\n",
        "Теперь вы будете прятать ваш файл в случайную папку. \n",
        "Реализуйте функцию save_file_simple_forest(file_name, depth, width), которая будет перемещать указанный файл в случайную папку вашего леса. Как именно вы будете выбирать случайную папку - не особенно важно, главное, чтобы ваш подход был адекватен (можно равномерно во все папки, можно чем ниже папка, тем больше вероятность попадания в нее и т.д) **(1 балл)**"
      ]
    },
    {
      "cell_type": "code",
      "metadata": {
        "id": "oXlmiZAc9JGP"
      },
      "source": [
        "def save_file_simple_forest(file_name, depth, width, root=\"\"):\n",
        "    #ваш код здесь\n",
        "    create_simple_forest_of_folders(depth=depth, width=width, root=root)\n",
        "    import os, random, shutil\n",
        "    rand_depth = random.randint(0, depth)\n",
        "    folder_coord = [str(random.randint(1, width)) for _ in range(rand_depth)]\n",
        "    saving_dir = root + '/' + '/'.join(folder_coord)\n",
        "    os.chdir(root)\n",
        "    new_path = shutil.move(file_name, saving_dir)\n",
        "    return new_path\n",
        "\n",
        "# if __name__ == '__main__':\n",
        "#     save_file_simple_forest('output.txt', depth=2, width=4, root=\"C:/Users/Сергей/Desktop\")"
      ],
      "execution_count": null,
      "outputs": []
    },
    {
      "cell_type": "markdown",
      "metadata": {
        "id": "od3cdcl19JGT"
      },
      "source": [
        "Ну, теперь вы можете прятать свои файлы, но как насчет их обратного получения? Вы перемещали файлы по папкам случайно, никуда не записывая новые пути файлов. Поэтому для поиска нужного файла, вам придется обходить все дерево, пока не найдете нужный файл. Реализуйте функцию, которая будет находить файл по его названию и возвращать путь до него. **(1 балл)**"
      ]
    },
    {
      "cell_type": "code",
      "metadata": {
        "id": "MlILZgzb9JGT"
      },
      "source": [
        "def find_file_simple_forest(file_name, root):\n",
        "    #ваш код здесь\n",
        "    import os\n",
        "    for current_dir, dirs, files in os.walk(root):\n",
        "        if file_name in files:\n",
        "          return current_dir\n",
        "\n",
        "\n",
        "# if __name__ == '__main__':\n",
        "#     save_file_simple_forest('output.txt', depth=2, width=4, root=\"C:/Users/Сергей/Desktop\")\n",
        "#     find_file_simple_forest('output.txt', \"C:/Users/Сергей/Desktop\")"
      ],
      "execution_count": null,
      "outputs": []
    },
    {
      "cell_type": "markdown",
      "metadata": {
        "id": "1nKWM7Tp9JGZ"
      },
      "source": [
        "### Подзадача 2 (1 балл)\n",
        "Все, конечно, здорово, но программа будет работать оооочень медленно при большой глубине и ширине дерева. А если они маленькие, то вообще какой смысл городить весь этот огород? Надо искать файл как-то быстрее. Например, для этого при перемещении можно записывать для каждого файла его новый путь. Более того, можно сохранять о файле какую-то дополнительную информацию."
      ]
    },
    {
      "cell_type": "markdown",
      "metadata": {
        "id": "ach4RuOT9JGa"
      },
      "source": [
        "Реализуйте функцию save_file_simple_forest_memory(file_name, depth, width, params=None, root=\"\", library_file=\"library\") - которая дозаписывает в некоторый файл library_file информацию в формате json о файле с именем file_name: его новый путь, а также данные из словаря params, если они есть. Реализуйте функцию find_file_simple_forest_memory(file_name, root, library_file), которая будет возвращать путь до требуемого файла **(1 балл)**"
      ]
    },
    {
      "cell_type": "code",
      "metadata": {
        "id": "jHt6cNfC9JGb"
      },
      "source": [
        "def save_file_simple_forest_memory(file_name, depth, width, params=None, root=\"\", library_file=\"library\"):\n",
        "    #ваш код здесь\n",
        "    new_path = save_file_simple_forest(file_name, depth, width, root=root)\n",
        "    data = {file_name: [new_path, params]} if params is not None else {file_name: [new_path]}\n",
        "    import json\n",
        "    with open(library_file, 'a') as out:\n",
        "        json.dump(data, out)\n",
        "        out.write('\\n')\n",
        "\n",
        "def find_file_simple_forest_memory(file_name, root, library_file):\n",
        "    #ваш код здесь\n",
        "    import json \n",
        "    path = ''\n",
        "    with open(library_file, 'r') as memory:\n",
        "        for line in memory:\n",
        "            data = json.loads(line)\n",
        "            if file_name in data:\n",
        "                path = data[file_name][0]\n",
        "    return path"
      ],
      "execution_count": null,
      "outputs": []
    },
    {
      "cell_type": "markdown",
      "metadata": {
        "id": "CSh6MZwV9JGf"
      },
      "source": [
        "### Подзадача 3 (4 балла)\n",
        "Правда... какой снова в ней смысл, если все пути лежат в открытую в каком-то файле. Вот если бы новый путь однозначно получался бы из самого имени файла.. Давайте так и сделаем!"
      ]
    },
    {
      "cell_type": "markdown",
      "metadata": {
        "id": "w27A5H1M9JGg"
      },
      "source": [
        "Давайте напишем какую-нибудь просто вычислимую функцию от имени файла, но такую, чтобы ее ответ зависел только от самого имени (никакой случайности), но при этом сама функция имела бы сложный смысл для человека. Еще, хотелось бы чтобы область значений такой функции была ограниченной и заранее нами известной. Например, пусть наша функция склеивает все ASCII коды символов, входящие в имя файла, в единое число и возвращает полученное число по модулю другого какого-то фиксированного числа (например, 10000000)"
      ]
    },
    {
      "cell_type": "code",
      "metadata": {
        "id": "WsVuo4p99JGg"
      },
      "source": [
        "def my_hash(string):\n",
        "    #ваш код здесь\n",
        "    return int(''.join([str(ord(x)) for x in string])) % 10000000"
      ],
      "execution_count": null,
      "outputs": []
    },
    {
      "cell_type": "code",
      "metadata": {
        "id": "CTWXFLpoaV5G",
        "outputId": "10008bf3-f301-4910-9185-32fe4dabfaeb",
        "colab": {
          "base_uri": "https://localhost:8080/",
          "height": 34
        }
      },
      "source": [
        "my_hash('abacaba')"
      ],
      "execution_count": null,
      "outputs": [
        {
          "output_type": "execute_result",
          "data": {
            "text/plain": [
              "9979897"
            ]
          },
          "metadata": {
            "tags": []
          },
          "execution_count": 36
        }
      ]
    },
    {
      "cell_type": "markdown",
      "metadata": {
        "id": "H-mvS73b9JGk"
      },
      "source": [
        "На самом деле, вы только что написали свою хэш-функцию. Хэш функции преобразуют массивы данных произвольной длины в выходную строку установленной длины. У хэш-функций есть огромное применение. Например можно проверять равенство двух огромных массивов информации не побитово, а просто сравнив их хэшы. Если они совпадают, то с маленькой вероятностью файлы в действительности отличаются.  \n",
        "\n",
        "Хорошая хэш функция должна распределять свой выход равномерно (например, чтобы 0 не выпадал в разы чаще 1, ведь тогда может оказаться, что мы все данные кладем не в один из N \"ящичков\", а по сути в намного более малое количество. Здесь N - количество всевозможных значений хэш функции). Будет не очень хорошо, если хэш функция принимает значения 1,2,3,4,5, при этом половине возможных входов она возвращает 1, еще трети - 2, а остальной мизер как-то разбрасывается на 3,4 и 5. Тогда равенство хэшей уже как-то не особо много чего значит.  \n",
        "\n",
        "Также хорошо, чтобы хэш функция была очень чувствительна к малым изменениям входа, т.е к изменениям в малом количестве элементов. Действительно, если строки \"Hello, my dear student\" и \"Скачать Шрека без регистрации и смс\" имеют одинаковый хэш, это лучше, чем равные хэши имеют строки \"Shrek1\" и \"Shrek2\" или \"3443645634655243524531542435245\" и \"3443645634055243524531542435245\". Сравнивая элементы посредством сравнения их хэшей, мы все же сравниваем скорее всего очень похожие объекты, если не одинаковые. Вряд ли мы будем сравнивать совсем разные вещи.  Совпадение значений хеш функций у различных объектов называется коллизией.\n",
        "\n",
        "Хэш-функция выше, на самом деле, довольно плохая. У нее есть четко выраженный пик, ее распредление на области значений далеко от равномерного, к тому же не масштабируется\n",
        "\n",
        "Именно посредством хэшей ваш компьютер определяет, что скачал нужную информацию и она не повредилась в процессе получения"
      ]
    },
    {
      "cell_type": "markdown",
      "metadata": {
        "id": "vqQ_Ikv39JGl"
      },
      "source": [
        "## Хеш-таблицы\n",
        "На основе хэшей строятся такие структуры данных, как хэш-таблицы. В самом простом случае, хэш таблицу можно представить себе как словарь листов, с ключами - всевозможными зачениями хеш-функции.  Тогда добавление нового элемента в хэш-таблицу по своему ключу представляет собой вычисление на ЭТОМ КЛЮЧЕ хэш функции и добавление в соответсвтующий список ПАРЫ ключ-элемент.  \n",
        "Для нахождения в хэш-таблице элемента по его ключу сначала вычисляется значение хэш функции на этом ключе, затем происходит поиск равенства нашего искомого ключа с хранимыми ключами в соответствующем хешу списке."
      ]
    },
    {
      "cell_type": "markdown",
      "metadata": {
        "id": "_UCOnpkd9JGm"
      },
      "source": [
        "![Хэш-таблица](570px-Hash_table_5_0_1_1_1_1_1_LL.svg.png \"Хэш-таблица\")\n",
        "Например здесь, для каждого человека мы хотим сохранить его номер (паспортные данные, например). Ключом являются его фамилия-имя, затем мы вычисляем хэш и записываем в соответствующую ячейку таблицы пару ФИО-номер паспорта. Для поиска папортных данных для требуемого человека, вычислим хэш от его ФИО, перейдем в требуемую ячейку и последоватеьно поищем сохраненное ФИО. Если список закончился, а элемент так и не нашелся, то значит его и нет в таблице."
      ]
    },
    {
      "cell_type": "markdown",
      "metadata": {
        "id": "q46nyy759JGm"
      },
      "source": [
        "Хэш таблицы позволяют очень быстро добавлять, удалять и вставлять элементы. Ведь мы перебираем не все возможные сохраненные элементы, а только их малую часть (если хорошая хэш функция принимает 1000 различных значений, то мы в среднем поищем только в одной тысячной от всей базы данных)"
      ]
    },
    {
      "cell_type": "markdown",
      "metadata": {
        "id": "pQ6p5i7g9JGn"
      },
      "source": [
        "На самом деле, можно, чтобы хэш функция возвращала не одно, а сразу несколько хэш-значений (само их количество может быть не ограничено и не фиксировано, а вот область значений КАЖДОГО из хэш-значения должна быть ограничена). Тогда такую хэш таблицу можно представлять, как будто мы последовательно идем по нашим хэш-ключам. Тогда эффективность хранения (а значит и обработки) данных растет экспоненциально."
      ]
    },
    {
      "cell_type": "markdown",
      "metadata": {
        "id": "dCEFTxVe9JGo"
      },
      "source": [
        "Т.е у нас есть словарь, значениями каждого из них могут быть также словари, и у них могут быть свои словари и т.д. Например для \"Петр Николаевич\" мы получили хэш значения 2, 3. Тогда мы идем сначала по ключу 2, потом в 3, и уже в этом словаре, переходим в его значения и ищем Петра Николаевича и его паспорт. Для Владимира Владимировича получили хэш значения 2, 3, 1 - действуем аналогично. А вот для Праскофьи Ивановны мы получили значения 3, 4. Но у словаря 3 нет даже своего подсловаря 4. Так что Праскофьи Ивановны в таблице нет. Как нет и Александра Николаевчиа с хэшом 3\n",
        "![Хэш-таблица](My_hash.jpg \"Хэш-таблица\")\n",
        "Если в хэш таблицах осталось что-то неясно, почитайте дополнительно в интернете о них  \n",
        "В языке Python словари dict и множества set и построены на основе хэш-таблиц. Теперь вы понимаете, почему от их объектов (ключей для словарей, т.к только по ключам идет поиск) должна браться функция hash "
      ]
    },
    {
      "cell_type": "markdown",
      "metadata": {
        "id": "okbuib3B9JGp"
      },
      "source": [
        "В python уже встроена хорошая хэш-функция hash() - далее пользуйтесь ей. Для нас хэш таблицей будет являться сама файловая система. Мы будем создавать подпапки в папках вместо словарей. Тогда реализуйте save_file_hash_table(file_name, depth=5, root=\"\") и find_file_hash_table(file_name, depth, root=\"\") таким образом: для file_name вычисляется значение функции hash() % (10 \\*\\* depth). Т.е теперь наши хэши имеют максимум depth разрядов. А теперь для полученного числа создаем (если их уже нет) папки для каждой последовательной цифры. В последнюю папку сохраняем сам файл (или проверяем его нахождение там). Т.е например, если для \"Shrek\" значение hash(\"Shrek\") % (10 \\*\\* 4) == 778 (заметьте, число получилось меньше, чем 4х разрядное), то мы сохраним файл Shrek.avi в папки \"7/7/8\"  \n",
        "Созайте собственное исключение NoFileInMyLibrary - которое будет подниматься, если искомого файла нет в нашей структуре. **(3 балла)**"
      ]
    },
    {
      "cell_type": "code",
      "metadata": {
        "id": "GCTIOFSf9JGp"
      },
      "source": [
        "#ваш код здесь\n",
        "# хеш питона по-видимому при перезапуске выдает рандомные значения, поэтому\n",
        "# я вставил хеш из наших прошлогодних контестов (полиномиальный)\n",
        "# https://github.com/Sergei-Volkov/informatics_contests/blob/master/contest_14_hashes.ipynb\n",
        "def myHash(string, base=91, mod=1000000321):\n",
        "    \"\"\"\n",
        "    Function calculating hash-function of string with certain base by mod.\n",
        "    \"\"\"\n",
        "    value = 0\n",
        "    for pos, elem in enumerate(string[::-1]):  # считаем значение полинома\n",
        "        value += ord(elem) * base**pos         # в последней задаче сделано с помощью массива (динамика)\n",
        "    return value % mod\n",
        "\n",
        "\n",
        "def calculate_saving_directory(file_name, depth, root):\n",
        "    hashValue = myHash(file_name) % (10 ** depth)\n",
        "    folders = [digit for digit in str(hashValue)]\n",
        "    saving_dir = root + '/' + '/'.join(folders)\n",
        "    return folders, saving_dir\n",
        "\n",
        "\n",
        "def save_file_hash_table(file_name, depth=5, root=\"\"):\n",
        "    folders, saving_dir = calculate_saving_directory(file_name.split('.')[0], depth, root)\n",
        "    create_simple_forest_of_folders(depth=depth, width=max(map(int, folders)), root=root)\n",
        "    import os, shutil\n",
        "    os.chdir(root)\n",
        "    new_path = shutil.move(file_name, saving_dir)\n",
        "    return new_path\n",
        "\n",
        "\n",
        "class NoFileInMyLibrary(Exception):\n",
        "    pass\n",
        "\n",
        "\n",
        "def find_file_hash_table(file_name, depth, root=\"\"):\n",
        "    _, saving_dir = calculate_saving_directory(file_name.split('.')[0], depth, root)\n",
        "    import os\n",
        "    try:\n",
        "        if os.path.exists(saving_dir + '/' + file_name):\n",
        "            return saving_dir\n",
        "        else:\n",
        "            raise NoFileInMyLibrary()\n",
        "    except NoFileInMyLibrary: \n",
        "        print('Такого файла нет')"
      ],
      "execution_count": 3,
      "outputs": []
    },
    {
      "cell_type": "markdown",
      "metadata": {
        "id": "8BbCmPWA9JGt"
      },
      "source": [
        "Осталось только создать красивую консольную программку. Напишите единую программу на основе 2х предыдущих функций, которая принимает 2 параметра. Первый слово \"save\" или \"open\", второе - имя файла. В случае save программа должна корректно сохранить файл, в случае open - корректно открыть нужный файл. Если файл не найден, программа все равно должна корректно отработать и сообщить об отсутствии файла **(1 балл)**"
      ]
    },
    {
      "cell_type": "code",
      "metadata": {
        "id": "KoYaPRTn9JGu"
      },
      "source": [
        "#ваш код\n",
        "def create_simple_forest_of_folders(depth=5, width=6, root=\"\"): #в root находится путь до корня дерева. \n",
        "                                                                #Вдруг ваша структура лежит не в папке с этим ноутбуком\n",
        "    #ваш код здесь\n",
        "    import os \n",
        "    if depth == 0:\n",
        "        return\n",
        "    else:\n",
        "        os.chdir(root)\n",
        "        for i in range(width):\n",
        "            new_root = root + '/' + str(i + 1)\n",
        "            if not os.path.exists(new_root):\n",
        "                os.mkdir(new_root) \n",
        "            if depth > 1:\n",
        "                create_simple_forest_of_folders(depth=depth - 1, width=width, root=new_root)\n",
        "\n",
        "\n",
        "def myHash(string, base=91, mod=1000000321):\n",
        "    \"\"\"\n",
        "    Function calculating hash-function of string with certain base by mod.\n",
        "    \"\"\"\n",
        "    value = 0\n",
        "    for pos, elem in enumerate(string[::-1]):  # считаем значение полинома\n",
        "        value += ord(elem) * base**pos         # в последней задаче сделано с помощью массива (динамика)\n",
        "    return value % mod\n",
        "\n",
        "\n",
        "def calculate_saving_directory(file_name, depth, root):\n",
        "    hashValue = myHash(file_name) % (10 ** depth)\n",
        "    folders = [digit for digit in str(hashValue)]\n",
        "    saving_dir = root + '/' + '/'.join(folders)\n",
        "    return folders, saving_dir\n",
        "\n",
        "\n",
        "def save_file_hash_table(file_name, depth=5, root=\"\"):\n",
        "    folders, saving_dir = calculate_saving_directory(file_name.split('.')[0], depth, root)\n",
        "    create_simple_forest_of_folders(depth=depth, width=max(map(int, folders)), root=root)\n",
        "    import os, shutil\n",
        "    os.chdir(root)\n",
        "    new_path = shutil.move(file_name, saving_dir)\n",
        "    return new_path\n",
        "\n",
        "\n",
        "class NoFileInMyLibrary(Exception):\n",
        "    pass\n",
        "\n",
        "\n",
        "def find_file_hash_table(file_name, depth, root=\"\"):\n",
        "    _, saving_dir = calculate_saving_directory(file_name.split('.')[0], depth, root)\n",
        "    import os\n",
        "    try:\n",
        "        if os.path.exists(saving_dir + '/' + file_name):\n",
        "            return saving_dir\n",
        "        else:\n",
        "            raise NoFileInMyLibrary()\n",
        "    except NoFileInMyLibrary: \n",
        "        print('Такого файла нет')\n",
        "\n",
        "\n",
        "if __name__ == '__main__':\n",
        "    command = input()\n",
        "    while command not in ['save', 'open']:\n",
        "        print('Эта программа умеет только сохранять (\"save\") файлы и открывать их (\"open\")')\n",
        "        print('Введите команду еще раз')\n",
        "        command = input()\n",
        "    else:\n",
        "        file = input()\n",
        "        import os\n",
        "        if command == 'save':\n",
        "            save_file_hash_table(file, depth=2, root=os.getcwd())\n",
        "        elif command == 'open':\n",
        "            find_file_hash_table(file, depth=2, root=os.getcwd())"
      ],
      "execution_count": null,
      "outputs": []
    },
    {
      "cell_type": "markdown",
      "metadata": {
        "id": "LbC3fwM69JGy"
      },
      "source": [
        "Теперь просто скопируйте содержимое предыдущих ячеек в новый файл с форматом .py чтобы иметь возможность запускать вашу программу из консоли.  \n",
        "?? Вы великолепны! Теперь никто не сможет найти вашего Шрека!)"
      ]
    },
    {
      "cell_type": "markdown",
      "metadata": {
        "id": "pQoo1BGe9JGz"
      },
      "source": [
        "PS Отправьте полученную программу вместе с этим ноутбуком на проверку. Убедитесь, что ваша программа корректно работает при сохранении нескольких файлов, что она не вылетает при попытки создания уже созданных папок, и проч"
      ]
    }
  ]
}