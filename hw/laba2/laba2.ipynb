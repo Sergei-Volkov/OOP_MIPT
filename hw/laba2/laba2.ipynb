{
 "cells": [
  {
   "cell_type": "markdown",
   "metadata": {},
   "source": [
    "# Домашняя работа №2 (Курс \"Advanced Python\")\n",
    "## ФИО: Волков Сергей Андреевич"
   ]
  },
  {
   "cell_type": "markdown",
   "metadata": {},
   "source": [
    "**Тема:** Github, lambdas, collections  \n",
    "**Выдана:** 8 сентября  \n",
    "**Мягкий дедлайн:** 15 сентября   \n",
    "**Жесткий дедлайн:** 22 сентября   "
   ]
  },
  {
   "cell_type": "markdown",
   "metadata": {},
   "source": [
    "**Правила:**\n",
    "Результат выполнения задания - отчет в формате Jupyter Notebook с кодом и выводами. В ходе выполнения задания требуется реализовать все необходимые алгоритмы, провести эксперименты и ответить на поставленные вопросы. Дополнительные выводы приветствуются. Чем меньше кода и больше комментариев - тем лучше.\n",
    "\n",
    "Все ячейки должны быть \"выполненными\", при этом результат должен воспроизвдиться при проверке.\n",
    "\n",
    "Задание выполняется самостоятельно. **Если вы нашли в Интернете какой-то код, который собираетесь заимствовать, обязательно укажите это в задании.** Если вы советовались с товарищем и/или позаимствовали его решение, обязательно укажите об этом в отчете. Нет ничего плохого в том, что вы пытаетесь разобраться и помогаете друг другу; плохо - когда вы скрываете это и выдаете чужие заслуги за свои. При обнаружении списывания ВСЕМ студентам, имеющим одинаковые списанные решения будет выставлен ОТРИЦАТЕЛЬНЫЙ балл (т.е если задача стоит 4 балла, вы получите не 0, а -4), \"оригинал\" искаться не будет\n",
    "\n",
    "Задание, сданное после жесткого дедлайна, не принимается."
   ]
  },
  {
   "cell_type": "markdown",
   "metadata": {},
   "source": [
    "### Задание 0:\n",
    "Внимательно прочитайте материалы с http://cs.mipt.ru/advanced_python/lessons/lab2.html, которые я не стал рассказывать на семинаре. Задания в конце страницы выполнять не нужно"
   ]
  },
  {
   "cell_type": "markdown",
   "metadata": {},
   "source": [
    "### Задание 1: создание своего профиля на Github (3 балла)\n",
    "Создайте свой профиль на github.  \n",
    "Склонируйте репозиторий https://github.com/EbookFoundation/free-programming-books в свой репозиторий под именем Clonned  \n",
    "Создайте свой репозиторий под любым названием.   \n",
    "В новую ветку в свой репозиторий загрузите текстовый файл вида \"Your_last_name.txt\", в котором записано ваше имя (например, файл \"Plyusnin.txt\" с содержимым \"Павел\")  \n",
    "Следующим коммитом добавьте в файл фамилию до имени (теперь содержимое \"Плюснин Павел\")  \n",
    "Найдите, где в интерфейсе гитхаба можно просмотреть историю коммитов. Посмотрите на ваши изменения, сравните две версии файла: до правки с фамилией и после нее"
   ]
  },
  {
   "cell_type": "code",
   "execution_count": 4,
   "metadata": {},
   "outputs": [],
   "source": [
    "### укажите ссылку на ваш репозиторий и на склоннированный Clonned"
   ]
  },
  {
   "cell_type": "markdown",
   "metadata": {},
   "source": [
    "https://github.com/Sergei-Volkov/test\n",
    "\n",
    "https://github.com/Sergei-Volkov/Clonned"
   ]
  },
  {
   "cell_type": "markdown",
   "metadata": {
    "collapsed": true
   },
   "source": [
    "### Задание 2: (1 балл)\n",
    "Пользуясь только функцией sorted, в одну строку, найдите 5 ключей с самыми высокими значениями в словаре dictionary:"
   ]
  },
  {
   "cell_type": "code",
   "execution_count": 26,
   "metadata": {},
   "outputs": [
    {
     "name": "stdout",
     "output_type": "stream",
     "text": [
      "652 391 629 268 125\n"
     ]
    }
   ],
   "source": [
    "import numpy as np\n",
    "# np.random.seed(111)\n",
    "dictionary = {x: np.random.randn() for x in range(1000)}\n",
    "\n",
    "# ваш код здесь\n",
    "print(*sorted(dictionary, key=lambda k: dictionary[k], reverse=True)[:5])"
   ]
  },
  {
   "cell_type": "markdown",
   "metadata": {},
   "source": [
    "### Задание 3: (1 балл)\n",
    "Используя zip, напишите функцию print_pascal(n), которая выводит первые n строк треугольника Паскаля.  \n",
    "**Подсказка:** Треугольник Паскаля выглядит следующим образом: его первая строка состоит только из единицы. N-ая строка по размерности на 2 большей N-1 строки. Каждый элемент N строки получается из суммы двух соответствующих элементов над ним (для двух крайних чисел можно считать, что N-1 строка на самом деле имеет ту же размерность, что и N, просто самым левым и самым правым элементом являются 0)"
   ]
  },
  {
   "cell_type": "code",
   "execution_count": 33,
   "metadata": {},
   "outputs": [
    {
     "name": "stdout",
     "output_type": "stream",
     "text": [
      "1\n",
      "1 1\n",
      "1 2 1\n",
      "1 3 3 1\n",
      "1 4 6 4 1\n",
      "1 5 10 10 5 1\n"
     ]
    }
   ],
   "source": [
    "def print_pascal(n):\n",
    "    row = [1]\n",
    "    for x in range(max(n, 0)):\n",
    "        print(*row)\n",
    "        row = [el1 + el2 for el1, el2 in zip([0] + row, row + [0])]  # ваша строка кода здесь\n",
    "    return\n",
    "\n",
    "\n",
    "print_pascal(6) "
   ]
  },
  {
   "cell_type": "markdown",
   "metadata": {},
   "source": [
    "### Задание 4: (1 балл)\n",
    "Напишите в одну строчку функцию, которая складывает цифры натурального числа"
   ]
  },
  {
   "cell_type": "code",
   "execution_count": 64,
   "metadata": {},
   "outputs": [
    {
     "data": {
      "text/plain": [
       "10"
      ]
     },
     "execution_count": 64,
     "metadata": {},
     "output_type": "execute_result"
    }
   ],
   "source": [
    "def sum_digits(n):\n",
    "    return sum([int(digit) for digit in str(n)])  # ваша строка кода\n",
    "\n",
    "\n",
    "sum_digits(1234)"
   ]
  },
  {
   "cell_type": "markdown",
   "metadata": {},
   "source": [
    "### Задание 5: (1 балл)\n",
    "Напишите функцию, которая принимает текст и выводит два числа: самое длинное слово, и наиболее часто встречающееся. \n",
    "Вспомните, что мы проходили на семинаре ;)"
   ]
  },
  {
   "cell_type": "code",
   "execution_count": 57,
   "metadata": {},
   "outputs": [
    {
     "name": "stdout",
     "output_type": "stream",
     "text": [
      "The longest word : circumstances\n",
      "The most frequent word : of\n"
     ]
    }
   ],
   "source": [
    "#ваш код здесь\n",
    "import re\n",
    "import string\n",
    "\n",
    "\n",
    "def longest_and_most_frequent_word(text):\n",
    "    # https://stackoverflow.com/questions/6181763/converting-a-string-to-a-list-of-words\n",
    "    bag = re.sub('['+string.punctuation+']', '', text).split()  # re - regular expressions библиотека, удаляем \n",
    "    freqs = {word: bag.count(word) for word in set(bag)}  # с ее помощью пунктуацию в тексте и создаем мешок слов\n",
    "    longest_word = sorted(freqs, key=lambda k: len(k), reverse=True)[0]\n",
    "    most_frequent_word = sorted(freqs, key=lambda k: freqs[k], reverse=True)[0]\n",
    "    return longest_word, most_frequent_word\n",
    "\n",
    "\n",
    "text = \"But I must explain to you how all this mistaken idea of denouncing pleasure and praising pain was born and I will give you a complete account of the system, and expound the actual teachings of the great explorer of the truth, the master-builder of human happiness. No one rejects, dislikes, or avoids pleasure itself, because it is pleasure, but because those who do not know how to pursue pleasure rationally encounter consequences that are extremely painful. Nor again is there anyone who loves or pursues or desires to obtain pain of itself, because it is pain, but because occasionally circumstances occur in which toil and pain can procure him some great pleasure. To take a trivial example, which of us ever undertakes laborious physical exercise, except to obtain some advantage from it? But who has any right to find fault with a man who chooses to enjoy a pleasure that has no annoying consequences, or one who avoids a pain that produces no resultant pleasure?\"\n",
    "print(\n",
    "    'The longest word : {}\\nThe most frequent word : {}'.format(*longest_and_most_frequent_word(text))\n",
    ")"
   ]
  },
  {
   "cell_type": "markdown",
   "metadata": {},
   "source": [
    "### Задание 6: функция возвращает функции! (2 балла)\n",
    "\n",
    "Реализуйте функцию checker_mod(x, mod=0), возвращающую лямбда функцию от одного аргумента y, которая будет возвращать True, если остаток от деления y на x равен mod, и False иначе.\n",
    "\n",
    "Пример использования:\n",
    "```python3\n",
    "mod_2 = checker_mod(2)\n",
    "\n",
    "print(mod_2(3)) # False\n",
    "print(mod_2(4)) # True\n",
    "\n",
    "mod_2_1 = checker_mod(2, 1)\n",
    "print(mod_2_1(3)) # True\n",
    "```"
   ]
  },
  {
   "cell_type": "code",
   "execution_count": 62,
   "metadata": {},
   "outputs": [
    {
     "name": "stdout",
     "output_type": "stream",
     "text": [
      "False\n",
      "True\n",
      "True\n"
     ]
    }
   ],
   "source": [
    "#ваш код здесь\n",
    "def checker_mod(x, mod=0):\n",
    "    return lambda y: True if y % x == mod else False\n",
    "\n",
    "\n",
    "mod_2 = checker_mod(2)\n",
    "\n",
    "print(mod_2(3)) # False\n",
    "print(mod_2(4)) # True\n",
    "\n",
    "mod_2_1 = checker_mod(2, 1)\n",
    "print(mod_2_1(3)) # True"
   ]
  }
 ],
 "metadata": {
  "kernelspec": {
   "display_name": "Python 3",
   "language": "python",
   "name": "python3"
  },
  "language_info": {
   "codemirror_mode": {
    "name": "ipython",
    "version": 3
   },
   "file_extension": ".py",
   "mimetype": "text/x-python",
   "name": "python",
   "nbconvert_exporter": "python",
   "pygments_lexer": "ipython3",
   "version": "3.8.2"
  }
 },
 "nbformat": 4,
 "nbformat_minor": 2
}
