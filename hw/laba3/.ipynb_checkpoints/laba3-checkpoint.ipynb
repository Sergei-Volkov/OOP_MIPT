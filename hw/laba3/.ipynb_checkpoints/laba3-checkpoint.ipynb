{
 "cells": [
  {
   "cell_type": "markdown",
   "metadata": {},
   "source": [
    "# Домашняя работа №3 (Курс \"Advanced Python\")\n",
    "## ФИО: Волков Сергей Андреевич"
   ]
  },
  {
   "cell_type": "markdown",
   "metadata": {},
   "source": [
    "**Тема:** Объекты и функции в Python  \n",
    "**Выдана:** 16.09  \n",
    "**Мягкий дедлайн:**  23.09  \n",
    "**Жесткий дедлайн:**  30.09  "
   ]
  },
  {
   "cell_type": "markdown",
   "metadata": {},
   "source": [
    "Правила: Результат выполнения задания - отчет в формате Jupyter Notebook с кодом и выводами. В ходе выполнения задания требуется реализовать все необходимые алгоритмы, провести эксперименты и ответить на поставленные вопросы. Дополнительные выводы приветствуются. Чем меньше кода и больше комментариев - тем лучше.\n",
    "\n",
    "Все ячейки должны быть \"выполненными\", при этом результат должен воспроизвдиться при проверке.\n",
    "\n",
    "Задание выполняется самостоятельно. Если вы нашли в Интернете какой-то код, который собираетесь заимствовать, обязательно укажите это в задании. Если вы советовались с товарищем и/или позаимствовали его решение, обязательно укажите об этом в отчете. Нет ничего плохого в том, что вы пытаетесь разобраться и помогаете друг другу; плохо - когда вы скрываете это и выдаете чужие заслуги за свои. При обнаружении списывания ВСЕМ студентам, имеющим одинаковые списанные решения будет выставлен ОТРИЦАТЕЛЬНЫЙ балл (т.е если задача стоит 4 балла, вы получите не 0, а -4), \"оригинал\" искаться не будет\n",
    "\n",
    "Задание, сданное после жесткого дедлайна, не принимается."
   ]
  },
  {
   "cell_type": "markdown",
   "metadata": {},
   "source": [
    "### Упражнение 1:\n",
    "Еще раз поиграемся с объектами. Напишите, что выведет код ниже, не запуская его"
   ]
  },
  {
   "cell_type": "markdown",
   "metadata": {},
   "source": [
    "```python\n",
    "x = [1,2,3,4]\n",
    "y = x\n",
    "z = x * 2\n",
    "w = [1,2,3,4]\n",
    "print(x == w)\n",
    "print(x is w)\n",
    "\n",
    "x[0] = 4\n",
    "print(y)\n",
    "print(z)\n",
    "\n",
    "z[0] = 5\n",
    "print(z)\n",
    "\n",
    "x = [[1],[2],[3],[4]]\n",
    "z = x * 2\n",
    "x[0] = [4]\n",
    "print(z)\n",
    "\n",
    "z[0].append(3)\n",
    "print(z)\n",
    "\n",
    "z[0] = [5]\n",
    "print(z)\n",
    "\n",
    "s = \"123\"\n",
    "t = s\n",
    "s = t + \"4\"\n",
    "print(t)\n",
    "```"
   ]
  },
  {
   "cell_type": "markdown",
   "metadata": {},
   "source": [
    "Ваш ответ"
   ]
  },
  {
   "cell_type": "markdown",
   "metadata": {},
   "source": [
    "```python\n",
    "True\n",
    "False\n",
    "[4, 2, 3, 4]\n",
    "[1, 2, 3, 4, 1, 2, 3, 4]\n",
    "[5, 2, 3, 4, 1, 2, 3, 4]\n",
    "[[1], [2], [3], [4], [1], [2], [3], [4]]\n",
    "[[1, 3], [2], [3], [4], [1, 3], [2], [3], [4]]\n",
    "[[5], [2], [3], [4], [1, 3], [2], [3], [4]]\n",
    "\"123\"\n",
    "```"
   ]
  },
  {
   "cell_type": "markdown",
   "metadata": {},
   "source": [
    "Запустите код сверху и проверьте ваши предположения. Если вы где-то ответили неверно, обязательно разберитесь в причинах! Понимание этой темы очень важно.  \n",
    "Для визуализации создаваемых объектов можете воспользоваться http://www.pythontutor.com/visualize.html#mode=display . Надеюсь, поможет разобраться)"
   ]
  },
  {
   "cell_type": "code",
   "execution_count": 1,
   "metadata": {},
   "outputs": [
    {
     "name": "stdout",
     "output_type": "stream",
     "text": [
      "True\n",
      "False\n",
      "[4, 2, 3, 4]\n",
      "[1, 2, 3, 4, 1, 2, 3, 4]\n",
      "[5, 2, 3, 4, 1, 2, 3, 4]\n",
      "[[1], [2], [3], [4], [1], [2], [3], [4]]\n",
      "[[1, 3], [2], [3], [4], [1, 3], [2], [3], [4]]\n",
      "[[5], [2], [3], [4], [1, 3], [2], [3], [4]]\n",
      "123\n"
     ]
    }
   ],
   "source": [
    "x = [1,2,3,4]\n",
    "y = x\n",
    "z = x * 2\n",
    "w = [1,2,3,4]\n",
    "print(x == w)\n",
    "print(x is w)\n",
    "\n",
    "x[0] = 4\n",
    "print(y)\n",
    "print(z)\n",
    "\n",
    "z[0] = 5\n",
    "print(z)\n",
    "\n",
    "x = [[1],[2],[3],[4]]\n",
    "z = x * 2\n",
    "x[0] = [4]\n",
    "print(z)\n",
    "\n",
    "z[0].append(3)\n",
    "print(z)\n",
    "\n",
    "z[0] = [5]\n",
    "print(z)\n",
    "\n",
    "s = \"123\"\n",
    "t = s\n",
    "s = t + \"4\"\n",
    "print(t)"
   ]
  },
  {
   "cell_type": "markdown",
   "metadata": {},
   "source": [
    "### Задача 1: (2 балла)"
   ]
  },
  {
   "cell_type": "markdown",
   "metadata": {},
   "source": [
    "Реализуйте функцию, которая будет вычислять количество различных объектов в переданном ей списке.   \n",
    "Два объекта a и b считаются различными, если a is b равно False."
   ]
  },
  {
   "cell_type": "code",
   "execution_count": 89,
   "metadata": {},
   "outputs": [],
   "source": [
    "#ваш код здесь\n",
    "def n_different_in_list(array: list):\n",
    "    counter = 0\n",
    "    while array:\n",
    "        obj = array.pop(0)\n",
    "        counter += 1\n",
    "        array[:] = [x for x in array if x is not obj]\n",
    "    return counter"
   ]
  },
  {
   "cell_type": "code",
   "execution_count": 90,
   "metadata": {
    "scrolled": true
   },
   "outputs": [
    {
     "data": {
      "text/plain": [
       "5"
      ]
     },
     "execution_count": 90,
     "metadata": {},
     "output_type": "execute_result"
    }
   ],
   "source": [
    "n_different_in_list([[1], [1], 5, 5, 'a', 'a', ('a', 'b')])"
   ]
  },
  {
   "cell_type": "markdown",
   "metadata": {},
   "source": [
    "### Задача 2: (1 балл)\n",
    "Реализуйте функцию, которая будет вычислять количество различных объектов среди переданных ей аргументов.   \n",
    "Два объекта a и b считаются различными, если a is b равно False.    "
   ]
  },
  {
   "cell_type": "code",
   "execution_count": 86,
   "metadata": {},
   "outputs": [],
   "source": [
    "#ваш код здесь\n",
    "def n_different_in_func_args(*args):\n",
    "    return n_different_in_list(list(args))"
   ]
  },
  {
   "cell_type": "code",
   "execution_count": 88,
   "metadata": {},
   "outputs": [
    {
     "data": {
      "text/plain": [
       "5"
      ]
     },
     "execution_count": 88,
     "metadata": {},
     "output_type": "execute_result"
    }
   ],
   "source": [
    "n_different_in_func_args([1], [1], 5, 5, 'a', 'a', ('a', 'b'))"
   ]
  },
  {
   "cell_type": "markdown",
   "metadata": {},
   "source": [
    "### Задача 3: (2 балла)\n",
    "Реализуйте функцию, которая будет вычислять общее количество различных объектов, которые содержатся в ее аргументах, т.е например  \n",
    "n_different([0, 1, 2], [[2, 3, 4], [5 , 6]], 6) == 7 (за числа) + 1 (за первый лист) + 2 (за два вложенных листа во втором аргументе) + 1 (за лист из второго аргумента)\n",
    "\n",
    "Ваша функция должна КАК МИНИМУМ корректно обрабатывать все встроенные стандартные типы данных"
   ]
  },
  {
   "cell_type": "code",
   "execution_count": 178,
   "metadata": {},
   "outputs": [],
   "source": [
    "#ваш код здесь\n",
    "def list_of_different_in_list(array: list):\n",
    "    unique = []\n",
    "    while array:\n",
    "        obj = array.pop(0)\n",
    "        unique.append(obj)\n",
    "        array[:] = [x for x in array if x is not obj]\n",
    "    return unique\n",
    "\n",
    "\n",
    "def make_list_of_elements(*args, unique=[]):\n",
    "    if not args:\n",
    "        return\n",
    "    else:\n",
    "        args = list(args)\n",
    "        unique.extend(list_of_different_in_list(args[:]))\n",
    "        for obj in args:\n",
    "            if isinstance(obj, (list, tuple, set)):\n",
    "                make_list_of_elements(*obj, unique=unique)\n",
    "            elif isinstance(obj, dict):\n",
    "                make_list_of_elements(*obj, unique=unique)\n",
    "                make_list_of_elements(*obj.values(), unique=unique)\n",
    "        return unique\n",
    "\n",
    "\n",
    "def n_different(*args):\n",
    "    return n_different_in_list(make_list_of_elements(*args))"
   ]
  },
  {
   "cell_type": "code",
   "execution_count": 179,
   "metadata": {},
   "outputs": [
    {
     "data": {
      "text/plain": [
       "11"
      ]
     },
     "execution_count": 179,
     "metadata": {},
     "output_type": "execute_result"
    }
   ],
   "source": [
    "n_different([0, 1, 2], [[2, 3, 4], [5 , 6]], 6)  # 7 + 1 + 2 + 1 = 11"
   ]
  },
  {
   "cell_type": "code",
   "execution_count": 180,
   "metadata": {},
   "outputs": [
    {
     "data": {
      "text/plain": [
       "6"
      ]
     },
     "execution_count": 180,
     "metadata": {},
     "output_type": "execute_result"
    }
   ],
   "source": [
    "n_different({1: 2, 2: 3, 3: 4, 4: 5})"
   ]
  },
  {
   "cell_type": "markdown",
   "metadata": {},
   "source": [
    "### Упражнение 2:\n",
    "Еще раз разберитесь, как и чему присваиваются аргументы в функциях. Подумайте, что будет выдавать каждый из вызовов ниже, а потом убедитесь в правильности своего понимания  \n",
    "```python\n",
    "def illustrate(a, *params, b=10):\n",
    "    print(\"a =\", a)              #выводит значение a\n",
    "    \n",
    "    print(\"params =\", end=\" \")    #выводит содержимое params\n",
    "    for elem in params:\n",
    "        print(elem, end=\" \")     #обратите внимание, у принта как раз и есть этот\n",
    "    print()                     #параметр end, до которого можно достучаться только непосредственным его указанием\n",
    "    \n",
    "    print(\"b =\", b)              #выводит значение b\n",
    "    \n",
    "illustrate(1, 2, 3, 4)\n",
    "# a = 1\n",
    "# params = 2 3 4\n",
    "# b = 10\n",
    "\n",
    "illustrate(1, 2, b=3)\n",
    "# a = 1\n",
    "# params = 2\n",
    "# b = 3\n",
    "\n",
    "illustrate(1, 2)\n",
    "# a = 1\n",
    "# params = 2\n",
    "# b = 10\n",
    "\n",
    "illustrate(1)\n",
    "# a = 1\n",
    "# params = \n",
    "# b = 10\n",
    "\n",
    "illustrate(b=1, 2)\n",
    "# err\n",
    "\n",
    "illustrate([1,2,3,4,5])\n",
    "# a = [1,2,3,4,5]\n",
    "# params = \n",
    "# b = 10\n",
    "\n",
    "illustrate(*[1,2,3,4,5])\n",
    "# a = 1\n",
    "# params = 2 3 4 5 \n",
    "# b = 10\n",
    "\n",
    "illustrate(**{\"a\":1, \"b\":5})\n",
    "# a = 1\n",
    "# params = \n",
    "# b = 5\n",
    "\n",
    "illustrate(*{\"a\":1, \"b\":5})\n",
    "# a = \"a\"\n",
    "# params = \"b\" \n",
    "# b = 10\n",
    "\n",
    "illustrate({\"a\":1, \"b\":5})\n",
    "# a = {\"a\":1, \"b\":5}\n",
    "# params = \n",
    "# b = 10\n",
    "\n",
    "illustrate(*{\"a\", \"b\"})\n",
    "# a = \"a\"\n",
    "# params = \"b\"\n",
    "# b = 10\n",
    "\n",
    "illustrate({\"a\", \"b\"})\n",
    "# a = {\"a\", \"b\"}\n",
    "# params = \n",
    "# b = 10\n",
    "```"
   ]
  },
  {
   "cell_type": "code",
   "execution_count": 188,
   "metadata": {},
   "outputs": [],
   "source": [
    "def illustrate(a, *params, b=10):\n",
    "    print(\"a =\", a)              #выводит значение a\n",
    "    \n",
    "    print(\"params =\", end=\" \")    #выводит содержимое params\n",
    "    for elem in params:\n",
    "        print(elem, end=\" \")     #обратите внимание, у принта как раз и есть этот\n",
    "    print()                     #параметр end, до которого можно достучаться только непосредственным его указанием\n",
    "    \n",
    "    print(\"b =\", b)              #выводит значение b"
   ]
  },
  {
   "cell_type": "code",
   "execution_count": 189,
   "metadata": {},
   "outputs": [
    {
     "name": "stdout",
     "output_type": "stream",
     "text": [
      "a = 1\n",
      "params = 2 3 4 \n",
      "b = 10\n"
     ]
    }
   ],
   "source": [
    "illustrate(1, 2, 3, 4)\n",
    "# a = 1\n",
    "# params = 2 3 4\n",
    "# b = 10"
   ]
  },
  {
   "cell_type": "code",
   "execution_count": 190,
   "metadata": {},
   "outputs": [
    {
     "name": "stdout",
     "output_type": "stream",
     "text": [
      "a = 1\n",
      "params = 2 \n",
      "b = 3\n"
     ]
    }
   ],
   "source": [
    "illustrate(1, 2, b=3)\n",
    "# a = 1\n",
    "# params = 2\n",
    "# b = 3"
   ]
  },
  {
   "cell_type": "code",
   "execution_count": 191,
   "metadata": {},
   "outputs": [
    {
     "name": "stdout",
     "output_type": "stream",
     "text": [
      "a = 1\n",
      "params = 2 \n",
      "b = 10\n"
     ]
    }
   ],
   "source": [
    "illustrate(1, 2)\n",
    "# a = 1\n",
    "# params = 2\n",
    "# b = 10"
   ]
  },
  {
   "cell_type": "code",
   "execution_count": 192,
   "metadata": {},
   "outputs": [
    {
     "name": "stdout",
     "output_type": "stream",
     "text": [
      "a = 1\n",
      "params = \n",
      "b = 10\n"
     ]
    }
   ],
   "source": [
    "illustrate(1)\n",
    "# a = 1\n",
    "# params = \n",
    "# b = 10"
   ]
  },
  {
   "cell_type": "code",
   "execution_count": 193,
   "metadata": {},
   "outputs": [
    {
     "ename": "SyntaxError",
     "evalue": "positional argument follows keyword argument (<ipython-input-193-5ac33818c152>, line 1)",
     "output_type": "error",
     "traceback": [
      "\u001b[1;36m  File \u001b[1;32m\"<ipython-input-193-5ac33818c152>\"\u001b[1;36m, line \u001b[1;32m1\u001b[0m\n\u001b[1;33m    illustrate(b=1, 2)\u001b[0m\n\u001b[1;37m                    ^\u001b[0m\n\u001b[1;31mSyntaxError\u001b[0m\u001b[1;31m:\u001b[0m positional argument follows keyword argument\n"
     ]
    }
   ],
   "source": [
    "illustrate(b=1, 2)\n",
    "# err"
   ]
  },
  {
   "cell_type": "code",
   "execution_count": 194,
   "metadata": {},
   "outputs": [
    {
     "name": "stdout",
     "output_type": "stream",
     "text": [
      "a = [1, 2, 3, 4, 5]\n",
      "params = \n",
      "b = 10\n"
     ]
    }
   ],
   "source": [
    "illustrate([1,2,3,4,5])\n",
    "# a = [1,2,3,4,5]\n",
    "# params = \n",
    "# b = 10"
   ]
  },
  {
   "cell_type": "code",
   "execution_count": 195,
   "metadata": {},
   "outputs": [
    {
     "name": "stdout",
     "output_type": "stream",
     "text": [
      "a = 1\n",
      "params = 2 3 4 5 \n",
      "b = 10\n"
     ]
    }
   ],
   "source": [
    "illustrate(*[1,2,3,4,5])\n",
    "# a = 1\n",
    "# params = 2 3 4 5 \n",
    "# b = 10"
   ]
  },
  {
   "cell_type": "code",
   "execution_count": 196,
   "metadata": {},
   "outputs": [
    {
     "name": "stdout",
     "output_type": "stream",
     "text": [
      "a = 1\n",
      "params = \n",
      "b = 5\n"
     ]
    }
   ],
   "source": [
    "illustrate(**{\"a\":1, \"b\":5})\n",
    "# a = 1\n",
    "# params = \n",
    "# b = 5"
   ]
  },
  {
   "cell_type": "code",
   "execution_count": 197,
   "metadata": {},
   "outputs": [
    {
     "name": "stdout",
     "output_type": "stream",
     "text": [
      "a = a\n",
      "params = b \n",
      "b = 10\n"
     ]
    }
   ],
   "source": [
    "illustrate(*{\"a\":1, \"b\":5})\n",
    "# a = \"a\"\n",
    "# params = \"b\" \n",
    "# b = 10"
   ]
  },
  {
   "cell_type": "code",
   "execution_count": 198,
   "metadata": {},
   "outputs": [
    {
     "name": "stdout",
     "output_type": "stream",
     "text": [
      "a = {'a': 1, 'b': 5}\n",
      "params = \n",
      "b = 10\n"
     ]
    }
   ],
   "source": [
    "illustrate({\"a\":1, \"b\":5})\n",
    "# a = {\"a\":1, \"b\":5}\n",
    "# params = \n",
    "# b = 10"
   ]
  },
  {
   "cell_type": "code",
   "execution_count": 199,
   "metadata": {},
   "outputs": [
    {
     "name": "stdout",
     "output_type": "stream",
     "text": [
      "a = a\n",
      "params = b \n",
      "b = 10\n"
     ]
    }
   ],
   "source": [
    "illustrate(*{\"a\", \"b\"})\n",
    "# a = \"a\"\n",
    "# params = \"b\"\n",
    "# b = 10"
   ]
  },
  {
   "cell_type": "code",
   "execution_count": 200,
   "metadata": {},
   "outputs": [
    {
     "name": "stdout",
     "output_type": "stream",
     "text": [
      "a = {'a', 'b'}\n",
      "params = \n",
      "b = 10\n"
     ]
    }
   ],
   "source": [
    "illustrate({\"a\", \"b\"})\n",
    "# a = {\"a\", \"b\"}\n",
    "# params = \n",
    "# b = 10"
   ]
  }
 ],
 "metadata": {
  "kernelspec": {
   "display_name": "Python 3",
   "language": "python",
   "name": "python3"
  },
  "language_info": {
   "codemirror_mode": {
    "name": "ipython",
    "version": 3
   },
   "file_extension": ".py",
   "mimetype": "text/x-python",
   "name": "python",
   "nbconvert_exporter": "python",
   "pygments_lexer": "ipython3",
   "version": "3.8.2"
  }
 },
 "nbformat": 4,
 "nbformat_minor": 2
}
