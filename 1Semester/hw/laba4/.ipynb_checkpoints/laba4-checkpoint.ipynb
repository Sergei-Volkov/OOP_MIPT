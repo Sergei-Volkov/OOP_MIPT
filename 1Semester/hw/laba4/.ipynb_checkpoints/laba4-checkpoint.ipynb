{
 "cells": [
  {
   "cell_type": "markdown",
   "metadata": {},
   "source": [
    "# Домашняя работа №4 (Курс \"Advanced Python\")\n",
    "## ФИО: Волков Сергей Андреевич"
   ]
  },
  {
   "cell_type": "markdown",
   "metadata": {},
   "source": [
    "**Тема:** Декораторы  \n",
    "**Выдана:** 23 сентября  \n",
    "**Мягкий дедлайн:** 30 сентября  \n",
    "**Жесткий дедлайн:** 7 октября"
   ]
  },
  {
   "cell_type": "markdown",
   "metadata": {},
   "source": [
    "**Правила:**\n",
    "Результат выполнения задания - отчет в формате Jupyter Notebook с кодом и выводами. В ходе выполнения задания требуется реализовать все необходимые алгоритмы, провести эксперименты и ответить на поставленные вопросы. Дополнительные выводы приветствуются. Чем меньше кода и больше комментариев - тем лучше.\n",
    "\n",
    "Все ячейки должны быть \"выполненными\", при этом результат должен воспроизвдиться при проверке.\n",
    "\n",
    "Задание выполняется самостоятельно. **Если вы нашли в Интернете какой-то код, который собираетесь заимствовать, обязательно укажите это в задании** Если вы советовались с товарищем и/или позаимствовали его решение, обязательно укажите об этом в отчете. Нет ничего плохого в том, что вы пытаетесь разобраться и помогаете друг другу; плохо - когда вы скрываете это и выдаете чужие заслуги за свои. При обнаружении списывания ВСЕМ студентам, имеющим одинаковые списанные решения будет выставлен ОТРИЦАТЕЛЬНЫЙ балл (т.е если задача стоит 4 балла, вы получите не 0, а -4), \"оригинал\" искаться не будет\n",
    "\n",
    "Задание, сданное после жесткого дедлайна, не принимается."
   ]
  },
  {
   "cell_type": "markdown",
   "metadata": {},
   "source": [
    "### Задача 1: мемоизация (2 балла)\n",
    "Давайте реализуем одно из использований декораторов - для мемоизации. Мемоизация - сохранение результатов выполнения функций для предотвращения повторных вычислений.  \n",
    "\n",
    "Пусть например у нас есть функция func, которая довольно долго вычисляется, причем мы знаем, что будем часто вызывать ее на одних и тех же аргументах. Тогда, чтобы не заставлять ее вычислять свое значение снова и снова, можно просто сохранить значение функции при данном аргументе и в случае повторного вызова с данным аргументом просто возвращать сохраненный резльтат.  \n",
    "\n",
    "Такая ситуация часто встречается в рекурсии: функция при малых аргументах вызывается по многу раз. Например, при вычислении 10го числа Фибоначчи, 8е число Фи6оначчи вычислится дважды, а 6е - уже 5 раз и так далее. При больших числах, мы ооооочень много времени тратим на вычисление уже вычисленных ранее значений.\n",
    "\n",
    "Напишите декоратор memoize, который будет сохранять в словаре вычисляемые значения функции, и если функция для заданного значения уже вычислена - возвращать значение из словаря. (Декоратор должен быть максимально общим, т.е им должно быть можно обернуть функцию с произвольным числом именованных и неименованных переменных. **Подсказка**: посмотрите в сторону звездчатого интерфейса передачи параметров в функцию)"
   ]
  },
  {
   "cell_type": "code",
   "execution_count": 156,
   "metadata": {},
   "outputs": [],
   "source": [
    "def fib(n):\n",
    "    if n == 0:\n",
    "        return 0\n",
    "    elif n == 1:\n",
    "        return 1\n",
    "    else:\n",
    "        return fib(n - 1) + fib(n - 2)"
   ]
  },
  {
   "cell_type": "code",
   "execution_count": 2,
   "metadata": {},
   "outputs": [],
   "source": [
    "from functools import wraps"
   ]
  },
  {
   "cell_type": "code",
   "execution_count": 3,
   "metadata": {},
   "outputs": [],
   "source": [
    "#код вашего декоратора здесь\n",
    "def memoize(func):\n",
    "    memory = dict()\n",
    "    @wraps(func)\n",
    "    def memoizer(*args, **kwargs):\n",
    "        args = list(args)\n",
    "        args.extend(kwargs.items())\n",
    "        items = tuple(args)\n",
    "        if items not in memory:\n",
    "            memory[items] = func(*args, **kwargs)\n",
    "        return memory[items]\n",
    "    return memoizer"
   ]
  },
  {
   "cell_type": "code",
   "execution_count": 4,
   "metadata": {},
   "outputs": [
    {
     "name": "stdout",
     "output_type": "stream",
     "text": [
      "Wall time: 7.21 s\n"
     ]
    },
    {
     "data": {
      "text/plain": [
       "9227465"
      ]
     },
     "execution_count": 4,
     "metadata": {},
     "output_type": "execute_result"
    }
   ],
   "source": [
    "%%time\n",
    "fib(35)"
   ]
  },
  {
   "cell_type": "code",
   "execution_count": 5,
   "metadata": {},
   "outputs": [],
   "source": [
    "memoized_fib = memoize(fib)"
   ]
  },
  {
   "cell_type": "code",
   "execution_count": 6,
   "metadata": {},
   "outputs": [
    {
     "name": "stdout",
     "output_type": "stream",
     "text": [
      "Wall time: 7.47 s\n"
     ]
    },
    {
     "data": {
      "text/plain": [
       "9227465"
      ]
     },
     "execution_count": 6,
     "metadata": {},
     "output_type": "execute_result"
    }
   ],
   "source": [
    "%%time\n",
    "memoized_fib(35)  # в кеше еще нет сохраненных элементов"
   ]
  },
  {
   "cell_type": "code",
   "execution_count": 7,
   "metadata": {},
   "outputs": [
    {
     "name": "stdout",
     "output_type": "stream",
     "text": [
      "Wall time: 999 µs\n"
     ]
    },
    {
     "data": {
      "text/plain": [
       "9227465"
      ]
     },
     "execution_count": 7,
     "metadata": {},
     "output_type": "execute_result"
    }
   ],
   "source": [
    "%%time\n",
    "memoized_fib(35)  # а теперь есть!"
   ]
  },
  {
   "cell_type": "markdown",
   "metadata": {},
   "source": [
    "***Значительный*** прирост в скорости работы при запуске во второй раз =)\n",
    "\n",
    "(ну что и ожидаемо...)"
   ]
  },
  {
   "cell_type": "markdown",
   "metadata": {},
   "source": [
    "### Задача 2: (2 балла)\n",
    "Напишите декоратор optional_introduce, который делает так, что у задекорированной функции появляется дополнительный параметр introduce со значением False по умолчанию (именованный параметр), причём если функция вызвана с introduce=True, то она перед возвращением результата напечатает своё имя в стандартный поток вывода (\"представится\"), а если с introduce=False или без явного указания introduce вовсе, то она просто вернёт результат.\n",
    "\n",
    "**Подсказка:** у объекта функции есть поле \\_\\_name\\_\\_, в котором содержится имя функции; вам потребуется wraps из модуля functools.\n",
    "\n",
    "Мы предполагаем, что у исходной функции параметра с именем introduce не было.\n",
    "Проиллюстрируйте работу вашего декоратора"
   ]
  },
  {
   "cell_type": "code",
   "execution_count": 8,
   "metadata": {},
   "outputs": [],
   "source": [
    "#код вашего декоратора здесь\n",
    "def optional_introduce(func):\n",
    "    @wraps(func)\n",
    "    def introducer(*args, introduce=False, **kwargs):\n",
    "        if introduce:\n",
    "            print(func.__name__)\n",
    "        return func(*args, **kwargs)\n",
    "    return introducer"
   ]
  },
  {
   "cell_type": "code",
   "execution_count": 9,
   "metadata": {},
   "outputs": [],
   "source": [
    "introduce = optional_introduce(fib)"
   ]
  },
  {
   "cell_type": "code",
   "execution_count": 10,
   "metadata": {},
   "outputs": [
    {
     "name": "stdout",
     "output_type": "stream",
     "text": [
      "fib\n"
     ]
    },
    {
     "data": {
      "text/plain": [
       "610"
      ]
     },
     "execution_count": 10,
     "metadata": {},
     "output_type": "execute_result"
    }
   ],
   "source": [
    "introduce(15, introduce=True)"
   ]
  },
  {
   "cell_type": "code",
   "execution_count": 11,
   "metadata": {},
   "outputs": [
    {
     "data": {
      "text/plain": [
       "5"
      ]
     },
     "execution_count": 11,
     "metadata": {},
     "output_type": "execute_result"
    }
   ],
   "source": [
    "introduce(5, introduce=False)"
   ]
  },
  {
   "cell_type": "markdown",
   "metadata": {},
   "source": [
    "### Задача 3: мемоизация с ограничением памяти (2 балла)\n",
    "В первой задаче вы уже реализовали декоратор для мемоизации, но у него был существенный недостаток --  нельзя было никак ограничить объём выделяемой памяти,  то есть объём словаря мог расти неограниченно с ростом количества вызовов задекорированной функции на каких-то новых наборах аргументов.  \n",
    "Давайте это исправим. Определите новый декоратор memoized с именованным параметром maxsize, по умолчанию установленным в None.  \n",
    "При декорировании функции таким memoized(maxsize=n), в словаре будет содержаться не более n элементов. Если нам приходит новый вызов функции и надо сохранить новый набор аргументов функции, а память уже заполнена, то поступающий набор аргументов и значение функции на нем должны заменить последнюю добавленную в словарь пару ключ-значение.  \n",
    "Если maxsize выставлен в None, то ограничение на размер памяти нет"
   ]
  },
  {
   "cell_type": "code",
   "execution_count": 12,
   "metadata": {},
   "outputs": [],
   "source": [
    "def memoized(maxsize=None):\n",
    "    #код вашего декоратора здесь\n",
    "    def actual_memoize(func):\n",
    "        memory = {}\n",
    "        last_added = tuple()\n",
    "        def memoizer(*args, **kwargs):\n",
    "            items = tuple(kwargs.items())\n",
    "            if maxsize is not None:\n",
    "                if (args, items) not in memory and len(memory) < maxsize:\n",
    "                    memory[(args, items)] = func(*args, **kwargs)\n",
    "                elif (args, items) not in memory and len(memory) == maxsize:\n",
    "                    memory[(args, items)] = func(*args, **kwargs)\n",
    "                    last_added = (args, items)\n",
    "                elif (args, items) not in memory and len(memory) > maxsize:\n",
    "                    memory[last_added] = func(*args, **kwargs)\n",
    "            return memory[(args, items)]\n",
    "        return memoizer\n",
    "    return actual_memoize"
   ]
  },
  {
   "cell_type": "code",
   "execution_count": 13,
   "metadata": {},
   "outputs": [],
   "source": [
    "memoizer_5 = memoized(maxsize=5)"
   ]
  },
  {
   "cell_type": "code",
   "execution_count": 14,
   "metadata": {},
   "outputs": [],
   "source": [
    "memoized_fib_5 = memoizer_5(fib)"
   ]
  },
  {
   "cell_type": "code",
   "execution_count": 15,
   "metadata": {},
   "outputs": [
    {
     "name": "stdout",
     "output_type": "stream",
     "text": [
      "Wall time: 7.17 s\n"
     ]
    },
    {
     "data": {
      "text/plain": [
       "9227465"
      ]
     },
     "execution_count": 15,
     "metadata": {},
     "output_type": "execute_result"
    }
   ],
   "source": [
    "%%time\n",
    "memoized_fib_5(35)"
   ]
  },
  {
   "cell_type": "code",
   "execution_count": 16,
   "metadata": {},
   "outputs": [
    {
     "name": "stdout",
     "output_type": "stream",
     "text": [
      "Wall time: 0 ns\n"
     ]
    },
    {
     "data": {
      "text/plain": [
       "9227465"
      ]
     },
     "execution_count": 16,
     "metadata": {},
     "output_type": "execute_result"
    }
   ],
   "source": [
    "%%time\n",
    "memoized_fib_5(35)"
   ]
  },
  {
   "cell_type": "markdown",
   "metadata": {},
   "source": [
    "### Задача 4: полное логирование (2 балла)\n",
    "Напишите декоратор, который принимает в качестве аргумента путь к файлу. Если данный декоратор добавить к функции, то в указанный файл будет логироваться(дописываться!) информация вида:\n",
    "* Имя вызванной функции (тут могут помочь идеи из предыдущей задачи. Задача оценивается в полный балл и без этого пункта, если вы не сделали предыдущую задачу)\n",
    "* Время вызова функции\n",
    "* Входящие аргументы\n",
    "* Ответ return (если есть, если нет то логгировать '-')\n",
    "* Время завершения работы функции\n",
    "* Время работы функции  \n",
    "\n",
    "Библиотека time вам в помощь"
   ]
  },
  {
   "cell_type": "code",
   "execution_count": 17,
   "metadata": {},
   "outputs": [],
   "source": [
    "from time import time"
   ]
  },
  {
   "cell_type": "code",
   "execution_count": 18,
   "metadata": {},
   "outputs": [],
   "source": [
    "#ваш код здесь\n",
    "def logging(file_path):\n",
    "    def actual_logging(func):\n",
    "        @wraps(func)\n",
    "        def logger(*args, **kwargs):\n",
    "            start = time()\n",
    "            result = func(*args, **kwargs)\n",
    "            stop = time()\n",
    "            write_res = result if result else '-'\n",
    "            with open(file_path, 'a') as f:\n",
    "                f.writelines(\n",
    "                    [\n",
    "                        func.__name__ + '\\n',\n",
    "                        str(start) + '\\n',\n",
    "                        (''.join(map(str, args)) + \n",
    "                        ' '.join(map(lambda k: str(k[0]) + ' = ' + str(k[1]), kwargs.items())) + '\\n'),\n",
    "                        str(write_res) + '\\n',\n",
    "                        str(stop) + '\\n',\n",
    "                        str(stop - start) + '\\n',\n",
    "                        '\\n'\n",
    "                    ]\n",
    "                )\n",
    "            return result\n",
    "        return logger\n",
    "    return actual_logging"
   ]
  },
  {
   "cell_type": "markdown",
   "metadata": {},
   "source": [
    "Проиллюстрируйте работу вашего декоратора следующим образом: для рекурсивной функции вычисления чисел Фибоначчи fibonacchi. Сначала оберните функцию fibonacci только декоратором из этой, четвертой задачи. Запустите вычисление 35го числа. Обратите внимание на время работы функции.  Затем оберните функцию fibonacchi сразу в 2 декоратора - полного логирования и мемоизации. Сколько теперь работала функция, судя по логу? **Сделайте выводы о рассмотренных декораторах** Вывод тоже оценивается! Пришлите вместе с этим ноутбуком в Anytask также и файл лога. Заметьте, если вы правильн все реализовали, в нем должны содержаться результаты 2х вызовов функции (как минимум)."
   ]
  },
  {
   "cell_type": "code",
   "execution_count": 19,
   "metadata": {},
   "outputs": [],
   "source": [
    "logging_data = logging('log_data.txt')"
   ]
  },
  {
   "cell_type": "code",
   "execution_count": 20,
   "metadata": {},
   "outputs": [],
   "source": [
    "logged_fib = logging_data(fib)"
   ]
  },
  {
   "cell_type": "code",
   "execution_count": 21,
   "metadata": {},
   "outputs": [
    {
     "name": "stdout",
     "output_type": "stream",
     "text": [
      "Wall time: 7.16 s\n"
     ]
    },
    {
     "data": {
      "text/plain": [
       "9227465"
      ]
     },
     "execution_count": 21,
     "metadata": {},
     "output_type": "execute_result"
    }
   ],
   "source": [
    "%%time\n",
    "logged_fib(35)"
   ]
  },
  {
   "cell_type": "code",
   "execution_count": 22,
   "metadata": {},
   "outputs": [],
   "source": [
    "memoized_fib = memoize(fib)"
   ]
  },
  {
   "cell_type": "code",
   "execution_count": 23,
   "metadata": {},
   "outputs": [],
   "source": [
    "logged_memoized_fib = logging_data(memoized_fib)"
   ]
  },
  {
   "cell_type": "code",
   "execution_count": 24,
   "metadata": {
    "scrolled": true
   },
   "outputs": [
    {
     "name": "stdout",
     "output_type": "stream",
     "text": [
      "Wall time: 7.08 s\n"
     ]
    },
    {
     "data": {
      "text/plain": [
       "9227465"
      ]
     },
     "execution_count": 24,
     "metadata": {},
     "output_type": "execute_result"
    }
   ],
   "source": [
    "%%time\n",
    "logged_memoized_fib(35)"
   ]
  },
  {
   "cell_type": "code",
   "execution_count": 25,
   "metadata": {},
   "outputs": [
    {
     "name": "stdout",
     "output_type": "stream",
     "text": [
      "Wall time: 997 µs\n"
     ]
    },
    {
     "data": {
      "text/plain": [
       "9227465"
      ]
     },
     "execution_count": 25,
     "metadata": {},
     "output_type": "execute_result"
    }
   ],
   "source": [
    "%%time\n",
    "logged_memoized_fib(35)"
   ]
  },
  {
   "cell_type": "code",
   "execution_count": 26,
   "metadata": {},
   "outputs": [],
   "source": [
    "#ваши выводы здесь"
   ]
  },
  {
   "cell_type": "markdown",
   "metadata": {},
   "source": [
    "**Использование мемоизации дает лишь _небольшой_ прирост в скорости работы (порядка 9%), но при повторном использовании функции на тех же параметрах значение выдается почти _мгновенно_. Это удобно в том случае, если в программе многократно производятся одинаковые вычисления.**"
   ]
  },
  {
   "cell_type": "markdown",
   "metadata": {},
   "source": [
    "Таким образом, если вы сделали всю работу, то в Anytask нужно отправить 2 файла: jupyter-ноутбук и файл лога"
   ]
  },
  {
   "cell_type": "markdown",
   "metadata": {},
   "source": [
    "### Бонусная задача (4 балла): декоратор вызовов функции\n",
    "Реализуйте декоратор @counter_calls, который будет подсчитывать, сколько раз вызвалась функция во время своего выполнения, и один раз, после завершения ее работы, печатать общее количество вызовов. Ожидаемый пример использования и работы:\n",
    "\n",
    "```python\n",
    "@counter_calls\n",
    "def fib(n):\n",
    "    if n <= 1:\n",
    "        return 1\n",
    "    else:\n",
    "        return fib(n-1) + fib(n-2)\n",
    "\n",
    "\n",
    "x = fib(1) #функция вызвалась единожды\n",
    ">>>1\n",
    "\n",
    "x = fib(3) #функция вызвалась для 3, 2, 1, 0, 1\n",
    ">>>5\n",
    "\n",
    "x = fib(5) #функция вызвалась для 5, 4, 3, 2, 1, 0, 1, 2, 1, 0, 3, 2, 1, 0, 1\n",
    ">>>15\n",
    "\n",
    "\n",
    "@counter_calls\n",
    "def isDobbyHappy():\n",
    "    print(\"Добби свободен?\")\n",
    "    whatMasterSaid = input()\n",
    "    if whatMasterSaid in {\"да\", \"yes\", \"носки\", \"Держи носки!\"}:\n",
    "        return True\n",
    "    else:\n",
    "        return isDobbyHappy()\n",
    "\n",
    "isDobbyHappy()\n",
    "##Вводим с консоли \"Нет\", \"нет\", \"Добби,достал!\", \"Держи носки!\"\n",
    ">>>4\n",
    " ```"
   ]
  },
  {
   "cell_type": "code",
   "execution_count": 1,
   "metadata": {},
   "outputs": [],
   "source": [
    "#ваш код здесь\n",
    "def counter_calls(func):\n",
    "    counter = [0]\n",
    "    \n",
    "    \n",
    "    def count(*args, **kwargs):\n",
    "        counter[0] += 1\n",
    "        return func(*args, **kwargs)\n",
    "\n",
    "    \n",
    "    def wrapped(*args, **kwargs):\n",
    "        value = count(*args, **kwargs) \n",
    "        return counter[0]\n",
    "    \n",
    "    \n",
    "    return wrapped"
   ]
  },
  {
   "cell_type": "code",
   "execution_count": 2,
   "metadata": {},
   "outputs": [],
   "source": [
    "@counter_calls\n",
    "def fib(n):\n",
    "    if n == 0:\n",
    "        return 0\n",
    "    elif n == 1:\n",
    "        return 1\n",
    "    else:\n",
    "        return fib(n - 1) + fib(n - 2)"
   ]
  },
  {
   "cell_type": "code",
   "execution_count": 3,
   "metadata": {},
   "outputs": [
    {
     "data": {
      "text/plain": [
       "1"
      ]
     },
     "execution_count": 3,
     "metadata": {},
     "output_type": "execute_result"
    }
   ],
   "source": [
    "fib(1)"
   ]
  },
  {
   "cell_type": "code",
   "execution_count": 5,
   "metadata": {},
   "outputs": [],
   "source": [
    "@counter_calls\n",
    "def fib(n):\n",
    "    if n == 0:\n",
    "        return 0\n",
    "    elif n == 1:\n",
    "        return 1\n",
    "    else:\n",
    "        return fib(n - 1) + fib(n - 2)"
   ]
  },
  {
   "cell_type": "code",
   "execution_count": 6,
   "metadata": {},
   "outputs": [
    {
     "data": {
      "text/plain": [
       "5"
      ]
     },
     "execution_count": 6,
     "metadata": {},
     "output_type": "execute_result"
    }
   ],
   "source": [
    "fib(3)"
   ]
  },
  {
   "cell_type": "code",
   "execution_count": 7,
   "metadata": {},
   "outputs": [],
   "source": [
    "@counter_calls\n",
    "def fib(n):\n",
    "    if n == 0:\n",
    "        return 0\n",
    "    elif n == 1:\n",
    "        return 1\n",
    "    else:\n",
    "        return fib(n - 1) + fib(n - 2)"
   ]
  },
  {
   "cell_type": "code",
   "execution_count": 8,
   "metadata": {},
   "outputs": [
    {
     "data": {
      "text/plain": [
       "15"
      ]
     },
     "execution_count": 8,
     "metadata": {},
     "output_type": "execute_result"
    }
   ],
   "source": [
    "fib(5)"
   ]
  },
  {
   "cell_type": "code",
   "execution_count": 9,
   "metadata": {},
   "outputs": [],
   "source": [
    "@counter_calls\n",
    "def isDobbyHappy():\n",
    "    print(\"Добби свободен?\")\n",
    "    whatMasterSaid = input()\n",
    "    if whatMasterSaid in {\"да\", \"yes\", \"носки\", \"Держи носки!\"}:\n",
    "        return True\n",
    "    else:\n",
    "        return isDobbyHappy()"
   ]
  },
  {
   "cell_type": "code",
   "execution_count": 121,
   "metadata": {
    "scrolled": true
   },
   "outputs": [
    {
     "name": "stdout",
     "output_type": "stream",
     "text": [
      "Добби свободен?\n",
      "Нет\n",
      "Добби свободен?\n",
      "нет\n",
      "Добби свободен?\n",
      "Добби, достал!\n",
      "Добби свободен?\n",
      "Держи носки!\n"
     ]
    },
    {
     "data": {
      "text/plain": [
       "4"
      ]
     },
     "execution_count": 121,
     "metadata": {},
     "output_type": "execute_result"
    }
   ],
   "source": [
    "isDobbyHappy()"
   ]
  },
  {
   "cell_type": "markdown",
   "metadata": {},
   "source": [
    "**Очень странная реализация, не знаю, как лучше сделать, разве что создать класс с методами**"
   ]
  }
 ],
 "metadata": {
  "kernelspec": {
   "display_name": "Python 3",
   "language": "python",
   "name": "python3"
  },
  "language_info": {
   "codemirror_mode": {
    "name": "ipython",
    "version": 3
   },
   "file_extension": ".py",
   "mimetype": "text/x-python",
   "name": "python",
   "nbconvert_exporter": "python",
   "pygments_lexer": "ipython3",
   "version": "3.8.2"
  }
 },
 "nbformat": 4,
 "nbformat_minor": 2
}
