{
 "cells": [
  {
   "cell_type": "markdown",
   "metadata": {},
   "source": [
    "# Домашняя работа №9 (Курс \"Advanced Python\")\n",
    "## ФИО: Волков Сергей Андреевич"
   ]
  },
  {
   "cell_type": "markdown",
   "metadata": {},
   "source": [
    "**Тема:** Регулярные выражения и сериализация  \n",
    "**Выдана:** 24 ноября  \n",
    "**Мягкий дедлайн:** 6 декабря  \n",
    "**Жесткий дедлайн:** 13 декабря  "
   ]
  },
  {
   "cell_type": "markdown",
   "metadata": {},
   "source": [
    "**Правила:**\n",
    "Результат выполнения задания - отчет в формате Jupyter Notebook с кодом и выводами. В ходе выполнения задания требуется реализовать все необходимые алгоритмы, провести эксперименты и ответить на поставленные вопросы. Дополнительные выводы приветствуются. Чем меньше кода и больше комментариев - тем лучше.\n",
    "\n",
    "Все ячейки должны быть \"выполненными\", при этом результат должен воспроизвдиться при проверке.\n",
    "\n",
    "Задание выполняется самостоятельно. **Если вы нашли в Интернете какой-то код, который собираетесь заимствовать, обязательно укажите это в задании.** Если вы советовались с товарищем и/или позаимствовали его решение, обязательно укажите об этом в отчете. Нет ничего плохого в том, что вы пытаетесь разобраться и помогаете друг другу; плохо - когда вы скрываете это и выдаете чужие заслуги за свои. При обнаружении списывания ВСЕМ студентам, имеющим одинаковые списанные решения будет выставлен ОТРИЦАТЕЛЬНЫЙ балл (т.е если задача стоит 4 балла, вы получите не 0, а -4), \"оригинал\" искаться не будет\n",
    "\n",
    "Задание, сданное после жесткого дедлайна, не принимается."
   ]
  },
  {
   "cell_type": "markdown",
   "metadata": {},
   "source": [
    "# Регулярные выражения"
   ]
  },
  {
   "cell_type": "markdown",
   "metadata": {},
   "source": [
    "**И да, хоть суть этих заданий заключается в одной строчке регулярки, тут замечать списывания и скат из интернета очень легко ;) Попробуйте решить эти задачи самостоятельно - это не сложно, к программированию имеет мало отношения. Зато развлечетесь, как  от решения головоломок**  \n",
    "Первые семь задач оцениваются либо на полный балл, либо на ноль"
   ]
  },
  {
   "cell_type": "code",
   "execution_count": 1,
   "metadata": {},
   "outputs": [],
   "source": [
    "import re"
   ]
  },
  {
   "cell_type": "markdown",
   "metadata": {},
   "source": [
    "### Задача 1 (0.5 балла):\n",
    "Найдите и напечатайте строки, содержащие две буквы \"g\", между которыми ровно пять символов."
   ]
  },
  {
   "cell_type": "code",
   "execution_count": 2,
   "metadata": {},
   "outputs": [],
   "source": [
    "# ваш код здесь\n",
    "pattern1 = r'g     g'"
   ]
  },
  {
   "cell_type": "code",
   "execution_count": 3,
   "metadata": {},
   "outputs": [],
   "source": [
    "strings1 = [\n",
    "    'g     g ',\n",
    "    ' g     g',\n",
    "    'somanyg     g   ',\n",
    "    'g  g'\n",
    "]"
   ]
  },
  {
   "cell_type": "code",
   "execution_count": 4,
   "metadata": {},
   "outputs": [
    {
     "name": "stdout",
     "output_type": "stream",
     "text": [
      "['g     g']\n",
      "['g     g']\n",
      "['g     g']\n",
      "[]\n"
     ]
    }
   ],
   "source": [
    "for string in strings1:\n",
    "    print(re.findall(pattern1, string))"
   ]
  },
  {
   "cell_type": "markdown",
   "metadata": {},
   "source": [
    "### Задача 2: (0.5 балла):\n",
    "Найдите и напечатайте строки, содержащие обратный слеш \"\\\\\"."
   ]
  },
  {
   "cell_type": "code",
   "execution_count": 5,
   "metadata": {},
   "outputs": [],
   "source": [
    "# ваш код здесь\n",
    "pattern2 = r'\\\\'"
   ]
  },
  {
   "cell_type": "code",
   "execution_count": 6,
   "metadata": {},
   "outputs": [],
   "source": [
    "strings2 = [\n",
    "    'g     \\ ',\n",
    "    ' g     g',\n",
    "    'somany\\g     g   ',\n",
    "    'g  g\\n'\n",
    "]"
   ]
  },
  {
   "cell_type": "code",
   "execution_count": 7,
   "metadata": {},
   "outputs": [
    {
     "name": "stdout",
     "output_type": "stream",
     "text": [
      "['\\\\']\n",
      "[]\n",
      "['\\\\']\n",
      "[]\n"
     ]
    }
   ],
   "source": [
    "for string in strings2:\n",
    "    print(re.findall(pattern2, string))"
   ]
  },
  {
   "cell_type": "markdown",
   "metadata": {},
   "source": [
    "### Задача 3: (1 балл)\n",
    "В строке замените первое вхождение слова, состоящего только из латинских букв \"c\" (регистр не важен), на слово \"sub\".\n",
    "\n",
    "**Примеры тестов**:  \n",
    "'There’ll be no more \"Ccccccccccc\"' >> 'There’ll be no more \"sub\"'  \n",
    "'CcCcCcCc CcCcCc' >> 'sub CcCcCc'  "
   ]
  },
  {
   "cell_type": "code",
   "execution_count": 8,
   "metadata": {},
   "outputs": [],
   "source": [
    "# ваш код здесь\n",
    "pattern3 = r'[cC]+'"
   ]
  },
  {
   "cell_type": "code",
   "execution_count": 9,
   "metadata": {},
   "outputs": [],
   "source": [
    "strings3 = [\n",
    "    'There’ll be no more \"Ccccccccccc\"',\n",
    "    'CcCcCcCc CcCcCc'\n",
    "]"
   ]
  },
  {
   "cell_type": "code",
   "execution_count": 10,
   "metadata": {},
   "outputs": [
    {
     "name": "stdout",
     "output_type": "stream",
     "text": [
      "There’ll be no more \"sub\"\n",
      "sub CcCcCc\n"
     ]
    }
   ],
   "source": [
    "for string in strings3:\n",
    "    string = re.sub(pattern3, 'sub', string, count=1)\n",
    "    print(string)"
   ]
  },
  {
   "cell_type": "markdown",
   "metadata": {},
   "source": [
    "### Задача 4: (1 балл)\n",
    "При помощи регулярного выражения отыщите в строке дату в формате ЧЧ:ММ (имейте в виду, что и часы и минуты состоят из двух цифр, а комбинация 25:78 не является корректным временем).\n",
    "\n",
    "**Примеры тестов:**  \n",
    "\"Мы пошли обедать в 13:04\" >> \"13:04\"  \n",
    "\"В 8:00 чтобы были в университете!\" >> None  \n",
    "\"Ладно. Приходите все же к 10:30, а то я сам так рано не встану\" >> \"10:30\"  \n",
    "\"Электричка под номером 1004 отправляется в 00:04 с 3 пути\" >> \"00:04\"  "
   ]
  },
  {
   "cell_type": "code",
   "execution_count": 11,
   "metadata": {},
   "outputs": [],
   "source": [
    "# ваш код здесь\n",
    "pattern4 = r'[0-1][0-9]:[0-5][0-9]|2[0-3]:[0-5][0-9]'"
   ]
  },
  {
   "cell_type": "code",
   "execution_count": 12,
   "metadata": {},
   "outputs": [],
   "source": [
    "strings4 = [\n",
    "    \"Мы пошли обедать в 13:04\",  # \"13:04\"\n",
    "    \"В 8:00 чтобы были в университете!\",  # None\n",
    "    \"Ладно. Приходите все же к 10:30, а то я сам так рано не встану\",  # \"10:30\"\n",
    "    \"Электричка под номером 1004 отправляется в 00:04 с 3 пути\",  # \"00:04\"\n",
    "]"
   ]
  },
  {
   "cell_type": "code",
   "execution_count": 13,
   "metadata": {},
   "outputs": [
    {
     "name": "stdout",
     "output_type": "stream",
     "text": [
      "['13:04']\n",
      "[]\n",
      "['10:30']\n",
      "['00:04']\n"
     ]
    }
   ],
   "source": [
    "for string in strings4:\n",
    "    print(re.findall(pattern4, string))"
   ]
  },
  {
   "cell_type": "markdown",
   "metadata": {},
   "source": [
    "### Задача 5: (1 балл)\n",
    "В строке поменяйте местами последние две буквы в каждом слове, состоящем хотя бы из 2х букв. \n",
    "Буквой считается символ из группы \\w.\n",
    "\n",
    "**Примеры тестов**  \n",
    "\"look at this sample text with a letter\"  >> \"loko ta thsi sampel tetx wihh a lettre\"  \n",
    "\"/\"this' !is. ?nic2,\" >> \"/\"thsi' !si. ?ni2c,\"\n"
   ]
  },
  {
   "cell_type": "code",
   "execution_count": 14,
   "metadata": {},
   "outputs": [],
   "source": [
    "# ваш код здесь\n",
    "pattern5 = r'(\\w{2,})'"
   ]
  },
  {
   "cell_type": "code",
   "execution_count": 15,
   "metadata": {},
   "outputs": [],
   "source": [
    "strings5 = [\n",
    "    \"look at this sample text with a letter\",\n",
    "    \"/'this' !is. ?nic2,\"\n",
    "]"
   ]
  },
  {
   "cell_type": "code",
   "execution_count": 16,
   "metadata": {},
   "outputs": [],
   "source": [
    "def reverse_last_two_letters(pattern):\n",
    "    word = pattern.group()\n",
    "    return word[:-2] + word[-1] + word[-2]"
   ]
  },
  {
   "cell_type": "code",
   "execution_count": 17,
   "metadata": {},
   "outputs": [
    {
     "name": "stdout",
     "output_type": "stream",
     "text": [
      "loko ta thsi sampel tetx wiht a lettre\n",
      "/'thsi' !si. ?ni2c,\n"
     ]
    }
   ],
   "source": [
    "# https://stackoverflow.com/questions/31952880/how-do-i-reverse-words-in-a-string-with-python\n",
    "for string in strings5:\n",
    "#     print(re.findall(pattern5, string))\n",
    "    string = re.sub(pattern5, reverse_last_two_letters, string)\n",
    "    print(string)"
   ]
  },
  {
   "cell_type": "markdown",
   "metadata": {},
   "source": [
    "### Задача 6: (1 балл)\n",
    "Используя регулярное выражение, выделите повторяющиеся подряд слова тегом [repeat][/repeat]:\n",
    "\n",
    "\"Today is a perfect day\" >> \"Today is a perfect day\"  \n",
    "\"Today is is a perfect day\" >> \"Today is [repeat]is[/repeat] a perfect day\"  \n",
    "\"nice day, nice night!\" >> \"nice day, nice night!\"  \n",
    "\"first second second first second first first\" >> \"first second [repeat]second[/repeat] first second first [repeat]first[/repeat]\"   \n",
    "\"Bad bad news: you should analyze any case\" >> \"Bad [repeat]bad[/repeat] news: you should analyze any case\"\n"
   ]
  },
  {
   "cell_type": "code",
   "execution_count": 18,
   "metadata": {},
   "outputs": [],
   "source": [
    "# ваш код здесь\n",
    "pattern6 = r'(\\w+)(\\s+)(\\1)'"
   ]
  },
  {
   "cell_type": "code",
   "execution_count": 19,
   "metadata": {},
   "outputs": [],
   "source": [
    "strings6 = [\n",
    "    \"Today is a perfect day\",  # \"Today is a perfect day\"  \n",
    "    \"Today is is a perfect day\",  # \"Today is [repeat]is[/repeat] a perfect day\"  \n",
    "    \"nice day, nice night!\",  # \"nice day, nice night!\"  \n",
    "    \"first second second first second first first\",  # \"first second [repeat]second[/repeat] first second first [repeat]first[/repeat]\"   \n",
    "    \"Bad bad news: you should analyze any case\"  # \"Bad [repeat]bad[/repeat] news: you should analyze any case\"\n",
    "]"
   ]
  },
  {
   "cell_type": "code",
   "execution_count": 20,
   "metadata": {},
   "outputs": [
    {
     "name": "stdout",
     "output_type": "stream",
     "text": [
      "Today is a perfect day\n",
      "Today is [repeat]is[/repeat] a perfect day\n",
      "nice day, nice night!\n",
      "first second [repeat]second[/repeat] first second first [repeat]first[/repeat]\n",
      "Bad [repeat]bad[/repeat] news: you should analyze any case\n"
     ]
    }
   ],
   "source": [
    "# https://stackoverflow.com/questions/500864/case-insensitive-regular-expression-without-re-compile\n",
    "for string in strings6:\n",
    "    string = re.sub(pattern6, r'\\1\\2' + r'[repeat]' + r'\\3' + r'[/repeat]' , string, flags=re.IGNORECASE)\n",
    "    print(string)"
   ]
  },
  {
   "cell_type": "markdown",
   "metadata": {},
   "source": [
    "### Задача 7: (2 балла)\n",
    "Проверьте, является ли заданная строка числом c разделителями разрядов по три и, возможно, дробной частью.\n",
    "В качестве разделителя используются или запятые, или пробел. В качетсве указателя дробной части или точка, или запятая, **в зависимости от разделителя**. Т.е 10,000,000.45 и 10 000 000,45 подходят, а 123.456.789 - нет.  \n",
    "\n",
    "**Примеры тестов:**  \n",
    "\"8,205,500.4672\" >> True  \n",
    "\"0.5\" >> True  \n",
    "\"46\" >> True  \n",
    "\"1 024\" >> True  \n",
    "\"1024\" >> False  \n",
    "\"1,5826,000 >> False  \n",
    "\"100.\" >> False"
   ]
  },
  {
   "cell_type": "code",
   "execution_count": 21,
   "metadata": {},
   "outputs": [],
   "source": [
    "# ваш код здесь\n",
    "pattern7_space = r'\\d{1,3}(( \\d{3})+)?([,\\.]\\d+)?'  # не знаю, почему-то не работает, если просто разделить символом | (or)\n",
    "pattern7_comma = r'\\d{1,3}((,\\d{3})+)?(\\.\\d+)?'"
   ]
  },
  {
   "cell_type": "code",
   "execution_count": 22,
   "metadata": {},
   "outputs": [],
   "source": [
    "strings7 = [\n",
    "    \"8,205,500.4672\",  # True\n",
    "    \"0.5\",  # True\n",
    "    \"46\",  # True\n",
    "    \"1 024\",  # True\n",
    "    \"1024\",  # False\n",
    "    \"1,5826,000\",  # False\n",
    "    \"100.\"  # False\n",
    "]"
   ]
  },
  {
   "cell_type": "code",
   "execution_count": 23,
   "metadata": {},
   "outputs": [],
   "source": [
    "def check_match_length(match: re.Match):\n",
    "    start, end = match.span()\n",
    "    return end - start"
   ]
  },
  {
   "cell_type": "code",
   "execution_count": 24,
   "metadata": {},
   "outputs": [
    {
     "name": "stdout",
     "output_type": "stream",
     "text": [
      "8,205,500.4672 True\n",
      "0.5 True\n",
      "46 True\n",
      "1 024 True\n",
      "1024 False\n",
      "1,5826,000 False\n",
      "100. False\n"
     ]
    }
   ],
   "source": [
    "for string in strings7:\n",
    "    print(\n",
    "        string, \n",
    "        (check_match_length(re.match(pattern7_space, string)) == len(string) \n",
    "         or \n",
    "         check_match_length(re.match(pattern7_comma, string)) == len(string))\n",
    "    )"
   ]
  },
  {
   "cell_type": "markdown",
   "metadata": {},
   "source": [
    "### Задача 8: (3 баллов)\n",
    "На вход поступает имя файла, содержащий код странички сайта. Напишите функцию, которая ищет все ссылки вида ```<a ... href=\"...\" ... >``` и выводит найденные сайты **в алфавитном порядке**, используя регулярные выражения.\n",
    "    \n",
    "Сайтом считайте домен с именами поддоменов, то есть, это последовательность символов, которая следует сразу после символов протокола (http://, ftp:// итд), если он есть, до символов порта (например, :6006) или пути, если они есть, за исключением случаев с относительными ссылками вида\n",
    "```html\n",
    "<a href=\"../some_path/index.html\">```\n",
    "    \n",
    "Пример содержимого файла:  \n",
    "\n",
    "```html\n",
    "<a href=\"https://vk.com/feed\">\n",
    "<a href='https://vk.com'>\n",
    "<a href='http://music.yandex.ru:4003'>\n",
    "<a href=\"ftp://mail.ru/dist\">\n",
    "<a href=\"mail.ru\">\n",
    "<a href=\"www.mail.ru\">\n",
    "<a href=\"cs.mipt.ru/advanced_python/lessons/lab10.html\">\n",
    "<a href=\"https://yandex.ru/search/?lr=213&text=%D1%81%D0%BA%D0%B0%D1%82%D0%B0%D1%82%D1%8C%20%D0%B4%D0%BE%D0%BC%D0%B0%D1%88%D0%BA%D1%83%20%D0%BF%D0%BE%20%D0%BF%D0%B8%D1%82%D0%BE%D0%BD%D1%83\">\n",
    "<a href=\"../no_relative_paths\">\n",
    "```\n",
    "\n",
    "Соответсвующий ответ:\n",
    "```html\n",
    "cs.mipt.ru\n",
    "mail.ru\n",
    "music.yandex.ru\n",
    "vk.com\n",
    "yandex.ru\n",
    "```"
   ]
  },
  {
   "cell_type": "code",
   "execution_count": 25,
   "metadata": {},
   "outputs": [],
   "source": [
    "# Фулл можно найти на https://stackoverflow.com/questions/827557/how-do-you-validate-a-url-with-a-regular-expression-in-python\n",
    "# Не хочется писать фулл )))))))))))))))))))))))))))))))))))))))))))))))))))) "
   ]
  },
  {
   "cell_type": "code",
   "execution_count": 26,
   "metadata": {},
   "outputs": [],
   "source": [
    "# ваш код здесь\n",
    "# моя жалкая пародия\n",
    "pattern8 = (\n",
    "    r'''<a href=(['\"])'''  # начало\n",
    "    r'''((((https?)|(ftp)):\\/\\/)|(w{3}\\.))?'''  # протокол (на минималках) или www\n",
    "    r'''((\\w+\\.)+(\\w+))'''  # сам сайт\n",
    "    r'''(((\\/\\w+)+((\\w+\\.\\w+)|(.+))?)|(:\\d+))?'''  # путь (первые скобки), либо порт (вторые скобки)\n",
    "    r'''(\\1)>'''  # закрытие кавычек\n",
    ")"
   ]
  },
  {
   "cell_type": "code",
   "execution_count": 27,
   "metadata": {},
   "outputs": [],
   "source": [
    "file = (\n",
    "    '<a href=\"https://vk.com/feed\">\\n'\n",
    "    '''<a href='https://vk.com'>\\n'''\n",
    "    '''<a href='http://music.yandex.ru:4003'>\\n'''\n",
    "    '<a href=\"ftp://mail.ru/dist\">\\n'\n",
    "    '<a href=\"mail.ru\">\\n'\n",
    "    '<a href=\"www.mail.ru\">\\n'\n",
    "    '<a href=\"cs.mipt.ru/advanced_python/lessons/lab10.html\">\\n'\n",
    "    '<a href=\"https://yandex.ru/search/?lr=213&text=%D1%81%D0%BA%D0%B0%D1%82%D0%B0%D1%82%D1%8C%20%D0%B4%D0%BE%D0%BC%D0%B0%D1%88%D0%BA%D1%83%20%D0%BF%D0%BE%20%D0%BF%D0%B8%D1%82%D0%BE%D0%BD%D1%83\">\\n'  \n",
    "    '<a href=\"../no_relative_paths\">\\n'\n",
    ")"
   ]
  },
  {
   "cell_type": "code",
   "execution_count": 28,
   "metadata": {
    "scrolled": true
   },
   "outputs": [
    {
     "name": "stdout",
     "output_type": "stream",
     "text": [
      "cs.mipt.ru\n",
      "mail.ru\n",
      "music.yandex.ru\n",
      "vk.com\n",
      "yandex.ru\n"
     ]
    }
   ],
   "source": [
    "sites = set()\n",
    "for result in re.findall(pattern8, file):\n",
    "    site = result[7]\n",
    "    sites.add(site)\n",
    "print(*sorted(sites), sep='\\n')"
   ]
  },
  {
   "cell_type": "markdown",
   "metadata": {},
   "source": [
    "Да, парсить html - неблагодарное занятие. Впредь пользуйтесь специализированными библиотеками."
   ]
  },
  {
   "cell_type": "markdown",
   "metadata": {},
   "source": [
    "# Сериализация"
   ]
  },
  {
   "cell_type": "markdown",
   "metadata": {},
   "source": [
    "### Задача 9: (2 балла)\n",
    "Придумайте и приведите пример класса, которому может понадобиться сериализация. Приведите пример использования: сохраните и обратно считайте объект вашего класса. Баллы ставятся в зависимости от оригинальности, сложности и адекватности вашего примера "
   ]
  },
  {
   "cell_type": "code",
   "execution_count": 29,
   "metadata": {},
   "outputs": [],
   "source": [
    "#ваш код здесь\n",
    "class Vector:  # захотели кому-то перекинуть полученный вектор 2x1\n",
    "    def __init__(self, x, y):\n",
    "        self.__x = x\n",
    "        self.__y = y\n",
    "        \n",
    "        \n",
    "    def __getstate__(self):\n",
    "        return {'X': self.__x, 'Y': self.__y}\n",
    "    \n",
    "    \n",
    "    def __setstate__(self, state):\n",
    "        self.__x = state['X']\n",
    "        self.__y = state['Y']\n",
    "    \n",
    "    \n",
    "    @property\n",
    "    def x(self):\n",
    "        return self.__x\n",
    "    \n",
    "    \n",
    "    @property\n",
    "    def y(self):\n",
    "        return self.__y\n",
    "    \n",
    "    \n",
    "    def __eq__(self, another):\n",
    "        return self.x == another.x and self.y == another.y\n",
    "    \n",
    "    \n",
    "    def __add__(self, another):\n",
    "        return Vector(\n",
    "            self.__x + another.x,\n",
    "            self.__y + another.y\n",
    "        )\n",
    "        \n",
    "        \n",
    "    def __sub__(self, another):\n",
    "        return Vector(\n",
    "            self.__x - another.x,\n",
    "            self.__y - another.y\n",
    "        )\n",
    "    \n",
    "    \n",
    "    def __mul__(self, another):\n",
    "        return self.__x * another.x + self.__y * another.y\n",
    "        \n",
    "        \n",
    "    def __str__(self):\n",
    "        return 'Vector (' + str(self.__x) + ', ' + str(self.__y) + ')'\n",
    "    \n",
    "    \n",
    "    def __repr__(self):\n",
    "        return 'Vector (' + str(self.__x) + ', ' + str(self.__y) + ')'"
   ]
  },
  {
   "cell_type": "code",
   "execution_count": 30,
   "metadata": {},
   "outputs": [],
   "source": [
    "import pickle"
   ]
  },
  {
   "cell_type": "code",
   "execution_count": 31,
   "metadata": {},
   "outputs": [
    {
     "data": {
      "text/plain": [
       "b'\\x80\\x04\\x95+\\x00\\x00\\x00\\x00\\x00\\x00\\x00\\x8c\\x08__main__\\x94\\x8c\\x06Vector\\x94\\x93\\x94)\\x81\\x94}\\x94(\\x8c\\x01X\\x94K\\x01\\x8c\\x01Y\\x94K\\x01ub.'"
      ]
     },
     "execution_count": 31,
     "metadata": {},
     "output_type": "execute_result"
    }
   ],
   "source": [
    "old = pickle.dumps(Vector(1, 1))\n",
    "old"
   ]
  },
  {
   "cell_type": "code",
   "execution_count": 32,
   "metadata": {},
   "outputs": [
    {
     "name": "stdout",
     "output_type": "stream",
     "text": [
      "<class '__main__.Vector'>\n",
      "Vector (1, 1)\n"
     ]
    }
   ],
   "source": [
    "new = pickle.loads(old)\n",
    "print(type(new), new, sep='\\n')"
   ]
  },
  {
   "cell_type": "markdown",
   "metadata": {},
   "source": [
    "### Задача 10: сериализация объектов файла (4 балла)\n",
    "К сожалению, объекты файла не поддерживают сериализацию. Действительно, в общем случае довольно не понятно, в каком представлении его хранить: сохранять ли все содержимое файла? Если сохранять, то только непрочитанное или вообще все? Хранение всего содержимого может оказаться довольно накладным: а вдруг оригинальный файл очень большой? Вдруг он вообще хранится где-то на удаленном сервере и заняимает 10Тб? А если не сохранять содержимое, то что тогда сохранять? В общем, понятно, почему по умолчанию не реализована сериализация для файлов - для каждого случая нужен свой подход.  \n",
    "Но в этом задании мы напишем свою сериализацию для объекта файла. \n",
    "* Напишите свой класс, в одном из полей которого будет храниться объект файла. Реализуйте как минимум 2 нужных конструктора: один принимает уже непосредственно объект открытого файла, второй - аналогично, как в open (т.е имя файла и режим, в котором открыть файл). Реализуйте основные методы для файла, а именно чтение и запись в/из файла (имейте в виду, что читать можно только из файла, открытого на чтение, а писать в файл, открытый на запись. Ваша реализация должна следить за таким и в лучшем случае предоставлять только те методы, которые доступны для данного режима, в худшем - бросать осмысленное исключение). Не забудьте, что файлы и закрывать надо. **(1.5 балла)**\n",
    "* Реализуйте нужные методы (что-то из \\_\\_dict\\_\\_, \\_\\_getstate\\_\\_, \\_\\_setstate\\_\\_), чтобы стала возможна сериализация. Пересохранять содержимое файла не нужно. Подумайте, какие 3 характеристики задают файл и его текущее состояние и сохраняйте именно их. **(2 балла)**\n",
    "* Продемонстрируйте работу написанного класса с сериализацией: через новый класс откройте новый файл, запишите в него немного текста, сериализуйте объект, считайте объект заново и запишите еще текста (текст по сути должен дозаписаться). Продемонстрируйте, что и при чтении, после сериализации чтение продолжается с места, на котором мы остановились при сериализации. **(требуется реализовать, чтобы получить баллы выше)**\n",
    "* Пора подумать и безопасности. Представьте, что содержимое оригинального файла после сериализации изменилось. Получается, что когда мы восстановим наш сериализованный объект, читать мы будем совсем другой файл. В лучшем случае, мы будем читать неактуальную информацию, в худшем - можем получить ошибки сегментации, связанные с выходом за границы (представьте, что файл урезался, а вы пытаетесь продолжить чтение с конца файла, которого уже в помине нет). Конечно, оригинальную информацию вы уже не восстановите, так как само содержимое мы не сохраняли, но хочется замечать такие ситуации. Добавьте нужную проверку, чтобы при восстановлении объекта, если используемый файл изменился, бросалось осмысленное исключение. Возможно, вам понадобится хранить 4 характеристику файла, как-то отражающую его содержимое. **(0.5 балла)** "
   ]
  },
  {
   "cell_type": "code",
   "execution_count": 33,
   "metadata": {},
   "outputs": [],
   "source": [
    "from io import IOBase\n",
    "import os"
   ]
  },
  {
   "cell_type": "code",
   "execution_count": 34,
   "metadata": {},
   "outputs": [],
   "source": [
    "#ваш код здесь\n",
    "class FileOpeningError(Exception):\n",
    "    pass\n",
    "\n",
    "\n",
    "class ParametersFillingError(Exception):\n",
    "    pass\n",
    "\n",
    "\n",
    "class FileClosedError(Exception):\n",
    "    pass\n",
    "\n",
    "\n",
    "class FileHasChangedError(Exception):\n",
    "    pass\n",
    "\n",
    "\n",
    "class SerializableFile:\n",
    "    \"\"\"\n",
    "    Класс сериализуемых файлов. \n",
    "    Параметры:\n",
    "    opened - bool - маркер того, в каком состоянии Вы будете задавать файл.\n",
    "    Если opened == True, то нужно передать объект открытого файла в переменную file.\n",
    "    Если opened == False, то нужно передать название файла в переменную file_name\n",
    "    и режим открытия в переменную mode [те же значения, что и для функции read()].\n",
    "    \"\"\"\n",
    "    # один конструтор, но можно было и два сделать (наследоваться от 2 классов с разными __init__, например)\n",
    "    def __init__(self, opened=False, opened_file=None, file_name=None, mode=None):\n",
    "        if opened and opened_file is not None and isinstance(file, IOBase):\n",
    "            self._file = file\n",
    "        elif not opened and file_name is not None and mode is not None:\n",
    "            try:\n",
    "                self._file = open(file_name, mode)\n",
    "            except IOError:\n",
    "                raise FileOpeningError('Не получилось открыть файл, проверьте путь к нему и желаемый способ работы.')\n",
    "        else:\n",
    "            raise ParametersFillingError('Параметры класса заданы неверно, попробуйте еще раз.')\n",
    "        \n",
    "        self.mode = self._file.mode\n",
    "        self.name = self._file.name\n",
    "        self.encoding = self._file.encoding\n",
    "        # https://stackoverflow.com/questions/182197/how-do-i-watch-a-file-for-changes\n",
    "        self._cached_stamp = 0\n",
    "        \n",
    "        if self._file.readable() and not self._file.writable():\n",
    "            self.read = self._read\n",
    "        elif self._file.writable() and not self._file.readable():\n",
    "            self.write = self._write\n",
    "        \n",
    "        \n",
    "    def close(self):\n",
    "        self._file.close()\n",
    "        \n",
    "        \n",
    "    @property\n",
    "    def closed(self):\n",
    "        return self._file.closed\n",
    "        \n",
    "    \n",
    "    def _read(self):\n",
    "        if self.closed:\n",
    "            raise FileClosedError('Файл закрыт, запись невозможна.')\n",
    "        return self._file.read()\n",
    "        \n",
    "        \n",
    "    def _write(self, text):\n",
    "        if self.closed:\n",
    "            raise FileClosedError('Файл закрыт, запись невозможна.')\n",
    "        self._file.write(text)\n",
    "            \n",
    "            \n",
    "    def __getstate__(self):  # https://github.com/ray-project/ray/issues/1214\n",
    "        self.close()  # закрываем файл, потому что по-другому не работает\n",
    "        self._cached_stamp = os.stat(self.name).st_mtime  # подменяем время последнего изменения\n",
    "        paramsDict = self.__dict__.copy()\n",
    "        del paramsDict['_file']\n",
    "        return paramsDict\n",
    "    \n",
    "    \n",
    "    def __setstate__(self, paramsDict):\n",
    "        # проверка совпадения времени последнего изменения файла\n",
    "        if paramsDict['_cached_stamp'] != os.stat(paramsDict['name']).st_mtime:\n",
    "            raise FileHasChangedError('Файл был изменен, работа с ним невозможна.')\n",
    "        self.mode = paramsDict['mode']\n",
    "        self.name = paramsDict['name']\n",
    "        self.encoding = paramsDict['encoding']\n",
    "        self._cached_stamp = paramsDict['_cached_stamp']\n",
    "        try:\n",
    "            self._file = open(self.name, self.mode, encoding=self.encoding)\n",
    "            if self._file.readable() and not self._file.writable():\n",
    "                self.read = self._read\n",
    "            elif self._file.writable() and not self._file.readable():\n",
    "                self.write = self._write\n",
    "        except IOError:\n",
    "            raise FileOpeningError('Не получилось открыть файл.')\n",
    "    "
   ]
  },
  {
   "cell_type": "markdown",
   "metadata": {},
   "source": [
    "### Запись"
   ]
  },
  {
   "cell_type": "code",
   "execution_count": 41,
   "metadata": {},
   "outputs": [],
   "source": [
    "File = SerializableFile(opened=False, file_name='kek.txt', mode='a')"
   ]
  },
  {
   "cell_type": "code",
   "execution_count": 42,
   "metadata": {},
   "outputs": [],
   "source": [
    "File.write('kek')"
   ]
  },
  {
   "cell_type": "code",
   "execution_count": 43,
   "metadata": {},
   "outputs": [],
   "source": [
    "result = pickle.loads(pickle.dumps(File))"
   ]
  },
  {
   "cell_type": "code",
   "execution_count": 44,
   "metadata": {},
   "outputs": [],
   "source": [
    "result.write('kek')"
   ]
  },
  {
   "cell_type": "code",
   "execution_count": 45,
   "metadata": {},
   "outputs": [
    {
     "data": {
      "text/plain": [
       "True"
      ]
     },
     "execution_count": 45,
     "metadata": {},
     "output_type": "execute_result"
    }
   ],
   "source": [
    "result.close()\n",
    "result.closed"
   ]
  },
  {
   "cell_type": "code",
   "execution_count": 46,
   "metadata": {},
   "outputs": [
    {
     "name": "stdout",
     "output_type": "stream",
     "text": [
      "kekkek\n"
     ]
    }
   ],
   "source": [
    "with open('kek.txt') as f:\n",
    "    print(f.read())"
   ]
  },
  {
   "cell_type": "markdown",
   "metadata": {},
   "source": [
    "### Чтение"
   ]
  },
  {
   "cell_type": "code",
   "execution_count": 47,
   "metadata": {},
   "outputs": [],
   "source": [
    "File = SerializableFile(opened=False, file_name='kek.txt', mode='r')"
   ]
  },
  {
   "cell_type": "code",
   "execution_count": 48,
   "metadata": {},
   "outputs": [
    {
     "data": {
      "text/plain": [
       "'kekkek'"
      ]
     },
     "execution_count": 48,
     "metadata": {},
     "output_type": "execute_result"
    }
   ],
   "source": [
    "File.read()"
   ]
  },
  {
   "cell_type": "code",
   "execution_count": 49,
   "metadata": {},
   "outputs": [],
   "source": [
    "result = pickle.loads(pickle.dumps(File))"
   ]
  },
  {
   "cell_type": "code",
   "execution_count": 50,
   "metadata": {},
   "outputs": [
    {
     "data": {
      "text/plain": [
       "'kekkek'"
      ]
     },
     "execution_count": 50,
     "metadata": {},
     "output_type": "execute_result"
    }
   ],
   "source": [
    "result.read()"
   ]
  },
  {
   "cell_type": "code",
   "execution_count": 51,
   "metadata": {},
   "outputs": [
    {
     "data": {
      "text/plain": [
       "True"
      ]
     },
     "execution_count": 51,
     "metadata": {},
     "output_type": "execute_result"
    }
   ],
   "source": [
    "result.close()\n",
    "result.closed"
   ]
  }
 ],
 "metadata": {
  "kernelspec": {
   "display_name": "Python 3",
   "language": "python",
   "name": "python3"
  },
  "language_info": {
   "codemirror_mode": {
    "name": "ipython",
    "version": 3
   },
   "file_extension": ".py",
   "mimetype": "text/x-python",
   "name": "python",
   "nbconvert_exporter": "python",
   "pygments_lexer": "ipython3",
   "version": "3.9.0"
  }
 },
 "nbformat": 4,
 "nbformat_minor": 2
}
