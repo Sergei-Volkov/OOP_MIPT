{
 "cells": [
  {
   "cell_type": "markdown",
   "metadata": {},
   "source": [
    "# Домашняя работа №2 (Курс \"Advanced Python\")\n",
    "## ФИО:"
   ]
  },
  {
   "cell_type": "markdown",
   "metadata": {},
   "source": [
    "**Тема:** Github, lambdas, collections  \n",
    "**Выдана:** 12 сентября  \n",
    "**Мягкий дедлайн:** 19 сентября   \n",
    "**Жесткий дедлайн:** 26 сентября   "
   ]
  },
  {
   "cell_type": "markdown",
   "metadata": {},
   "source": [
    "**Правила:**\n",
    "Результат выполнения задания - отчет в формате Jupyter Notebook с кодом и выводами. В ходе выполнения задания требуется реализовать все необходимые алгоритмы, провести эксперименты и ответить на поставленные вопросы. Дополнительные выводы приветствуются. Чем меньше кода и больше комментариев - тем лучше.\n",
    "\n",
    "Все ячейки должны быть \"выполненными\", при этом результат должен воспроизвдиться при проверке.\n",
    "\n",
    "Задание выполняется самостоятельно. **Если вы нашли в Интернете какой-то код, который собираетесь заимствовать, обязательно укажите это в задании.** Если вы советовались с товарищем и/или позаимствовали его решение, обязательно укажите об этом в отчете. Нет ничего плохого в том, что вы пытаетесь разобраться и помогаете друг другу; плохо - когда вы скрываете это и выдаете чужие заслуги за свои. При обнаружении списывания ВСЕМ студентам, имеющим одинаковые списанные решения будет выставлен ОТРИЦАТЕЛЬНЫЙ балл (т.е если задача стоит 4 балла, вы получите не 0, а -4), \"оригинал\" искаться не будет\n",
    "\n",
    "Задание, сданное после жесткого дедлайна, не принимается."
   ]
  },
  {
   "cell_type": "markdown",
   "metadata": {},
   "source": [
    "### Задание 0:\n",
    "Внимательно прочитайте материалы с http://cs.mipt.ru/advanced_python/lessons/lab2.html, которые я не стал рассказывать на семинаре. Задания в конце страницы выполнять не нужно"
   ]
  },
  {
   "cell_type": "markdown",
   "metadata": {},
   "source": [
    "### Задание 1: создание своего профиля на Github (3 балла)\n",
    "Создайте свой профиль на github.  \n",
    "Склонируйте репозиторий https://github.com/mohamedattahri/rst в свой репозиторий под именем Clonned  \n",
    "Создайте свой репозиторий под любым названием.   \n",
    "В своем репозитории добавьте еще одну ветку, помимо master.  \n",
    "В новую ветку в свой репозиторий загрузите текстовый файл вида \"Your_last_name.txt\", в котором записано ваше имя (например, файл \"Plyusnin.txt\" с содержимым \"Павел\")  "
   ]
  },
  {
   "cell_type": "code",
   "execution_count": 1,
   "metadata": {
    "collapsed": true
   },
   "outputs": [],
   "source": [
    "### укажите ссылку на ваш репозиторий и на склоннированный Clonned"
   ]
  },
  {
   "cell_type": "markdown",
   "metadata": {
    "collapsed": true
   },
   "source": [
    "### Задание 2: (1 балл)\n",
    "Пользуясь только функцией sorted, в одну строку, найдите 5 ключей с самыми высокими значениями в словаре dictionary:"
   ]
  },
  {
   "cell_type": "code",
   "execution_count": 2,
   "metadata": {},
   "outputs": [
    {
     "data": {
      "text/plain": [
       "[24, 29, 34, 3, 506]"
      ]
     },
     "execution_count": 2,
     "metadata": {},
     "output_type": "execute_result"
    }
   ],
   "source": [
    "import numpy as np\n",
    "dictionary = {x: np.random.randn() for x in range(1000)}\n",
    "\n",
    "result = sorted(dictionary, key=dictionary.get, reverse=True)[:5]\n",
    "result\n",
    "#ваш код здесь"
   ]
  },
  {
   "cell_type": "markdown",
   "metadata": {},
   "source": [
    "### Задание 3: (1 балл)\n",
    "Используя zip, напишите функцию print_pascal(n), которая выводит первые n строк треугольника Паскаля.  \n",
    "**Подсказка:** Треугольник Паскаля выглядит следующим образом: его первая строка состоит только из единицы. N-ая строка по размерности на 2 большей N-1 строки. Каждый элемент N строки получается из суммы двух соответствующих элементов над ним (для двух крайних чисел можно считать, что N-1 строка на самом деле имеет ту же размерность, что и N, просто самым левым и самым правым элементом являются 0)"
   ]
  },
  {
   "cell_type": "code",
   "execution_count": 3,
   "metadata": {},
   "outputs": [
    {
     "name": "stdout",
     "output_type": "stream",
     "text": [
      "[1]\n",
      "[1, 1]\n",
      "[1, 2, 1]\n",
      "[1, 3, 3, 1]\n",
      "[1, 4, 6, 4, 1]\n",
      "[1, 5, 10, 10, 5, 1]\n"
     ]
    }
   ],
   "source": [
    "def print_pascal(n):\n",
    "    row = [1]\n",
    "    for x in range(max(n, 0)):\n",
    "        print(row)\n",
    "        row = [left + right for left, right in zip(row + [0], [0] + row)]\n",
    "    return\n",
    "\n",
    "print_pascal(6) "
   ]
  },
  {
   "cell_type": "markdown",
   "metadata": {},
   "source": [
    "### Задание 4: (1 балл)\n",
    "Напишите в одну строчку функцию, которая складывает цифры натурального числа"
   ]
  },
  {
   "cell_type": "code",
   "execution_count": 4,
   "metadata": {
    "collapsed": true
   },
   "outputs": [],
   "source": [
    "def sum_digits(n):\n",
    "    return sum(list(map(int, str(n))))\n",
    "\n",
    "#или так\n",
    "\n",
    "def sum_digits(n):\n",
    "    return sum([int(d) for d in str(n)])"
   ]
  },
  {
   "cell_type": "markdown",
   "metadata": {},
   "source": [
    "### Задание 5: (1 балл)\n",
    "Напишите функцию, которая принимает текст и выводит два числа: самое длинное слово, и наиболее часто встречающееся. \n",
    "Вспомните, что мы проходили на семинаре ;)"
   ]
  },
  {
   "cell_type": "code",
   "execution_count": 5,
   "metadata": {},
   "outputs": [
    {
     "name": "stdout",
     "output_type": "stream",
     "text": [
      "aaaaaaaaa aa\n"
     ]
    }
   ],
   "source": [
    "#ваш код здесь\n",
    "from collections import Counter\n",
    "\n",
    "def common_and_longest(text):\n",
    "    words = text.split()\n",
    "    counter = Counter(words)\n",
    "    most_common, _ = counter.most_common()[0]\n",
    "\n",
    "    longest = max(words, key=len)\n",
    "\n",
    "    print(longest, most_common)\n",
    "    \n",
    "common_and_longest(\"aaa aa aa aaaaaaaaa aa aa aaaa\")"
   ]
  },
  {
   "cell_type": "markdown",
   "metadata": {},
   "source": [
    "### Задание 6: функция возвращает функции! (2 балла)\n",
    "\n",
    "Реализуйте функцию checker_mod(x, mod=0), возвращающую лямбда функцию от одного аргумента y, которая будет возвращать True, если остаток от деления y на x равен mod, и False иначе.\n",
    "\n",
    "Пример использования:\n",
    "```python3\n",
    "mod_2 = checker_mod(2)\n",
    "\n",
    "print(mod_2(3)) # False\n",
    "print(mod_2(4)) # True\n",
    "\n",
    "mod_2_1 = checker_mod(2, 1)\n",
    "print(mod_2_1(3)) # True\n",
    "```"
   ]
  },
  {
   "cell_type": "code",
   "execution_count": 6,
   "metadata": {
    "collapsed": true
   },
   "outputs": [],
   "source": [
    "#ваш код здесь\n",
    "def checker_mod(x, mod=0):\n",
    "    return lambda y: y % x == mod"
   ]
  }
 ],
 "metadata": {
  "kernelspec": {
   "display_name": "Python 3",
   "language": "python",
   "name": "python3"
  },
  "language_info": {
   "codemirror_mode": {
    "name": "ipython",
    "version": 3
   },
   "file_extension": ".py",
   "mimetype": "text/x-python",
   "name": "python",
   "nbconvert_exporter": "python",
   "pygments_lexer": "ipython3",
   "version": "3.8.2"
  }
 },
 "nbformat": 4,
 "nbformat_minor": 2
}
