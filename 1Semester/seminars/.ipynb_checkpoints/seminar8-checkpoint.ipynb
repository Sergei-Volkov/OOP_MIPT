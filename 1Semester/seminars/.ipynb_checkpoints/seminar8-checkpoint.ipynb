{
 "cells": [
  {
   "cell_type": "code",
   "execution_count": 6,
   "metadata": {},
   "outputs": [],
   "source": [
    "class Iter:\n",
    "    def __init__(self, maxN):\n",
    "        self.state = 0\n",
    "        self.maxN = maxN\n",
    "        \n",
    "    def __next__(self):\n",
    "        self.state += 1\n",
    "        return self.state\n",
    "    \n",
    "    def __iter__(self):\n",
    "        pass"
   ]
  },
  {
   "cell_type": "code",
   "execution_count": 99,
   "metadata": {
    "collapsed": true
   },
   "outputs": [],
   "source": [
    "def generatorClassic(N):\n",
    "    i = 0\n",
    "    for ix in range(N):\n",
    "        yield i\n",
    "        [1,2,3,[]]\n",
    "        i += 1"
   ]
  },
  {
   "cell_type": "code",
   "execution_count": 101,
   "metadata": {},
   "outputs": [
    {
     "ename": "TypeError",
     "evalue": "can't send non-None value to a just-started generator",
     "output_type": "error",
     "traceback": [
      "\u001b[1;31m---------------------------------------------------------------------------\u001b[0m",
      "\u001b[1;31mTypeError\u001b[0m                                 Traceback (most recent call last)",
      "\u001b[1;32m<ipython-input-101-91933f3bab5f>\u001b[0m in \u001b[0;36m<module>\u001b[1;34m()\u001b[0m\n\u001b[0;32m      1\u001b[0m \u001b[0mgc\u001b[0m \u001b[1;33m=\u001b[0m \u001b[0mgeneratorClassic\u001b[0m\u001b[1;33m(\u001b[0m\u001b[1;36m10\u001b[0m\u001b[1;33m)\u001b[0m\u001b[1;33m\u001b[0m\u001b[0m\n\u001b[1;32m----> 2\u001b[1;33m \u001b[0mprint\u001b[0m\u001b[1;33m(\u001b[0m\u001b[0mgc\u001b[0m\u001b[1;33m.\u001b[0m\u001b[0msend\u001b[0m\u001b[1;33m(\u001b[0m\u001b[1;36m3\u001b[0m\u001b[1;33m)\u001b[0m\u001b[1;33m)\u001b[0m\u001b[1;33m\u001b[0m\u001b[0m\n\u001b[0m",
      "\u001b[1;31mTypeError\u001b[0m: can't send non-None value to a just-started generator"
     ]
    }
   ],
   "source": [
    "gc = generatorClassic(10)\n",
    "print(gc.send(3))"
   ]
  },
  {
   "cell_type": "code",
   "execution_count": 167,
   "metadata": {
    "collapsed": true
   },
   "outputs": [],
   "source": [
    "class NowDivide(Exception):\n",
    "    pass\n",
    "\n",
    "class NowAdd(Exception):\n",
    "    pass"
   ]
  },
  {
   "cell_type": "code",
   "execution_count": 199,
   "metadata": {},
   "outputs": [],
   "source": [
    "def generator(N):\n",
    "    i = 0\n",
    "    isAdding = True\n",
    "    \n",
    "    for ix in range(N):\n",
    "        try:\n",
    "            j = yield i\n",
    "        except NowDivide:\n",
    "            isAdding = False\n",
    "        except NowAdd:\n",
    "            isAdding = True\n",
    "        except StopIteration:\n",
    "            return\n",
    "        except Exception as e:\n",
    "            raise ValueError(\"Я не принимаю такой сигнал\")\n",
    "            \n",
    "        if isAdding:\n",
    "            i += j\n",
    "        else:\n",
    "            i -= j"
   ]
  },
  {
   "cell_type": "code",
   "execution_count": 200,
   "metadata": {},
   "outputs": [
    {
     "data": {
      "text/plain": [
       "0"
      ]
     },
     "execution_count": 200,
     "metadata": {},
     "output_type": "execute_result"
    }
   ],
   "source": [
    "g = generator(10)\n",
    "next(g)"
   ]
  },
  {
   "cell_type": "code",
   "execution_count": 203,
   "metadata": {},
   "outputs": [
    {
     "data": {
      "text/plain": [
       "6"
      ]
     },
     "execution_count": 203,
     "metadata": {},
     "output_type": "execute_result"
    }
   ],
   "source": [
    "g.send(2)"
   ]
  },
  {
   "cell_type": "code",
   "execution_count": 204,
   "metadata": {},
   "outputs": [
    {
     "ename": "StopIteration",
     "evalue": "",
     "output_type": "error",
     "traceback": [
      "\u001b[1;31m---------------------------------------------------------------------------\u001b[0m",
      "\u001b[1;31mStopIteration\u001b[0m                             Traceback (most recent call last)",
      "\u001b[1;32m<ipython-input-204-292e0775a87a>\u001b[0m in \u001b[0;36m<module>\u001b[1;34m()\u001b[0m\n\u001b[1;32m----> 1\u001b[1;33m \u001b[0mg\u001b[0m\u001b[1;33m.\u001b[0m\u001b[0mthrow\u001b[0m\u001b[1;33m(\u001b[0m\u001b[0mStopIteration\u001b[0m\u001b[1;33m)\u001b[0m\u001b[1;33m\u001b[0m\u001b[0m\n\u001b[0m",
      "\u001b[1;31mStopIteration\u001b[0m: "
     ]
    }
   ],
   "source": [
    "g.throw(StopIteration)"
   ]
  },
  {
   "cell_type": "markdown",
   "metadata": {},
   "source": [
    "# Задача\n",
    "Реализовать корутину с желаемым поведением ниже"
   ]
  },
  {
   "cell_type": "code",
   "execution_count": 18,
   "metadata": {},
   "outputs": [
    {
     "name": "stdout",
     "output_type": "stream",
     "text": [
      "['Alohaaa']\n",
      "[]\n",
      "['anaaas']\n"
     ]
    }
   ],
   "source": [
    "substringer = findSubString(\"aaa\")\n",
    "next(substringer)\n",
    "substringer.send(\"Alohaaa\")\n",
    "substringer.send(\"bbbb\")\n",
    "substringer.send(\"Jupyter\")\n",
    "substringer.send(\"ananas\")\n",
    "substringer.throw(GetValues()) # -> [\"Alohaaa\"]\n",
    "substringer.throw(GetValues()) # -> []\n",
    "substringer.send(\"anaaas\")\n",
    "substringer.throw(GetValues()) # -> [\"anaaas\"]\n",
    "substringer.throw(StopIteration())"
   ]
  },
  {
   "cell_type": "code",
   "execution_count": 16,
   "metadata": {},
   "outputs": [],
   "source": [
    "class GetValues(Exception):\n",
    "    pass\n",
    "\n",
    "\n",
    "def findSubString(substring):\n",
    "    findedStrings = []\n",
    "    while True:\n",
    "        try:\n",
    "            string = yield\n",
    "        except GetValues:\n",
    "            print(findedStrings)\n",
    "            findedStrings.clear()\n",
    "        except StopIteration:\n",
    "            yield\n",
    "            return\n",
    "        if substring in string:\n",
    "            findedStrings.append(string)"
   ]
  },
  {
   "cell_type": "code",
   "execution_count": null,
   "metadata": {},
   "outputs": [],
   "source": []
  }
 ],
 "metadata": {
  "kernelspec": {
   "display_name": "Python 3",
   "language": "python",
   "name": "python3"
  },
  "language_info": {
   "codemirror_mode": {
    "name": "ipython",
    "version": 3
   },
   "file_extension": ".py",
   "mimetype": "text/x-python",
   "name": "python",
   "nbconvert_exporter": "python",
   "pygments_lexer": "ipython3",
   "version": "3.9.0"
  }
 },
 "nbformat": 4,
 "nbformat_minor": 2
}
