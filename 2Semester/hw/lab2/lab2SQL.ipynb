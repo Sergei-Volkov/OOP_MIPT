{
 "cells": [
  {
   "cell_type": "markdown",
   "metadata": {},
   "source": [
    "# Домашняя работа №2 (Курс \"Advanced Python\", 2 семестр)\n",
    "## ФИО: Волков Сергей Андреевич"
   ]
  },
  {
   "cell_type": "markdown",
   "metadata": {},
   "source": [
    "**Тема:** SQL  \n",
    "**Выдана:** 18 марта 2021  \n",
    "**Мягкий дедлайн:** 25 марта 2021  \n",
    "**Жесткий дедлайн:** 1 апреля 2021  "
   ]
  },
  {
   "cell_type": "markdown",
   "metadata": {},
   "source": [
    "**Правила:**\n",
    "Результат выполнения задания - отчет в формате Jupyter Notebook с кодом и выводами. В ходе выполнения задания требуется реализовать все необходимые алгоритмы, провести эксперименты и ответить на поставленные вопросы. Дополнительные выводы приветствуются. Чем меньше кода и больше комментариев - тем лучше.\n",
    "\n",
    "Все ячейки должны быть \"выполненными\", при этом результат должен воспроизвдиться при проверке.\n",
    "\n",
    "Задание выполняется самостоятельно. **Если вы нашли в Интернете какой-то код, который собираетесь заимствовать, обязательно укажите это в задании.** Если вы советовались с товарищем и/или позаимствовали его решение, обязательно укажите об этом в отчете. Нет ничего плохого в том, что вы пытаетесь разобраться и помогаете друг другу; плохо - когда вы скрываете это и выдаете чужие заслуги за свои. При обнаружении списывания ВСЕМ студентам, имеющим одинаковые списанные решения будет выставлен ОТРИЦАТЕЛЬНЫЙ балл (т.е если задача стоит 4 балла, вы получите не 0, а -4), \"оригинал\" искаться не будет\n",
    "\n",
    "Задание, сданное после жесткого дедлайна, не принимается."
   ]
  },
  {
   "cell_type": "markdown",
   "metadata": {},
   "source": [
    "## Задание: selectы sql (13 баллов)\n",
    "Вам предстоит написать несколько Sql запросов к имеющейся базе данных, описывающую King Corporation. Структура базы данных приведена ниже:\n",
    "![Структура базы данных](scheme.gif \"Структура базы данных\")\n",
    "\n",
    "Также,  [здесь](./Таблицы.docx) вы можете посмотреть типы данных столбцов, их смысл, а также sql запросы, которыми можно инициализировать БД такой структуры.\n",
    "\n",
    "1. Инициализируйте и заполните базу данных, выполнив скрипт [init.sql](./init.sql) **1 балл**  \n",
    "\n",
    "2. Вставьте в параметр ниже номер вашего варианта и исполните следующие ячейки. Вы получите условия задач вашего варианта. **Каждая задача стоит 4 балла.** Задачи необходимо решить прямо из python при помощи библиотеки sqllite, но если у вас возникли проблемы с использованием sql из python, вы можете просто приложить работающий sql запрос, он будет оценен максимум в 3 балла"
   ]
  },
  {
   "cell_type": "code",
   "execution_count": 1,
   "metadata": {},
   "outputs": [],
   "source": [
    "MY_VARIANT = 5 #измените этот параметр на номер своего варианта"
   ]
  },
  {
   "cell_type": "code",
   "execution_count": 2,
   "metadata": {},
   "outputs": [],
   "source": [
    "#Не меняйте эти параметры\n",
    "TASKS_TO_DO = 3\n",
    "TOTAL_TASKS = 4"
   ]
  },
  {
   "cell_type": "code",
   "execution_count": 3,
   "metadata": {},
   "outputs": [],
   "source": [
    "def get_tasks(variant):\n",
    "    try:\n",
    "        with open(\"tasks.txt\", encoding=\"utf8\") as tasks:\n",
    "            for i in range(variant):\n",
    "                for j in range(TOTAL_TASKS + 1):\n",
    "                    tasks.readline()\n",
    "            print(f\"Задачи варианта {tasks.readline()}\")\n",
    "            for i in range(TASKS_TO_DO):\n",
    "                print(i+1, tasks.readline(), end=\"\")\n",
    "    except:\n",
    "        print(\"Что-то пошло не так. Убедитесь, что в текущей рабочей папке\"\n",
    "              \" лежит файл tasks.txt и что вы задаете корректный номер варианта\")"
   ]
  },
  {
   "cell_type": "code",
   "execution_count": 4,
   "metadata": {},
   "outputs": [
    {
     "name": "stdout",
     "output_type": "stream",
     "text": [
      "Задачи варианта 5\n",
      "\n",
      "1 Выбрать фамилии тех сотрудников, которые обслуживают покупателей, не являясь продавцами (должность - не 'SALESPERSON')\n",
      "2 Выбрать названия тех товаров, в названии которых есть слово 'BALL' и для которых цена не изменилась с осени 1987г.\n",
      "3 Определить общую сумму сделок, заключенных в 1989г. отделом, которым руководит 'BAKER'.\n"
     ]
    }
   ],
   "source": [
    "#выполнение этой функции выведет условия ваших задач. Убедитесь, что вы подгрузили задачи вашего варианта\n",
    "get_tasks(MY_VARIANT)"
   ]
  },
  {
   "cell_type": "markdown",
   "metadata": {},
   "source": [
    "### Полезные материалы: \n",
    "1. В качестве справки рекомендую читать официальную документацию к Sql от  Microsoft, а также https://professorweb.ru/my/sql-server/2012/level1/ (пункты 2.9, 2.10 будут вам особенно полезны)\n",
    "2. Также, множество примеров приведены [в файле](./SQL_examples.html). \n",
    "\n",
    "Приступайте к написанию sql запросов."
   ]
  },
  {
   "cell_type": "code",
   "execution_count": 5,
   "metadata": {},
   "outputs": [],
   "source": [
    "import sqlite3"
   ]
  },
  {
   "cell_type": "code",
   "execution_count": 6,
   "metadata": {},
   "outputs": [],
   "source": [
    "#инициализация базы данных скриптом\n",
    "with sqlite3.connect('KingCorp.db') as conn:\n",
    "    c = conn.cursor()\n",
    "    with open('init.sql') as sql_file:\n",
    "        c.executescript(sql_file.read())"
   ]
  },
  {
   "cell_type": "code",
   "execution_count": 7,
   "metadata": {},
   "outputs": [],
   "source": [
    "def query(db: str, sql_query: str):\n",
    "    with sqlite3.connect(db) as conn:\n",
    "        c = conn.cursor()\n",
    "        c.execute(sql_query)\n",
    "    return c.fetchall()"
   ]
  },
  {
   "cell_type": "markdown",
   "metadata": {},
   "source": [
    "# Задача 1"
   ]
  },
  {
   "cell_type": "markdown",
   "metadata": {},
   "source": [
    "Проверим для начала, кто вообще продает товары покупателям:"
   ]
  },
  {
   "cell_type": "code",
   "execution_count": 8,
   "metadata": {
    "scrolled": true
   },
   "outputs": [
    {
     "name": "stdout",
     "output_type": "stream",
     "text": [
      "('SALESPERSON',)\n"
     ]
    }
   ],
   "source": [
    "print(*query(\n",
    "    'KingCorp.db', \n",
    "    '''\n",
    "    SELECT function FROM JOB \n",
    "    WHERE\n",
    "        job_id = (\n",
    "        SELECT DISTINCT job_id \n",
    "        FROM EMPLOYEE JOIN CUSTOMER \n",
    "        ON EMPLOYEE.employee_id = CUSTOMER.salesperson_id\n",
    "        )\n",
    "    '''\n",
    "), sep='\\n')"
   ]
  },
  {
   "cell_type": "code",
   "execution_count": 9,
   "metadata": {},
   "outputs": [
    {
     "name": "stdout",
     "output_type": "stream",
     "text": [
      "(670,)\n"
     ]
    }
   ],
   "source": [
    "print(*query(\n",
    "    'KingCorp.db', \n",
    "    '''\n",
    "    SELECT DISTINCT job_id FROM EMPLOYEE JOIN CUSTOMER\n",
    "    ON EMPLOYEE.employee_id = CUSTOMER.salesperson_id\n",
    "    '''\n",
    "), sep='\\n')"
   ]
  },
  {
   "cell_type": "markdown",
   "metadata": {},
   "source": [
    "Уже тут понятно, что продают товары только продавцы, но напишем команду для выбора фамилий не продавцов..."
   ]
  },
  {
   "cell_type": "code",
   "execution_count": 10,
   "metadata": {},
   "outputs": [
    {
     "name": "stdout",
     "output_type": "stream",
     "text": [
      "\n"
     ]
    }
   ],
   "source": [
    "print(*query(\n",
    "    'KingCorp.db',\n",
    "    '''\n",
    "    SELECT last_name FROM EMPLOYEE\n",
    "    WHERE \n",
    "        (\n",
    "        job_id = (SELECT job_id FROM JOB WHERE function != 'SALESPERSON')\n",
    "        ) \n",
    "    AND\n",
    "        (\n",
    "        employee_id = (SELECT salesperson_id FROM CUSTOMER)\n",
    "        )\n",
    "    '''\n",
    "), sep='\\n')"
   ]
  },
  {
   "cell_type": "markdown",
   "metadata": {},
   "source": [
    "В общем нет не продавцов в табличке CUSTOMER."
   ]
  },
  {
   "cell_type": "markdown",
   "metadata": {},
   "source": [
    "# Задача 2"
   ]
  },
  {
   "cell_type": "markdown",
   "metadata": {},
   "source": [
    "Посмотрим, какие товары со словом BALL бывают:"
   ]
  },
  {
   "cell_type": "code",
   "execution_count": 60,
   "metadata": {},
   "outputs": [
    {
     "name": "stdout",
     "output_type": "stream",
     "text": [
      "(100870, 'ACE TENNIS BALLS-3 PACK')\n",
      "(100871, 'ACE TENNIS BALLS-6 PACK')\n",
      "(102132, 'RH: \"GUIDE TO SOFTBALL\"')\n",
      "(102134, 'RH: \"GUIDE TO BASKETBALL\"')\n",
      "(103120, 'WIFF SOFTBALL BAT I')\n",
      "(103121, 'WIFF SOFTBALL BAT II')\n",
      "(103130, 'WIFF SOFTBALL, SMALL')\n",
      "(103131, 'WIFF SOFTBALL, LARGE')\n",
      "(103140, 'WIFF SOFTBALL MITT (LH)')\n",
      "(103141, 'WIFF SOFTBALL MITT (RH)')\n",
      "(104350, 'DUNK BASKETBALL INDOOR')\n",
      "(104351, 'DUNK BASKETBALL OUTDOOR')\n",
      "(104352, 'DUNK BASKETBALL PROFESSIONAL')\n"
     ]
    }
   ],
   "source": [
    "print(*query(\n",
    "    'KingCorp.db',\n",
    "    '''\n",
    "    SELECT * FROM PRODUCT\n",
    "    WHERE\n",
    "    INSTR(description, 'BALL') != 0\n",
    "    '''\n",
    "), sep='\\n')"
   ]
  },
  {
   "cell_type": "markdown",
   "metadata": {},
   "source": [
    "Теперь поймем, как выявить, цена каких из них не изменилась с осени 1987 года (с 01/09/1987). Это означает, что `end_date` у них должен быть меньше этой даты."
   ]
  },
  {
   "cell_type": "code",
   "execution_count": 94,
   "metadata": {
    "scrolled": false
   },
   "outputs": [
    {
     "name": "stdout",
     "output_type": "stream",
     "text": [
      "(100870,) (100871,)\n"
     ]
    }
   ],
   "source": [
    "print(*query(\n",
    "    'KingCorp.db',\n",
    "    '''\n",
    "    SELECT DISTINCT product_id\n",
    "    FROM PRICE\n",
    "    WHERE end_date < DATE('1987-09-01')\n",
    "    '''  # такое странное сравнение, т.к. только в таком формате SQL воспринимает дату\n",
    "))"
   ]
  },
  {
   "cell_type": "markdown",
   "metadata": {},
   "source": [
    "Теперь объединим эти два множества:"
   ]
  },
  {
   "cell_type": "code",
   "execution_count": 100,
   "metadata": {
    "scrolled": true
   },
   "outputs": [
    {
     "name": "stdout",
     "output_type": "stream",
     "text": [
      "('ACE TENNIS BALLS-3 PACK',)\n",
      "('ACE TENNIS BALLS-6 PACK',)\n"
     ]
    }
   ],
   "source": [
    "print(*query(\n",
    "    'KingCorp.db',\n",
    "    '''\n",
    "    SELECT description FROM PRODUCT\n",
    "    WHERE\n",
    "    product_id IN\n",
    "    (   \n",
    "        SELECT product_id FROM PRODUCT\n",
    "        WHERE\n",
    "        INSTR(description, 'BALL') != 0\n",
    "    INTERSECT\n",
    "        SELECT DISTINCT product_id FROM PRICE\n",
    "        WHERE\n",
    "        end_date < DATE('1987-09-01')\n",
    "    )\n",
    "    '''\n",
    "), sep='\\n')"
   ]
  },
  {
   "cell_type": "markdown",
   "metadata": {},
   "source": [
    "# Задача 3"
   ]
  },
  {
   "cell_type": "markdown",
   "metadata": {},
   "source": [
    "Посмотрим, кто работает под началом человека с фамилией BAKER (включая его самого):"
   ]
  },
  {
   "cell_type": "code",
   "execution_count": 15,
   "metadata": {
    "scrolled": true
   },
   "outputs": [
    {
     "name": "stdout",
     "output_type": "stream",
     "text": [
      "(7507, 'BAKER', 'LESLIE', 'D', 7839, 671, '10/06/1985', 2200, None, 14)\n",
      "(7609, 'LEWIS', 'RICHARD', 'M', 7507, 668, '16/04/1985', 1800, None, 24)\n",
      "(7676, 'SOMMERS', 'DENISE', 'D', 7507, 668, '19/04/1985', 1850, None, 34)\n"
     ]
    }
   ],
   "source": [
    "print(*query(\n",
    "    'KingCorp.db', \n",
    "    '''\n",
    "    SELECT * FROM EMPLOYEE\n",
    "    WHERE\n",
    "        (\n",
    "        manager_id = (SELECT employee_id FROM EMPLOYEE WHERE last_name = 'BAKER')\n",
    "        )\n",
    "    OR\n",
    "        (\n",
    "        employee_id = (SELECT employee_id FROM EMPLOYEE WHERE last_name = 'BAKER')\n",
    "        )\n",
    "    '''\n",
    "), sep='\\n')"
   ]
  },
  {
   "cell_type": "markdown",
   "metadata": {},
   "source": [
    "Можно заметить, что никто из этих людей не является SALESPERSON (job_id = 670), а значит они не могли заключить какую-то сделку..."
   ]
  },
  {
   "cell_type": "markdown",
   "metadata": {},
   "source": [
    "Выберем id клиентов этих людей (они могут пересекаться, поэтому берем `DISTINCT`):"
   ]
  },
  {
   "cell_type": "code",
   "execution_count": 16,
   "metadata": {},
   "outputs": [
    {
     "name": "stdout",
     "output_type": "stream",
     "text": [
      "\n"
     ]
    }
   ],
   "source": [
    "print(*query(\n",
    "    'KingCorp.db', \n",
    "    '''\n",
    "    SELECT DISTINCT customer_id FROM CUSTOMER\n",
    "    WHERE\n",
    "    salesperson_id = \n",
    "    (\n",
    "        SELECT employee_id FROM EMPLOYEE\n",
    "        WHERE\n",
    "            (\n",
    "            manager_id = (SELECT employee_id FROM EMPLOYEE WHERE last_name = 'BAKER')\n",
    "            )\n",
    "        OR\n",
    "            (\n",
    "            employee_id = (SELECT employee_id FROM EMPLOYEE WHERE last_name = 'BAKER')\n",
    "            )\n",
    "    )\n",
    "    '''\n",
    "), sep='\\n')"
   ]
  },
  {
   "cell_type": "markdown",
   "metadata": {},
   "source": [
    "Ожидаемо, их нет..."
   ]
  },
  {
   "cell_type": "markdown",
   "metadata": {},
   "source": [
    "Выберем cуммы покупок этих клиентов за 1989 год:"
   ]
  },
  {
   "cell_type": "code",
   "execution_count": 17,
   "metadata": {},
   "outputs": [
    {
     "name": "stdout",
     "output_type": "stream",
     "text": [
      "\n"
     ]
    }
   ],
   "source": [
    "print(*query(\n",
    "    'KingCorp.db', \n",
    "    '''\n",
    "    SELECT total FROM SALES_ORDER\n",
    "    WHERE \n",
    "        customer_id =\n",
    "        (\n",
    "            SELECT DISTINCT customer_id FROM CUSTOMER\n",
    "            WHERE\n",
    "            salesperson_id = \n",
    "            (\n",
    "                SELECT employee_id FROM EMPLOYEE\n",
    "                WHERE\n",
    "                    (\n",
    "                    manager_id = (SELECT employee_id FROM EMPLOYEE WHERE last_name = 'BAKER')\n",
    "                    )\n",
    "                OR\n",
    "                    (\n",
    "                    employee_id = (SELECT employee_id FROM EMPLOYEE WHERE last_name = 'BAKER')\n",
    "                    )\n",
    "            )\n",
    "        )\n",
    "    AND\n",
    "        SUBSTR(order_date, 7, 4) = '1989'\n",
    "    '''\n",
    "), sep='\\n')"
   ]
  },
  {
   "cell_type": "markdown",
   "metadata": {},
   "source": [
    "И последний штрих: будем суммировать общие суммы договоров (насколько я понимаю, здесь нельзя учесть, что клиент мог сделать покупку у другого продавца, так устроена сама БД)."
   ]
  },
  {
   "cell_type": "code",
   "execution_count": 18,
   "metadata": {},
   "outputs": [
    {
     "name": "stdout",
     "output_type": "stream",
     "text": [
      "(None,)\n"
     ]
    }
   ],
   "source": [
    "print(*query(\n",
    "    'KingCorp.db', \n",
    "    '''\n",
    "    SELECT SUM(total) FROM SALES_ORDER\n",
    "    WHERE \n",
    "        customer_id =\n",
    "        (\n",
    "            SELECT DISTINCT customer_id FROM CUSTOMER\n",
    "            WHERE\n",
    "            salesperson_id = \n",
    "            (\n",
    "                SELECT employee_id FROM EMPLOYEE\n",
    "                WHERE\n",
    "                    (\n",
    "                    manager_id = (SELECT employee_id FROM EMPLOYEE WHERE last_name = 'BAKER')\n",
    "                    )\n",
    "                OR\n",
    "                    (\n",
    "                    employee_id = (SELECT employee_id FROM EMPLOYEE WHERE last_name = 'BAKER')\n",
    "                    )\n",
    "            )\n",
    "        )\n",
    "    AND\n",
    "        SUBSTR(order_date, 7, 4) = '1989'\n",
    "    '''\n",
    "), sep='\\n')"
   ]
  },
  {
   "cell_type": "markdown",
   "metadata": {},
   "source": [
    "Видим, что ответ был выдан `None`, т.к. нечего суммировать."
   ]
  }
 ],
 "metadata": {
  "kernelspec": {
   "display_name": "Python 3",
   "language": "python",
   "name": "python3"
  },
  "language_info": {
   "codemirror_mode": {
    "name": "ipython",
    "version": 3
   },
   "file_extension": ".py",
   "mimetype": "text/x-python",
   "name": "python",
   "nbconvert_exporter": "python",
   "pygments_lexer": "ipython3",
   "version": "3.7.9"
  }
 },
 "nbformat": 4,
 "nbformat_minor": 2
}
