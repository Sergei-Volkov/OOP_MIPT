{
 "cells": [
  {
   "cell_type": "markdown",
   "metadata": {},
   "source": [
    "# `NumPy`: матрицы и операции над ними\n",
    "---"
   ]
  },
  {
   "cell_type": "markdown",
   "metadata": {},
   "source": [
    "В этом ноутбуке из сторонних библиотек нам понадобится только `NumPy`. Для удобства импортируем ее под более коротким именем:"
   ]
  },
  {
   "cell_type": "code",
   "execution_count": 1,
   "metadata": {},
   "outputs": [],
   "source": [
    "import numpy as np"
   ]
  },
  {
   "cell_type": "markdown",
   "metadata": {},
   "source": [
    "## 1. Создание матриц"
   ]
  },
  {
   "cell_type": "markdown",
   "metadata": {},
   "source": [
    "Приведем несколько способов создания матриц в `NumPy`."
   ]
  },
  {
   "cell_type": "markdown",
   "metadata": {},
   "source": [
    "Самый простой способ — с помощью функции __`numpy.array(list, dtype=None, ...)`__.\n",
    "\n",
    "В качестве первого аргумента ей надо передать итерируемый объект, элементами которого являются другие итерируемые объекты одинаковой длины и содержащие данные одинакового типа.\n",
    "\n",
    "Второй аргумент является опциональным и определяет тип данных матрицы. Его можно не задавать, тогда тип данных будет определен из типа элементов первого аргумента. При задании этого параметра будет произведена попытка приведения типов.\n",
    "\n",
    "Например, матрицу из списка списков целых чисел можно создать следующим образом:"
   ]
  },
  {
   "cell_type": "code",
   "execution_count": 2,
   "metadata": {},
   "outputs": [
    {
     "name": "stdout",
     "output_type": "stream",
     "text": [
      "<class 'numpy.ndarray'>\n",
      "(3,)\n",
      "1 2 3\n",
      "[5 2 3]\n",
      "(2, 3)\n",
      "1 2 4\n",
      "[1 2 3 4]\n"
     ]
    }
   ],
   "source": [
    "a = np.array([1, 2, 3])   # Создаем одномерный массив\n",
    "print(type(a))            # Prints \"<class 'numpy.ndarray'>\"\n",
    "print(a.shape)            # Prints \"(3,)\" - кортеж с размерностями\n",
    "print(a[0], a[1], a[2])   # Prints \"1 2 3\"\n",
    "a[0] = 5                  # Изменяем значение элемента массива\n",
    "print(a)                  # Prints \"[5, 2, 3]\"\n",
    "\n",
    "b = np.array([[1,2,3],[4,5,6]])    # Создаем двухмерный массив\n",
    "print(b.shape)                     # Prints \"(2, 3)\"\n",
    "print(b[0, 0], b[0, 1], b[1, 0])   # Prints \"1 2 4\"\n",
    "print(np.arange(1, 5)) #Cоздает вектор с эелементами от 1 до 4"
   ]
  },
  {
   "cell_type": "code",
   "execution_count": 3,
   "metadata": {},
   "outputs": [
    {
     "name": "stdout",
     "output_type": "stream",
     "text": [
      "Матрица:\n",
      " [[1 2 3]\n",
      " [2 5 6]\n",
      " [6 7 4]]\n"
     ]
    }
   ],
   "source": [
    "matrix = np.array([[1, 2, 3], [2, 5, 6], [6, 7, 4]])\n",
    "print (\"Матрица:\\n\", matrix)"
   ]
  },
  {
   "cell_type": "markdown",
   "metadata": {},
   "source": [
    "Второй способ создания — с помощью встроенных функций __`numpy.eye(N, M=None, ...)`__, __`numpy.zeros(shape, ...)`__, __`numpy.ones(shape, ...)`__.\n",
    "\n",
    "Первая функция создает единичную матрицу размера $N \\times M$; если $M$ не задан, то $M = N$. \n",
    "\n",
    "Вторая и третья функции создают матрицы, состоящие целиком из нулей или единиц соответственно. В качестве первого аргумента необходимо задать размерность массива — кортеж целых чисел. В двумерном случае это набор из двух чисел: количество строк и столбцов матрицы.\n",
    "\n",
    "__Примеры:__"
   ]
  },
  {
   "cell_type": "code",
   "execution_count": 4,
   "metadata": {},
   "outputs": [
    {
     "name": "stdout",
     "output_type": "stream",
     "text": [
      "Единичная матрица:\n",
      " [[1. 0. 0. 0. 0.]\n",
      " [0. 1. 0. 0. 0.]\n",
      " [0. 0. 1. 0. 0.]\n",
      " [0. 0. 0. 1. 0.]\n",
      " [0. 0. 0. 0. 1.]]\n"
     ]
    }
   ],
   "source": [
    "b = np.eye(5)\n",
    "print (\"Единичная матрица:\\n\", b)"
   ]
  },
  {
   "cell_type": "code",
   "execution_count": 5,
   "metadata": {},
   "outputs": [
    {
     "name": "stdout",
     "output_type": "stream",
     "text": [
      "Матрица, состоящая из одних единиц:\n",
      " [[1. 1. 1. 1. 1.]\n",
      " [1. 1. 1. 1. 1.]\n",
      " [1. 1. 1. 1. 1.]\n",
      " [1. 1. 1. 1. 1.]\n",
      " [1. 1. 1. 1. 1.]\n",
      " [1. 1. 1. 1. 1.]\n",
      " [1. 1. 1. 1. 1.]]\n"
     ]
    }
   ],
   "source": [
    "c = np.ones((7, 5))\n",
    "print (\"Матрица, состоящая из одних единиц:\\n\", c)"
   ]
  },
  {
   "cell_type": "code",
   "execution_count": 6,
   "metadata": {},
   "outputs": [
    {
     "name": "stdout",
     "output_type": "stream",
     "text": [
      "[[7 7]\n",
      " [7 7]]\n",
      "[[0.76391481 0.51028138]\n",
      " [0.2949703  0.92798032]]\n"
     ]
    }
   ],
   "source": [
    "d = np.full((2,2), 7)  # Создает матрицу (1, 2) заполненную заданным значением\n",
    "print(d)               # Prints \"[[ 7.  7.]\n",
    "                       #          [ 7.  7.]]\"\n",
    "\n",
    "e = np.random.random((2,2))  # Создает единичную матрицу (2, 2) заполненную случаными числами (0, 1)\n",
    "print(e)                     # Might print \"[[ 0.91940167  0.08143941]\n",
    "                             #               [ 0.68744134  0.87236687]]\""
   ]
  },
  {
   "cell_type": "markdown",
   "metadata": {},
   "source": [
    "__Обратите внимание: размерность массива задается не двумя аргументами функции, а одним — кортежем!__ \n",
    "\n",
    "Вот так —  __`np.ones(7, 5)`__ — создать массив не получится, так как функции в качестве параметра `shape` передается `7`, а не кортеж `(7, 5)`."
   ]
  },
  {
   "cell_type": "markdown",
   "metadata": {},
   "source": [
    "И, наконец, третий способ — с помощью функции __`numpy.arange([start, ]stop, [step, ], ...)`__, которая создает одномерный массив последовательных чисел из промежутка __`[start, stop)`__ с заданным шагом __`step`__, и _метода_ __`array.reshape(shape)`__. \n",
    "\n",
    "Параметр __`shape`__, как и в предыдущем примере, задает размерность матрицы (кортеж чисел). Логика работы метода ясна из следующего примера:"
   ]
  },
  {
   "cell_type": "code",
   "execution_count": 7,
   "metadata": {},
   "outputs": [
    {
     "name": "stdout",
     "output_type": "stream",
     "text": [
      "Вектор-столбец:\n",
      " [ 0  2  4  6  8 10 12 14 16 18 20 22]\n"
     ]
    }
   ],
   "source": [
    "v = np.arange(0, 24, 2)\n",
    "print (\"Вектор-столбец:\\n\", v)"
   ]
  },
  {
   "cell_type": "code",
   "execution_count": 8,
   "metadata": {},
   "outputs": [
    {
     "name": "stdout",
     "output_type": "stream",
     "text": [
      "Матрица:\n",
      " [[ 0  2  4  6]\n",
      " [ 8 10 12 14]\n",
      " [16 18 20 22]]\n"
     ]
    }
   ],
   "source": [
    "d = v.reshape((3, 4))\n",
    "print (\"Матрица:\\n\", d)"
   ]
  },
  {
   "cell_type": "markdown",
   "metadata": {},
   "source": [
    "Более подробно о том, как создавать массивы в `NumPy`, \n",
    "см. [документацию](http://docs.scipy.org/doc/numpy-1.10.1/user/basics.creation.html)."
   ]
  },
  {
   "cell_type": "markdown",
   "metadata": {},
   "source": [
    "## 2. Индексирование "
   ]
  },
  {
   "cell_type": "markdown",
   "metadata": {},
   "source": [
    "Для получения элементов матрицы можно использовать несколько способов. Рассмотрим самые простые из них."
   ]
  },
  {
   "cell_type": "markdown",
   "metadata": {},
   "source": [
    "Для удобства напомним, как выглядит матрица __d__:"
   ]
  },
  {
   "cell_type": "code",
   "execution_count": 9,
   "metadata": {},
   "outputs": [
    {
     "name": "stdout",
     "output_type": "stream",
     "text": [
      "Матрица:\n",
      " [[ 0  2  4  6]\n",
      " [ 8 10 12 14]\n",
      " [16 18 20 22]]\n"
     ]
    }
   ],
   "source": [
    "print (\"Матрица:\\n\", d)"
   ]
  },
  {
   "cell_type": "markdown",
   "metadata": {},
   "source": [
    "Элемент на пересечении строки __`i`__ и столбца __`j`__ можно получить с помощью выражения __`array[i, j]`__. \n",
    "\n",
    "__Обратите внимание:__ строки и столбцы нумеруются с нуля!"
   ]
  },
  {
   "cell_type": "code",
   "execution_count": 10,
   "metadata": {},
   "outputs": [
    {
     "name": "stdout",
     "output_type": "stream",
     "text": [
      "Второй элемент третьей строки матрицы: 18\n"
     ]
    }
   ],
   "source": [
    "print (\"Второй элемент третьей строки матрицы:\", d[2, 1])"
   ]
  },
  {
   "cell_type": "markdown",
   "metadata": {},
   "source": [
    "Из матрицы можно получать целые строки или столбцы с помощью выражений __`array[i, :]`__ или __`array[:, j]`__ соответственно:"
   ]
  },
  {
   "cell_type": "code",
   "execution_count": 11,
   "metadata": {},
   "outputs": [
    {
     "name": "stdout",
     "output_type": "stream",
     "text": [
      "Вторая строка матрицы d:\n",
      " [ 8 10 12 14]\n",
      "Четвертый столбец матрицы d:\n",
      " [ 6 14 22]\n"
     ]
    }
   ],
   "source": [
    "print (\"Вторая строка матрицы d:\\n\", d[1, :])\n",
    "print (\"Четвертый столбец матрицы d:\\n\", d[:, 3])"
   ]
  },
  {
   "cell_type": "markdown",
   "metadata": {},
   "source": [
    "Еще один способ получения элементов — с помощью выражения __`array[list1, list2]`__, где __`list1`__, __`list2`__ — некоторые списки целых чисел. При такой адресации одновременно просматриваются оба списка и возвращаются элементы матрицы с соответствующими координатами. Следующий пример более понятно объясняет механизм работы такого индексирования:"
   ]
  },
  {
   "cell_type": "code",
   "execution_count": 12,
   "metadata": {},
   "outputs": [
    {
     "name": "stdout",
     "output_type": "stream",
     "text": [
      "Элементы матрицы d с координатами (1, 2) и (0, 3):\n",
      " [12  6]\n"
     ]
    }
   ],
   "source": [
    "print (\"Элементы матрицы d с координатами (1, 2) и (0, 3):\\n\", d[[1, 0], [2, 3]])"
   ]
  },
  {
   "cell_type": "code",
   "execution_count": 13,
   "metadata": {},
   "outputs": [
    {
     "name": "stdout",
     "output_type": "stream",
     "text": [
      "[[2 3]\n",
      " [6 7]]\n",
      "2\n",
      "77\n"
     ]
    }
   ],
   "source": [
    "# Slicing\n",
    "\n",
    "# Создадим матрицу (3, 4)\n",
    "# [[ 1  2  3  4]\n",
    "#  [ 5  6  7  8]\n",
    "#  [ 9 10 11 12]]\n",
    "a = np.array([[1,2,3,4], [5,6,7,8], [9,10,11,12]])\n",
    "\n",
    "# Используя слайсинг, созадим матрицу b из элементов матрицы а\n",
    "# будем использовать 0 и 1 строку, а так же 1 и 2 столебц\n",
    "# [[2 3]\n",
    "#  [6 7]]\n",
    "b = a[:2, 1:3]\n",
    "print(b)\n",
    "\n",
    "# ОБРАТИТЕ ВНИМАНИЕ НА ИЗМЕНЕНИЕ ИСХОДОЙ МАТРИЦЫ\n",
    "print(a[0, 1])   # Prints \"2\"\n",
    "b[0, 0] = 77     # b[0, 0] is the same piece of data as a[0, 1]\n",
    "print(a[0, 1])   # Prints \"77\""
   ]
  },
  {
   "cell_type": "code",
   "execution_count": 14,
   "metadata": {},
   "outputs": [
    {
     "name": "stdout",
     "output_type": "stream",
     "text": [
      "[[1 2]\n",
      " [3 4]\n",
      " [5 6]]\n",
      "\n",
      "[1 4 5]\n",
      "\n",
      "[1 4 5]\n"
     ]
    }
   ],
   "source": [
    "# Integer array indexing\n",
    "\n",
    "a = np.array([[1,2], [3, 4], [5, 6]])\n",
    "print(a)\n",
    "print()\n",
    "\n",
    "# Пример Integer array indexing \n",
    "# В результате получится массив размерности (3,)\n",
    "# Обратите внимание, что до запятой идут индексы строк, после - столбцов\n",
    "print(a[[0, 1, 2], [0, 1, 0]])  # Prints \"[1 4 5]\"\n",
    "print()\n",
    "\n",
    "# По-другому пример можно записать так\n",
    "print(np.array([a[0, 0], a[1, 1], a[2, 0]]))  # Prints \"[1 4 5]\""
   ]
  },
  {
   "cell_type": "markdown",
   "metadata": {},
   "source": [
    "Примеры использования слайсинга:"
   ]
  },
  {
   "cell_type": "code",
   "execution_count": 15,
   "metadata": {},
   "outputs": [
    {
     "name": "stdout",
     "output_type": "stream",
     "text": [
      "[[ 1  2  3]\n",
      " [ 4  5  6]\n",
      " [ 7  8  9]\n",
      " [10 11 12]]\n",
      "[ 1  6  7 11]\n",
      "\n",
      "[[11  2  3]\n",
      " [ 4  5 16]\n",
      " [17  8  9]\n",
      " [10 21 12]]\n"
     ]
    }
   ],
   "source": [
    "\n",
    "# Создадим новый маассив, из которого будем выбирать эллементы\n",
    "a = np.array([[1,2,3], [4,5,6], [7,8,9], [10, 11, 12]])\n",
    "\n",
    "print(a)  # prints \"array([[ 1,  2,  3],\n",
    "          #                [ 4,  5,  6],\n",
    "          #                [ 7,  8,  9],\n",
    "          #                [10, 11, 12]])\"\n",
    "\n",
    "# Создадим массив индексов\n",
    "b = np.array([0, 2, 0, 1])\n",
    "\n",
    "# Выберем из каждой строки элемент с индексом из b (индекс столбца берется из b) \n",
    "print(a[np.arange(4), b])  # Prints \"[ 1  6  7 11]\"\n",
    "print()\n",
    "\n",
    "# Добавим к этим элементам 10\n",
    "a[np.arange(4), b] += 10\n",
    "\n",
    "print(a)  # prints \"array([[11,  2,  3],\n",
    "          #                [ 4,  5, 16],\n",
    "          #                [17,  8,  9],\n",
    "          #                [10, 21, 12]])"
   ]
  },
  {
   "cell_type": "code",
   "execution_count": 16,
   "metadata": {},
   "outputs": [
    {
     "name": "stdout",
     "output_type": "stream",
     "text": [
      "[[False False]\n",
      " [ True  True]\n",
      " [ True  True]]\n",
      "\n",
      "[3 4 5 6]\n",
      "[3 4 5 6]\n"
     ]
    }
   ],
   "source": [
    "a = np.array([[1,2], [3, 4], [5, 6]])\n",
    "\n",
    "bool_idx = (a > 2)   # Найдем эллементы матрицы a, которые больше 2\n",
    "                     # В результате получим матрицу b, такой же размерности, как и a\n",
    "\n",
    "print(bool_idx)      # Prints \"[[False False]\n",
    "print()              #          [ True  True]\n",
    "                     #          [ True  True]]\"\n",
    "\n",
    "# Воспользуемся полученным массивом для создания нового массива, ранга 1\n",
    "print(a[bool_idx])  # Prints \"[3 4 5 6]\"\n",
    "\n",
    "# Аналогично\n",
    "print(a[a > 2])     # Prints \"[3 4 5 6]\""
   ]
  },
  {
   "cell_type": "code",
   "execution_count": 17,
   "metadata": {},
   "outputs": [
    {
     "name": "stdout",
     "output_type": "stream",
     "text": [
      "[5 6 7 8] (4,)\n",
      "[[5 6 7 8]] (1, 4)\n"
     ]
    }
   ],
   "source": [
    "#Помните, что вы можете пользоваться сразу несколькими типами индексирования\n",
    "a = np.array([[1,2,3,4], [5,6,7,8], [9,10,11,12]])\n",
    "\n",
    "row_r1 = a[1, :]\n",
    "row_r2 = a[1:2, :] \n",
    "print(row_r1, row_r1.shape)  # Prints \"[5 6 7 8] (4,)\"\n",
    "print(row_r2, row_r2.shape)  # Prints \"[[5 6 7 8]] (1, 4)\""
   ]
  },
  {
   "cell_type": "markdown",
   "metadata": {},
   "source": [
    "Более подробно о различных способах индексирования в массивах\n",
    "см. [документацию](http://docs.scipy.org/doc/numpy/reference/arrays.indexing.html)."
   ]
  },
  {
   "cell_type": "markdown",
   "metadata": {},
   "source": [
    "## 3. Векторы, вектор-строки и вектор-столбцы"
   ]
  },
  {
   "cell_type": "markdown",
   "metadata": {},
   "source": [
    "Следующие два способа задания массива кажутся одинаковыми: "
   ]
  },
  {
   "cell_type": "code",
   "execution_count": 18,
   "metadata": {},
   "outputs": [],
   "source": [
    "a = np.array([1, 2, 3])\n",
    "b = np.array([[1], [2], [3]])"
   ]
  },
  {
   "cell_type": "markdown",
   "metadata": {},
   "source": [
    "Однако, на самом деле, это задание одномерного массива (то есть _вектора_) и двумерного массива:"
   ]
  },
  {
   "cell_type": "code",
   "execution_count": 19,
   "metadata": {},
   "outputs": [
    {
     "name": "stdout",
     "output_type": "stream",
     "text": [
      "Вектор:\n",
      " [1 2 3]\n",
      "Его размерность:\n",
      " (3,)\n",
      "Двумерный массив:\n",
      " [[1]\n",
      " [2]\n",
      " [3]]\n",
      "Его размерность:\n",
      " (3, 1)\n"
     ]
    }
   ],
   "source": [
    "print (\"Вектор:\\n\", a)\n",
    "print (\"Его размерность:\\n\", a.shape)\n",
    "print (\"Двумерный массив:\\n\", b)\n",
    "print (\"Его размерность:\\n\", b.shape)"
   ]
  },
  {
   "cell_type": "markdown",
   "metadata": {},
   "source": [
    "__Обратите внимание:__ _вектор_ (одномерный массив) и _вектор-столбец_ или _вектор-строка_ (двумерные массивы) являются различными объектами в `NumPy`, хотя математически задают один и тот же объект. В случае одномерного массива кортеж __`shape`__ состоит из одного числа и имеет вид __`(n,)`__, где __`n`__ — длина вектора. В случае двумерных векторов в __`shape`__ присутствует еще одна размерность, равная единице. "
   ]
  },
  {
   "cell_type": "markdown",
   "metadata": {},
   "source": [
    "В большинстве случаев неважно, какое представление использовать, потому что часто срабатывает приведение типов. Но некоторые операции не работают для одномерных массивов. Например, транспонирование (о нем пойдет речь ниже):"
   ]
  },
  {
   "cell_type": "code",
   "execution_count": 20,
   "metadata": {},
   "outputs": [],
   "source": [
    "a = a.T\n",
    "b = b.T"
   ]
  },
  {
   "cell_type": "code",
   "execution_count": 21,
   "metadata": {},
   "outputs": [
    {
     "name": "stdout",
     "output_type": "stream",
     "text": [
      "Вектор не изменился:\n",
      " [1 2 3]\n",
      "Его размерность также не изменилась:\n",
      " (3,)\n",
      "Транспонированный двумерный массив:\n",
      " [[1 2 3]]\n",
      "Его размерность изменилась:\n",
      " (1, 3)\n"
     ]
    }
   ],
   "source": [
    "print (\"Вектор не изменился:\\n\", a)\n",
    "print (\"Его размерность также не изменилась:\\n\", a.shape)\n",
    "print (\"Транспонированный двумерный массив:\\n\", b)\n",
    "print (\"Его размерность изменилась:\\n\", b.shape)"
   ]
  },
  {
   "cell_type": "markdown",
   "metadata": {},
   "source": [
    "## 4. Datatypes\n",
    "Все элементы в массиве numpy принадлежат одному типу. В этом плане массивы ближе к C, чем к привычным вам листам питона. Numpy имеет множество встренных типов, подходящих для решения большинства задач."
   ]
  },
  {
   "cell_type": "code",
   "execution_count": 22,
   "metadata": {},
   "outputs": [
    {
     "name": "stdout",
     "output_type": "stream",
     "text": [
      "int32\n",
      "float64\n",
      "int64\n"
     ]
    }
   ],
   "source": [
    "x = np.array([1, 2])   # Автоматический выбор типа\n",
    "print(x.dtype)         # Prints \"int64\"\n",
    "\n",
    "x = np.array([1.0, 2.0])   # Автоматический выбор типа\n",
    "print(x.dtype)             # Prints \"float64\"\n",
    "\n",
    "x = np.array([1, 2], dtype=np.int64)   # Принудительное выставление типа\n",
    "print(x.dtype)                         # Prints \"int64\""
   ]
  },
  {
   "cell_type": "markdown",
   "metadata": {},
   "source": [
    "## 5. Математические операции\n",
    "К массивам (матрицам) можно применять известные вам математические операции. Следут понимать, что при этом у элементов должны быть схожие размерности. Поведение в случае не совпадения размерностей хорошо описанно в документации numpy."
   ]
  },
  {
   "cell_type": "code",
   "execution_count": 23,
   "metadata": {},
   "outputs": [],
   "source": [
    "x = np.array([[1,2],[3,4]], dtype=np.float64)\n",
    "y = np.array([[5,6],[7,8]], dtype=np.float64)\n",
    "arr = np.array([1, 2])"
   ]
  },
  {
   "cell_type": "code",
   "execution_count": 24,
   "metadata": {},
   "outputs": [
    {
     "name": "stdout",
     "output_type": "stream",
     "text": [
      "[[ 6.  8.]\n",
      " [10. 12.]]\n",
      "\n",
      "[[ 6.  8.]\n",
      " [10. 12.]]\n",
      "С числом\n",
      "[[2. 3.]\n",
      " [4. 5.]]\n",
      "C массивом другой размерности\n",
      "[[2. 4.]\n",
      " [4. 6.]]\n"
     ]
    }
   ],
   "source": [
    "# Сложение происходит поэлеметно\n",
    "\n",
    "# [[ 6.0  8.0]\n",
    "#  [10.0 12.0]]\n",
    "print(x + y)\n",
    "print()\n",
    "print(np.add(x, y))\n",
    "print('С числом')\n",
    "print(x + 1)\n",
    "print('C массивом другой размерности')\n",
    "print(x + arr)"
   ]
  },
  {
   "cell_type": "code",
   "execution_count": 25,
   "metadata": {},
   "outputs": [
    {
     "name": "stdout",
     "output_type": "stream",
     "text": [
      "[[-4. -4.]\n",
      " [-4. -4.]]\n",
      "[[-4. -4.]\n",
      " [-4. -4.]]\n"
     ]
    }
   ],
   "source": [
    "# Вычитание\n",
    "print(x - y)\n",
    "print(np.subtract(x, y))"
   ]
  },
  {
   "cell_type": "code",
   "execution_count": 26,
   "metadata": {},
   "outputs": [
    {
     "name": "stdout",
     "output_type": "stream",
     "text": [
      "[[0.2        0.33333333]\n",
      " [0.42857143 0.5       ]]\n",
      "[[0.2        0.33333333]\n",
      " [0.42857143 0.5       ]]\n"
     ]
    }
   ],
   "source": [
    "# Деление\n",
    "# [[ 0.2         0.33333333]\n",
    "#  [ 0.42857143  0.5       ]]\n",
    "print(x / y)\n",
    "print(np.divide(x, y))"
   ]
  },
  {
   "cell_type": "code",
   "execution_count": 27,
   "metadata": {},
   "outputs": [
    {
     "name": "stdout",
     "output_type": "stream",
     "text": [
      "[[1.         1.41421356]\n",
      " [1.73205081 2.        ]]\n"
     ]
    }
   ],
   "source": [
    "# Другие функции\n",
    "# [[ 1.          1.41421356]\n",
    "#  [ 1.73205081  2.        ]]\n",
    "print(np.sqrt(x))"
   ]
  },
  {
   "cell_type": "markdown",
   "metadata": {},
   "source": [
    "## 6. Умножение матриц и столбцов"
   ]
  },
  {
   "cell_type": "markdown",
   "metadata": {},
   "source": [
    "__Напоминание теории.__ Операция __умножения__ определена для двух матриц, таких что число столбцов первой равно числу строк второй. \n",
    "\n",
    "Пусть матрицы $A$ и $B$ таковы, что $A \\in \\mathbb{R}^{n \\times k}$ и $B \\in \\mathbb{R}^{k \\times m}$. __Произведением__ матриц $A$ и $B$ называется матрица $C$, такая что $c_{ij} = \\sum_{r=1}^{k} a_{ir}b_{rj}$, где $c_{ij}$ — элемент матрицы $C$, стоящий на пересечении строки с номером $i$ и столбца с номером $j$.\n",
    "\n",
    "В `NumPy` произведение матриц вычисляется с помощью функции __`numpy.dot(a, b, ...)`__ или с помощью _метода_ __`array1.dot(array2)`__, где __`array1`__ и __`array2`__ — перемножаемые матрицы."
   ]
  },
  {
   "cell_type": "code",
   "execution_count": 28,
   "metadata": {},
   "outputs": [],
   "source": [
    "a = np.array([[1, 0], [0, 1]])\n",
    "b = np.array([[4, 1], [2, 2]])\n",
    "r1 = np.dot(a, b)\n",
    "r2 = a.dot(b)"
   ]
  },
  {
   "cell_type": "code",
   "execution_count": 29,
   "metadata": {},
   "outputs": [
    {
     "name": "stdout",
     "output_type": "stream",
     "text": [
      "Матрица A:\n",
      " [[1 0]\n",
      " [0 1]]\n",
      "Матрица B:\n",
      " [[4 1]\n",
      " [2 2]]\n",
      "Результат умножения функцией:\n",
      " [[4 1]\n",
      " [2 2]]\n",
      "Результат умножения методом:\n",
      " [[4 1]\n",
      " [2 2]]\n"
     ]
    }
   ],
   "source": [
    "print (\"Матрица A:\\n\", a)\n",
    "print (\"Матрица B:\\n\", b)\n",
    "print (\"Результат умножения функцией:\\n\", r1)\n",
    "print (\"Результат умножения методом:\\n\", r2)"
   ]
  },
  {
   "cell_type": "markdown",
   "metadata": {},
   "source": [
    "Матрицы в `NumPy` можно умножать и на векторы:"
   ]
  },
  {
   "cell_type": "code",
   "execution_count": 30,
   "metadata": {},
   "outputs": [],
   "source": [
    "c = np.array([1, 2])\n",
    "r3 = b.dot(c)"
   ]
  },
  {
   "cell_type": "code",
   "execution_count": 31,
   "metadata": {},
   "outputs": [
    {
     "name": "stdout",
     "output_type": "stream",
     "text": [
      "Матрица:\n",
      " [[4 1]\n",
      " [2 2]]\n",
      "Вектор:\n",
      " [1 2]\n",
      "Результат умножения:\n",
      " [6 6]\n"
     ]
    }
   ],
   "source": [
    "print (\"Матрица:\\n\", b)\n",
    "print (\"Вектор:\\n\", c)\n",
    "print (\"Результат умножения:\\n\", r3)"
   ]
  },
  {
   "cell_type": "markdown",
   "metadata": {},
   "source": [
    "__Обратите внимание:__ операция __`*`__ производит над матрицами покоординатное умножение, а не матричное!"
   ]
  },
  {
   "cell_type": "code",
   "execution_count": 32,
   "metadata": {},
   "outputs": [],
   "source": [
    "r = a * b"
   ]
  },
  {
   "cell_type": "code",
   "execution_count": 33,
   "metadata": {
    "scrolled": true
   },
   "outputs": [
    {
     "name": "stdout",
     "output_type": "stream",
     "text": [
      "Матрица A:\n",
      " [[1 0]\n",
      " [0 1]]\n",
      "Матрица B:\n",
      " [[4 1]\n",
      " [2 2]]\n",
      "Результат покоординатного умножения через операцию *:\n",
      " [[4 0]\n",
      " [0 2]]\n"
     ]
    }
   ],
   "source": [
    "print (\"Матрица A:\\n\", a)\n",
    "print (\"Матрица B:\\n\", b)\n",
    "print (\"Результат покоординатного умножения через операцию *:\\n\", r)"
   ]
  },
  {
   "cell_type": "markdown",
   "metadata": {},
   "source": [
    "Более подробно о матричном умножении в `NumPy`\n",
    "см. [документацию](http://docs.scipy.org/doc/numpy-1.10.0/reference/routines.linalg.html#matrix-and-vector-products)."
   ]
  },
  {
   "cell_type": "markdown",
   "metadata": {},
   "source": [
    "## 7. Объединение массивов\n",
    "Массивы можно Объединенять. Есть горизонтальное и вертикальное объединение.\n"
   ]
  },
  {
   "cell_type": "code",
   "execution_count": 34,
   "metadata": {},
   "outputs": [
    {
     "name": "stdout",
     "output_type": "stream",
     "text": [
      "[[3. 9.]\n",
      " [2. 9.]]\n",
      "[[9. 5.]\n",
      " [1. 0.]]\n",
      "\n",
      "[[3. 9.]\n",
      " [2. 9.]\n",
      " [9. 5.]\n",
      " [1. 0.]]\n",
      "\n",
      "[[3. 9. 9. 5.]\n",
      " [2. 9. 1. 0.]]\n"
     ]
    }
   ],
   "source": [
    "a = np.floor(10*np.random.random((2,2)))\n",
    "b = np.floor(10*np.random.random((2,2)))\n",
    "\n",
    "print(a)\n",
    "print(b)\n",
    "print()\n",
    "\n",
    "\n",
    "print(np.vstack((a,b)))\n",
    "print()\n",
    "\n",
    "print(np.hstack((a,b)))"
   ]
  },
  {
   "cell_type": "markdown",
   "metadata": {},
   "source": [
    "Массивы можно переформировать при помощи метода, который задает новый многомерный массив. Следуя следующему примеру, мы переформатируем одномерный массив из десяти элементов во двумерный массив, состоящий из пяти строк и двух столбцов:"
   ]
  },
  {
   "cell_type": "code",
   "execution_count": 35,
   "metadata": {},
   "outputs": [
    {
     "name": "stdout",
     "output_type": "stream",
     "text": [
      "[0. 1. 2. 3. 4. 5. 6. 7. 8. 9.]\n",
      "\n",
      "[[0. 1.]\n",
      " [2. 3.]\n",
      " [4. 5.]\n",
      " [6. 7.]\n",
      " [8. 9.]]\n",
      "\n",
      "[0. 1. 2. 3. 4. 5. 6. 7. 8. 9.]\n",
      "[0. 1. 2. 3. 4. 5. 6. 7. 8. 9.]\n",
      "[[0.]\n",
      " [1.]\n",
      " [2.]\n",
      " [3.]\n",
      " [4.]\n",
      " [5.]\n",
      " [6.]\n",
      " [7.]\n",
      " [8.]\n",
      " [9.]]\n",
      "[[0. 1. 2. 3. 4. 5. 6. 7. 8. 9.]]\n"
     ]
    }
   ],
   "source": [
    "a = np.array(range(10), float)\n",
    "print(a)\n",
    "print()\n",
    "\n",
    "# Превратим в матрицу\n",
    "a = a.reshape((5, 2))\n",
    "print(a)\n",
    "print()\n",
    "\n",
    "# Вернем обратно\n",
    "print(a.flatten())\n",
    "\n",
    "# Другой вариант\n",
    "print(a.reshape((-1)))\n",
    "# Превратим в марицу (9, 1)\n",
    "print(a.reshape((-1, 1)))\n",
    "# Превратим в марицу (1, 9)\n",
    "print(a.reshape((1, -1)))"
   ]
  },
  {
   "cell_type": "markdown",
   "metadata": {},
   "source": [
    "# Задания: (Блок 1)"
   ]
  },
  {
   "cell_type": "markdown",
   "metadata": {},
   "source": [
    "### Задание 1: \n",
    "Решите без использования циклов средставми NumPy (каждый пункт решается в 1-2 строчки)\n",
    "1. Создайте вектор с элементами от 12 до 42\n",
    "2. Создайте вектор из нулей длины 12, но его пятый елемент должен быть равен 1\n",
    "3. Создайте матрицу (3, 3), заполненую от 0 до 8\n",
    "4. Найдите все положительные числа в np.array([1,2,0,0,4,0])\n",
    "5. Умножьте матрицу размерности (5, 3) на (3, 2)\n",
    "6. Создайте матрицу (10, 10) так, чтобы на границе были 0, а внтури 1\n",
    "7. Создайте рандомный вектор и отсортируйте его\n",
    "8. Каков эквивалент функции enumerate для numpy массивов?\n",
    "9. *Создайте рандомную матрицу и выполните нормализацию столбцов (из каждого столбца вычесть среднее этого столбца, каждый столбец поделить на std этого столбца)\n",
    "10. *Для заданного числа найдите ближайший к нему элемент в векторе \n",
    "11. *Найдите N наибольших значений в векторе"
   ]
  },
  {
   "cell_type": "code",
   "execution_count": 36,
   "metadata": {},
   "outputs": [
    {
     "data": {
      "text/plain": [
       "array([12, 13, 14, 15, 16, 17, 18, 19, 20, 21, 22, 23, 24, 25, 26, 27, 28,\n",
       "       29, 30, 31, 32, 33, 34, 35, 36, 37, 38, 39, 40, 41, 42])"
      ]
     },
     "execution_count": 36,
     "metadata": {},
     "output_type": "execute_result"
    }
   ],
   "source": [
    "# ваш код здесь\n",
    "np.arange(12, 43, 1)"
   ]
  },
  {
   "cell_type": "code",
   "execution_count": 37,
   "metadata": {},
   "outputs": [
    {
     "data": {
      "text/plain": [
       "array([0., 0., 0., 0., 0., 1., 0., 0., 0., 0., 0., 0.])"
      ]
     },
     "execution_count": 37,
     "metadata": {},
     "output_type": "execute_result"
    }
   ],
   "source": [
    "a = np.zeros(12)\n",
    "a[5] = 1\n",
    "a"
   ]
  },
  {
   "cell_type": "code",
   "execution_count": 38,
   "metadata": {},
   "outputs": [
    {
     "data": {
      "text/plain": [
       "array([[0, 1, 2],\n",
       "       [3, 4, 5],\n",
       "       [6, 7, 8]])"
      ]
     },
     "execution_count": 38,
     "metadata": {},
     "output_type": "execute_result"
    }
   ],
   "source": [
    "np.arange(0, 9, 1).reshape((3, 3))"
   ]
  },
  {
   "cell_type": "code",
   "execution_count": 39,
   "metadata": {},
   "outputs": [
    {
     "data": {
      "text/plain": [
       "array([1, 2, 4])"
      ]
     },
     "execution_count": 39,
     "metadata": {},
     "output_type": "execute_result"
    }
   ],
   "source": [
    "a = np.array([1,2,0,0,4,0])\n",
    "a[a > 0]"
   ]
  },
  {
   "cell_type": "code",
   "execution_count": 40,
   "metadata": {},
   "outputs": [
    {
     "data": {
      "text/plain": [
       "array([[1., 0.],\n",
       "       [0., 1.],\n",
       "       [0., 0.],\n",
       "       [0., 0.],\n",
       "       [0., 0.]])"
      ]
     },
     "execution_count": 40,
     "metadata": {},
     "output_type": "execute_result"
    }
   ],
   "source": [
    "np.eye(5, 3) @ np.eye(3, 2)"
   ]
  },
  {
   "cell_type": "code",
   "execution_count": 41,
   "metadata": {},
   "outputs": [
    {
     "data": {
      "text/plain": [
       "array([[0., 0., 0., 0., 0., 0., 0., 0., 0., 0.],\n",
       "       [0., 1., 1., 1., 1., 1., 1., 1., 1., 0.],\n",
       "       [0., 1., 1., 1., 1., 1., 1., 1., 1., 0.],\n",
       "       [0., 1., 1., 1., 1., 1., 1., 1., 1., 0.],\n",
       "       [0., 1., 1., 1., 1., 1., 1., 1., 1., 0.],\n",
       "       [0., 1., 1., 1., 1., 1., 1., 1., 1., 0.],\n",
       "       [0., 1., 1., 1., 1., 1., 1., 1., 1., 0.],\n",
       "       [0., 1., 1., 1., 1., 1., 1., 1., 1., 0.],\n",
       "       [0., 1., 1., 1., 1., 1., 1., 1., 1., 0.],\n",
       "       [0., 0., 0., 0., 0., 0., 0., 0., 0., 0.]])"
      ]
     },
     "execution_count": 41,
     "metadata": {},
     "output_type": "execute_result"
    }
   ],
   "source": [
    "a = np.ones((10, 10))\n",
    "a[[0, -1], :] = 0  # с ходу лучше не вспомню, может маску проще было сделать\n",
    "a[:, [0, -1]] = 0\n",
    "a"
   ]
  },
  {
   "cell_type": "code",
   "execution_count": 42,
   "metadata": {},
   "outputs": [
    {
     "data": {
      "text/plain": [
       "array([0.01440656, 0.23647459, 0.36096597, 0.57764307, 0.62619126,\n",
       "       0.65660674, 0.92468652, 0.95901061, 0.99507089, 0.99833925])"
      ]
     },
     "execution_count": 42,
     "metadata": {},
     "output_type": "execute_result"
    }
   ],
   "source": [
    "a = np.random.random(10)\n",
    "a.sort()\n",
    "a"
   ]
  },
  {
   "cell_type": "code",
   "execution_count": 43,
   "metadata": {},
   "outputs": [
    {
     "name": "stdout",
     "output_type": "stream",
     "text": [
      "(0, 0) 0.6192265528110145\n",
      "(0, 1) 0.5340552818672807\n",
      "(0, 2) 0.17607566254177598\n",
      "(0, 3) 0.0710145643292911\n",
      "(1, 0) 0.8563640422963292\n",
      "(1, 1) 0.16841954095798473\n",
      "(1, 2) 0.6735126447384417\n",
      "(1, 3) 0.8233838786795705\n",
      "(2, 0) 0.5696592506750093\n",
      "(2, 1) 0.26282914647958466\n",
      "(2, 2) 0.4652862048627482\n",
      "(2, 3) 0.38542939173632773\n"
     ]
    }
   ],
   "source": [
    "a = np.random.random((3, 4))\n",
    "for index, elem in np.ndenumerate(a):\n",
    "    print(index, elem)"
   ]
  },
  {
   "cell_type": "code",
   "execution_count": 44,
   "metadata": {},
   "outputs": [
    {
     "name": "stdout",
     "output_type": "stream",
     "text": [
      "[[0.65243728 0.6985307  0.31214553]\n",
      " [0.83995068 0.60858753 0.08162717]]\n"
     ]
    },
    {
     "data": {
      "text/plain": [
       "array([[-1.,  1.,  1.],\n",
       "       [ 1., -1., -1.]])"
      ]
     },
     "execution_count": 44,
     "metadata": {},
     "output_type": "execute_result"
    }
   ],
   "source": [
    "a = np.random.random((2, 3))\n",
    "print(a)\n",
    "(a - a.mean(axis=0)) / a.std(axis=0)"
   ]
  },
  {
   "cell_type": "code",
   "execution_count": null,
   "metadata": {},
   "outputs": [],
   "source": []
  },
  {
   "cell_type": "markdown",
   "metadata": {},
   "source": [
    "### Задание 2:\n",
    "**Напишите полностью векторизованный вариант**  \n",
    "Дан трёхмерный массив, содержащий изображение, размера (height, width, numChannels), а также вектор длины numChannels. Сложить каналы изображения с указанными весами, и вернуть результат в\n",
    "виде матрицы размера (height, width). Считать реальное изображение можно при помощи функции\n",
    "`imageio.imread` (может потребоваться установка пакета pillow: `conda install pillow`).\n",
    "Преобразуйте цветное изображение в оттенки серого, использовав коэффициенты np.array([0.299, 0.587,\n",
    "0.114])."
   ]
  },
  {
   "cell_type": "code",
   "execution_count": 45,
   "metadata": {},
   "outputs": [],
   "source": [
    "# ваш код здесь"
   ]
  },
  {
   "cell_type": "markdown",
   "metadata": {},
   "source": [
    "## 8. Транспонирование матриц"
   ]
  },
  {
   "cell_type": "markdown",
   "metadata": {},
   "source": [
    "__Напоминание теории.__ __Транспонированной матрицей__ $A^{T}$ называется матрица, полученная из исходной матрицы $A$ заменой строк на столбцы. Формально: элементы матрицы $A^{T}$ определяются как $a^{T}_{ij} = a_{ji}$, где $a^{T}_{ij}$ — элемент матрицы $A^{T}$, стоящий на пересечении строки с номером $i$ и столбца с номером $j$.\n",
    "\n",
    "В `NumPy` транспонированная матрица вычисляется с помощью функции __`numpy.transpose()`__ или с помощью _метода_ __`array.T`__, где __`array`__ — нужный двумерный массив.\n"
   ]
  },
  {
   "cell_type": "code",
   "execution_count": 46,
   "metadata": {},
   "outputs": [],
   "source": [
    "a = np.array([[1, 2], [3, 4]])\n",
    "b = np.transpose(a)\n",
    "c = a.T"
   ]
  },
  {
   "cell_type": "code",
   "execution_count": 47,
   "metadata": {
    "scrolled": true
   },
   "outputs": [
    {
     "name": "stdout",
     "output_type": "stream",
     "text": [
      "Матрица:\n",
      " [[1 2]\n",
      " [3 4]]\n",
      "Транспонирование функцией:\n",
      " [[1 3]\n",
      " [2 4]]\n",
      "Транспонирование методом:\n",
      " [[1 3]\n",
      " [2 4]]\n"
     ]
    }
   ],
   "source": [
    "print (\"Матрица:\\n\", a)\n",
    "print (\"Транспонирование функцией:\\n\", b)\n",
    "print (\"Транспонирование методом:\\n\",  c)"
   ]
  },
  {
   "cell_type": "markdown",
   "metadata": {},
   "source": [
    "См. более подробно о \n",
    "[numpy.transpose()](http://docs.scipy.org/doc/numpy-1.10.0/reference/generated/numpy.transpose.html) и \n",
    "[array.T](http://docs.scipy.org/doc/numpy-1.10.0/reference/generated/numpy.ndarray.T.html) в `NumPy`."
   ]
  },
  {
   "cell_type": "markdown",
   "metadata": {},
   "source": [
    "В следующих разделах активно используется модуль __`numpy.linalg`__, реализующий некоторые приложения линейной алгебры. Более подробно о функциях, описанных ниже, и различных других функциях этого модуля можно посмотреть в его [документации](http://docs.scipy.org/doc/numpy-1.10.0/reference/routines.linalg.html#linear-algebra-numpy-linalg)."
   ]
  },
  {
   "cell_type": "markdown",
   "metadata": {},
   "source": [
    "## 9. Определитель матрицы"
   ]
  },
  {
   "cell_type": "markdown",
   "metadata": {},
   "source": [
    "__Напоминание теории.__ Для квадратных матриц существует понятие __определителя__.\n",
    "\n",
    "Пусть $A$ — квадратная матрица. __Определителем__ (или __детерминантом__) матрицы $A \\in \\mathbb{R}^{n \\times n}$ назовем число \n",
    "\n",
    "$$\\det A = \\sum_{\\alpha_{1}, \\alpha_{2}, \\dots, \\alpha_{n}} (-1)^{N(\\alpha_{1}, \\alpha_{2}, \\dots, \\alpha_{n})} \\cdot a_{\\alpha_{1} 1} \\cdot \\cdot \\cdot a_{\\alpha_{n} n},\n",
    "$$\n",
    "где $\\alpha_{1}, \\alpha_{2}, \\dots, \\alpha_{n}$ — перестановка чисел от $1$ до $n$, $N(\\alpha_{1}, \\alpha_{2}, \\dots, \\alpha_{n})$ — число инверсий в перестановке, суммирование ведется по всем возможным перестановкам длины $n$.\n",
    "\n",
    "_Не стоит расстраиваться, если это определение понятно не до конца — в дальнейшем в таком виде оно не понадобится._\n",
    "\n",
    "Например, для матрицы размера $2 \\times 2$ получается:\n",
    "\n",
    "$$\\det \\left( \\begin{array}{cc} a_{11} & a_{12} \\\\ a_{21} & a_{22}  \\end{array} \\right) = a_{11} a_{22} - a_{12} a_{21}\n",
    "$$\n",
    "\n",
    "\n",
    "Вычисление определителя матрицы по определению требует порядка $n!$ операций, поэтому разработаны методы, которые позволяют вычислять его быстро и эффективно.\n",
    "\n",
    "В `NumPy` определитель матрицы вычисляется с помощью функции __`numpy.linalg.det(a)`__, где __`a`__ — исходная матрица."
   ]
  },
  {
   "cell_type": "code",
   "execution_count": 48,
   "metadata": {},
   "outputs": [],
   "source": [
    "a = np.array([[1, 2, 1], [1, 1, 4], [2, 3, 6]], dtype=np.float32)\n",
    "det = np.linalg.det(a)"
   ]
  },
  {
   "cell_type": "code",
   "execution_count": 49,
   "metadata": {},
   "outputs": [
    {
     "name": "stdout",
     "output_type": "stream",
     "text": [
      "Матрица:\n",
      " [[1. 2. 1.]\n",
      " [1. 1. 4.]\n",
      " [2. 3. 6.]]\n",
      "Определитель:\n",
      " -1.0\n"
     ]
    }
   ],
   "source": [
    "print (\"Матрица:\\n\", a)\n",
    "print (\"Определитель:\\n\", det)"
   ]
  },
  {
   "cell_type": "markdown",
   "metadata": {},
   "source": [
    "Рассмотрим одно интересное свойство определителя. Пусть у нас есть параллелограмм с углами в точках $(0, 0), (c,d), (a+c, b+d), (a, b)$ (углы даны в порядке обхода по часовой стрелке). Тогда площадь этого параллелограмма можно вычислить как модуль определителя матрицы $\\left( \\begin{array}{cc} a & c \\\\ b & d  \\end{array} \\right)$. Похожим образом можно выразить и объем параллелепипеда через определитель матрицы размера $3 \\times 3$."
   ]
  },
  {
   "cell_type": "markdown",
   "metadata": {},
   "source": [
    "## 10. Ранг матрицы"
   ]
  },
  {
   "cell_type": "markdown",
   "metadata": {},
   "source": [
    "__Напоминание теории.__ __Рангом матрицы__ $A$ называется максимальное число линейно независимых строк (столбцов) этой матрицы.\n",
    "\n",
    "В `NumPy` ранг матрицы вычисляется с помощью функции __`numpy.linalg.matrix_rank(M, tol=None)`__, где __`M`__ — матрица, __`tol`__ — параметр, отвечающий за некоторую точность вычисления. В простом случае можно его не задавать, и функция сама определит подходящее значение этого параметра."
   ]
  },
  {
   "cell_type": "code",
   "execution_count": 50,
   "metadata": {},
   "outputs": [],
   "source": [
    "a = np.array([[1, 2, 3], [1, 1, 1], [2, 2, 2]])\n",
    "r = np.linalg.matrix_rank(a)"
   ]
  },
  {
   "cell_type": "code",
   "execution_count": 51,
   "metadata": {},
   "outputs": [
    {
     "name": "stdout",
     "output_type": "stream",
     "text": [
      "Матрица:\n",
      " [[1 2 3]\n",
      " [1 1 1]\n",
      " [2 2 2]]\n",
      "Ранг матрицы: 2\n"
     ]
    }
   ],
   "source": [
    "print (\"Матрица:\\n\", a)\n",
    "print (\"Ранг матрицы:\", r)"
   ]
  },
  {
   "cell_type": "markdown",
   "metadata": {},
   "source": [
    "С помощью вычисления ранга матрицы можно проверять линейную независимость системы векторов.\n",
    "\n",
    "Допустим, у нас есть несколько векторов. Составим из них матрицу, где наши векторы будут являться строками. Понятно, что векторы линейно независимы тогда и только тогда, когда ранг полученной матрицы совпадает с числом векторов. Приведем пример:"
   ]
  },
  {
   "cell_type": "code",
   "execution_count": 52,
   "metadata": {},
   "outputs": [],
   "source": [
    "a = np.array([1, 2, 3])\n",
    "b = np.array([1, 1, 1])\n",
    "c = np.array([2, 3, 5])\n",
    "m = np.array([a, b, c])"
   ]
  },
  {
   "cell_type": "code",
   "execution_count": 53,
   "metadata": {},
   "outputs": [
    {
     "name": "stdout",
     "output_type": "stream",
     "text": [
      "True\n"
     ]
    }
   ],
   "source": [
    "print (np.linalg.matrix_rank(m) == m.shape[0])"
   ]
  },
  {
   "cell_type": "markdown",
   "metadata": {},
   "source": [
    "## 11. Системы линейных уравнений"
   ]
  },
  {
   "cell_type": "markdown",
   "metadata": {},
   "source": [
    "__Напоминание теории.__ __Системой линейных алгебраических уравнений__ называется система вида $Ax = b$, где $A \\in \\mathbb{R}^{n \\times m}, x \\in \\mathbb{R}^{m \\times 1}, b \\in \\mathbb{R}^{n \\times 1}$. В случае квадратной невырожденной матрицы $A$ решение системы единственно.\n",
    "\n",
    "В `NumPy` решение такой системы можно найти с помощью функции __`numpy.linalg.solve(a, b)`__, где первый аргумент — матрица $A$, второй — столбец $b$."
   ]
  },
  {
   "cell_type": "code",
   "execution_count": 54,
   "metadata": {},
   "outputs": [],
   "source": [
    "a = np.array([[3, 1], [1, 2]])\n",
    "b = np.array([9, 8])\n",
    "x = np.linalg.solve(a, b)"
   ]
  },
  {
   "cell_type": "code",
   "execution_count": 55,
   "metadata": {},
   "outputs": [
    {
     "name": "stdout",
     "output_type": "stream",
     "text": [
      "Матрица A:\n",
      " [[3 1]\n",
      " [1 2]]\n",
      "Вектор b:\n",
      " [9 8]\n",
      "Решение системы:\n",
      " [2. 3.]\n"
     ]
    }
   ],
   "source": [
    "print (\"Матрица A:\\n\", a)\n",
    "print (\"Вектор b:\\n\", b)\n",
    "print (\"Решение системы:\\n\", x)"
   ]
  },
  {
   "cell_type": "markdown",
   "metadata": {},
   "source": [
    "Убедимся, что вектор __x__ действительно является решением системы:"
   ]
  },
  {
   "cell_type": "code",
   "execution_count": 56,
   "metadata": {},
   "outputs": [
    {
     "name": "stdout",
     "output_type": "stream",
     "text": [
      "[9. 8.]\n"
     ]
    }
   ],
   "source": [
    "print (a.dot(x))"
   ]
  },
  {
   "cell_type": "markdown",
   "metadata": {},
   "source": [
    "Бывают случаи, когда решение системы не существует. Но хотелось бы все равно \"решить\" такую систему. Логичным кажется искать такой вектор $x$, который минимизирует выражение $\\left\\Vert Ax - b\\right\\Vert^{2}$ — так мы приблизим выражение $Ax$ к $b$.\n",
    "\n",
    "В `NumPy` такое псевдорешение можно искать с помощью функции __`numpy.linalg.lstsq(a, b, ...)`__, где первые два аргумента такие же, как и для функции __`numpy.linalg.solve()`__. \n",
    "Помимо решения функция возвращает еще три значения, которые нам сейчас не понадобятся."
   ]
  },
  {
   "cell_type": "code",
   "execution_count": 57,
   "metadata": {},
   "outputs": [],
   "source": [
    "a = np.array([[0, 1], [1, 1], [2, 1], [3, 1]])\n",
    "b = np.array([-1, 0.2, 0.9, 2.1])\n",
    "x, res, r, s = np.linalg.lstsq(a, b, rcond=None)"
   ]
  },
  {
   "cell_type": "code",
   "execution_count": 58,
   "metadata": {},
   "outputs": [
    {
     "name": "stdout",
     "output_type": "stream",
     "text": [
      "Матрица A:\n",
      " [[0 1]\n",
      " [1 1]\n",
      " [2 1]\n",
      " [3 1]]\n",
      "Вектор b:\n",
      " [-1.   0.2  0.9  2.1]\n",
      "Псевдорешение системы:\n",
      " [ 1.   -0.95]\n"
     ]
    }
   ],
   "source": [
    "print (\"Матрица A:\\n\", a)\n",
    "print (\"Вектор b:\\n\", b)\n",
    "print (\"Псевдорешение системы:\\n\", x)"
   ]
  },
  {
   "cell_type": "markdown",
   "metadata": {},
   "source": [
    "## 12. Обращение матриц"
   ]
  },
  {
   "cell_type": "markdown",
   "metadata": {},
   "source": [
    "__Напоминание теории.__  Для квадратных невырожденных матриц определено понятие __обратной__ матрицы. \n",
    "\n",
    "Пусть $A$ — квадратная невырожденная матрица. Матрица $A^{-1}$ называется __обратной матрицей__ к $A$, если \n",
    "\n",
    "$$AA^{-1} = A^{-1}A = I,\n",
    "$$ \n",
    "\n",
    "где $I$ — единичная матрица.\n",
    "\n",
    "В `NumPy` обратные матрицы вычисляются с помощью функции __`numpy.linalg.inv(a)`__, где __`a`__ — исходная матрица."
   ]
  },
  {
   "cell_type": "code",
   "execution_count": 59,
   "metadata": {},
   "outputs": [],
   "source": [
    "a = np.array([[1, 2, 1], [1, 1, 4], [2, 3, 6]], dtype=np.float32)\n",
    "b = np.linalg.inv(a)"
   ]
  },
  {
   "cell_type": "code",
   "execution_count": 60,
   "metadata": {},
   "outputs": [
    {
     "name": "stdout",
     "output_type": "stream",
     "text": [
      "Матрица A:\n",
      " [[1. 2. 1.]\n",
      " [1. 1. 4.]\n",
      " [2. 3. 6.]]\n",
      "Обратная матрица к A:\n",
      " [[ 6.  9. -7.]\n",
      " [-2. -4.  3.]\n",
      " [-1. -1.  1.]]\n",
      "Произведение A на обратную должна быть единичной:\n",
      " [[1. 0. 0.]\n",
      " [0. 1. 0.]\n",
      " [0. 0. 1.]]\n"
     ]
    }
   ],
   "source": [
    "print (\"Матрица A:\\n\", a)\n",
    "print (\"Обратная матрица к A:\\n\", b)\n",
    "print (\"Произведение A на обратную должна быть единичной:\\n\", a.dot(b))"
   ]
  },
  {
   "cell_type": "markdown",
   "metadata": {},
   "source": [
    "## 13. Собственные числа и собственные вектора матрицы"
   ]
  },
  {
   "cell_type": "markdown",
   "metadata": {},
   "source": [
    "__Напоминание теории.__ Для квадратных матриц определены понятия __собственного вектора__ и __собственного числа__.\n",
    "\n",
    "Пусть $A$ — квадратная матрица и $A \\in \\mathbb{R}^{n \\times n}$. __Собственным вектором__ матрицы $A$ называется такой ненулевой вектор $x \\in \\mathbb{R}^{n}$, что для некоторого $\\lambda \\in \\mathbb{R}$ выполняется равенство $Ax = \\lambda x$. При этом $\\lambda$ называется __собственным числом__ матрицы $A$. Собственные числа и собственные векторы матрицы играют важную роль в теории линейной алгебры и ее практических приложениях.\n",
    "\n",
    "В `NumPy` собственные числа и собственные векторы матрицы вычисляются с помощью функции __`numpy.linalg.eig(a)`__, где __`a`__ — исходная матрица. В качестве результата эта функция выдает одномерный массив __`w`__ собственных чисел и двумерный массив __`v`__, в котором по столбцам записаны собственные вектора, так что вектор __`v[:, i]`__ соотвествует собственному числу __`w[i]`__."
   ]
  },
  {
   "cell_type": "code",
   "execution_count": 61,
   "metadata": {},
   "outputs": [],
   "source": [
    "a = np.array([[-1, -6], [2, 6]])\n",
    "w, v = np.linalg.eig(a)"
   ]
  },
  {
   "cell_type": "code",
   "execution_count": 62,
   "metadata": {},
   "outputs": [
    {
     "name": "stdout",
     "output_type": "stream",
     "text": [
      "Матрица A:\n",
      " [[-1 -6]\n",
      " [ 2  6]]\n",
      "Собственные числа:\n",
      " [2. 3.]\n",
      "Собственные векторы:\n",
      " [[-0.89442719  0.83205029]\n",
      " [ 0.4472136  -0.5547002 ]]\n"
     ]
    }
   ],
   "source": [
    "print (\"Матрица A:\\n\", a)\n",
    "print (\"Собственные числа:\\n\", w)\n",
    "print (\"Собственные векторы:\\n\", v)"
   ]
  },
  {
   "cell_type": "markdown",
   "metadata": {},
   "source": [
    "__Обратите внимание:__ у вещественной матрицы собственные значения или собственные векторы могут быть комплексными."
   ]
  },
  {
   "cell_type": "markdown",
   "metadata": {},
   "source": [
    "## 14. Расстояния между векторами"
   ]
  },
  {
   "cell_type": "markdown",
   "metadata": {},
   "source": [
    "Вспомним некоторые нормы, которые можно ввести в пространстве $\\mathbb{R}^{n}$, и рассмотрим, с помощью каких библиотек и функций их можно вычислять в `NumPy`."
   ]
  },
  {
   "cell_type": "markdown",
   "metadata": {},
   "source": [
    "### p-норма"
   ]
  },
  {
   "cell_type": "markdown",
   "metadata": {},
   "source": [
    "p-норма (норма Гёльдера) для вектора $x = (x_{1}, \\dots, x_{n}) \\in \\mathbb{R}^{n}$ вычисляется по формуле:\n",
    "\n",
    "$$\n",
    "\\left\\Vert x \\right\\Vert_{p} = \\left( \\sum_{i=1}^n \\left| x_{i} \\right|^{p} \\right)^{1 / p},~p \\geq 1.\n",
    "$$"
   ]
  },
  {
   "cell_type": "markdown",
   "metadata": {},
   "source": [
    "В частных случаях при:\n",
    "* $p = 1$ получаем $\\ell_{1}$ норму\n",
    "* $p = 2$ получаем $\\ell_{2}$ норму"
   ]
  },
  {
   "cell_type": "markdown",
   "metadata": {},
   "source": [
    "Далее нам понабится модуль `numpy.linalg`, реализующий некоторые приложения линейной алгебры. Для вычисления различных норм мы используем функцию __`numpy.linalg.norm(x, ord=None, ...)`__, где __`x`__ — исходный вектор, __`ord`__ — параметр, определяющий норму (мы рассмотрим два варианта его значений — 1 и 2). Импортируем эту функцию:"
   ]
  },
  {
   "cell_type": "code",
   "execution_count": 63,
   "metadata": {},
   "outputs": [],
   "source": [
    "from numpy.linalg import norm"
   ]
  },
  {
   "cell_type": "markdown",
   "metadata": {},
   "source": [
    "### $\\ell_{1}$ норма"
   ]
  },
  {
   "cell_type": "markdown",
   "metadata": {},
   "source": [
    "$\\ell_{1}$ норма \n",
    "(также известная как [манхэттенское расстояние](https://ru.wikipedia.org/wiki/%D0%A0%D0%B0%D1%81%D1%81%D1%82%D0%BE%D1%8F%D0%BD%D0%B8%D0%B5_%D0%B3%D0%BE%D1%80%D0%BE%D0%B4%D1%81%D0%BA%D0%B8%D1%85_%D0%BA%D0%B2%D0%B0%D1%80%D1%82%D0%B0%D0%BB%D0%BE%D0%B2))\n",
    "для вектора $x = (x_{1}, \\dots, x_{n}) \\in \\mathbb{R}^{n}$ вычисляется по формуле:\n",
    "\n",
    "$$\n",
    " \\left\\Vert x \\right\\Vert_{1} = \\sum_{i=1}^n \\left| x_{i} \\right|.\n",
    "$$"
   ]
  },
  {
   "cell_type": "markdown",
   "metadata": {},
   "source": [
    "Ей в функции __`numpy.linalg.norm(x, ord=None, ...)`__ соответствует параметр __`ord=1`__."
   ]
  },
  {
   "cell_type": "code",
   "execution_count": 64,
   "metadata": {},
   "outputs": [
    {
     "name": "stdout",
     "output_type": "stream",
     "text": [
      "Вектор a: [ 1  2 -3]\n"
     ]
    }
   ],
   "source": [
    "a = np.array([1, 2, -3])\n",
    "print('Вектор a:', a)"
   ]
  },
  {
   "cell_type": "code",
   "execution_count": 65,
   "metadata": {},
   "outputs": [
    {
     "name": "stdout",
     "output_type": "stream",
     "text": [
      "L1 норма вектора a:\n",
      " 6.0\n"
     ]
    }
   ],
   "source": [
    "print('L1 норма вектора a:\\n', norm(a, ord=1))"
   ]
  },
  {
   "cell_type": "markdown",
   "metadata": {},
   "source": [
    "### $\\ell_{2}$ норма"
   ]
  },
  {
   "cell_type": "markdown",
   "metadata": {},
   "source": [
    "$\\ell_{2}$ норма (также известная как евклидова норма)\n",
    "для вектора $x = (x_{1}, \\dots, x_{n}) \\in \\mathbb{R}^{n}$ вычисляется по формуле:\n",
    "\n",
    "$$\n",
    " \\left\\Vert x \\right\\Vert_{2} = \\sqrt{\\sum_{i=1}^n \\left( x_{i} \\right)^2}.\n",
    "$$"
   ]
  },
  {
   "cell_type": "markdown",
   "metadata": {},
   "source": [
    "Ей в функции __`numpy.linalg.norm(x, ord=None, ...)`__ соответствует параметр __`ord=2`__."
   ]
  },
  {
   "cell_type": "code",
   "execution_count": 66,
   "metadata": {},
   "outputs": [
    {
     "name": "stdout",
     "output_type": "stream",
     "text": [
      "L2 норма вектора a:\n",
      " 3.7416573867739413\n"
     ]
    }
   ],
   "source": [
    "print ('L2 норма вектора a:\\n', norm(a, ord=2))"
   ]
  },
  {
   "cell_type": "markdown",
   "metadata": {},
   "source": [
    "Более подробно о том, какие еще нормы (в том числе матричные) можно вычислить, см. [документацию](http://docs.scipy.org/doc/numpy-1.10.0/reference/generated/numpy.linalg.norm.html). "
   ]
  },
  {
   "cell_type": "markdown",
   "metadata": {},
   "source": [
    "## 15. Расстояния между векторами"
   ]
  },
  {
   "cell_type": "markdown",
   "metadata": {},
   "source": [
    "Для двух векторов $x = (x_{1}, \\dots, x_{n}) \\in \\mathbb{R}^{n}$ и $y = (y_{1}, \\dots, y_{n}) \\in \\mathbb{R}^{n}$ $\\ell_{1}$ и $\\ell_{2}$ раccтояния вычисляются по следующим формулам соответственно:\n",
    "\n",
    "$$\n",
    " \\rho_{1}\\left( x, y \\right) = \\left\\Vert x - y \\right\\Vert_{1} = \\sum_{i=1}^n \\left| x_{i} - y_{i} \\right|\n",
    "$$\n",
    "\n",
    "$$\n",
    " \\rho_{2}\\left( x, y \\right) = \\left\\Vert x - y \\right\\Vert_{2} = \n",
    " \\sqrt{\\sum_{i=1}^n \\left( x_{i} - y_{i} \\right)^2}.\n",
    "$$"
   ]
  },
  {
   "cell_type": "code",
   "execution_count": 67,
   "metadata": {},
   "outputs": [
    {
     "name": "stdout",
     "output_type": "stream",
     "text": [
      "Вектор a: [ 1  2 -3]\n",
      "Вектор b: [-4  3  8]\n"
     ]
    }
   ],
   "source": [
    "a = np.array([1, 2, -3])\n",
    "b = np.array([-4, 3, 8])\n",
    "print ('Вектор a:', a)\n",
    "print ('Вектор b:', b)"
   ]
  },
  {
   "cell_type": "code",
   "execution_count": 68,
   "metadata": {},
   "outputs": [
    {
     "name": "stdout",
     "output_type": "stream",
     "text": [
      "L1 расстояние между векторами a и b:\n",
      " 17.0\n",
      "L2 расстояние между векторами a и b:\n",
      " 12.12435565298214\n"
     ]
    }
   ],
   "source": [
    "print ('L1 расстояние между векторами a и b:\\n', norm(a - b, ord=1))\n",
    "print ('L2 расстояние между векторами a и b:\\n', norm(a - b, ord=2))"
   ]
  },
  {
   "cell_type": "markdown",
   "metadata": {},
   "source": [
    "## 16. Скалярное произведение и угол между векторами"
   ]
  },
  {
   "cell_type": "code",
   "execution_count": 69,
   "metadata": {},
   "outputs": [
    {
     "name": "stdout",
     "output_type": "stream",
     "text": [
      "Вектор a: [ 0  5 -1]\n",
      "Вектор b: [-4  9  3]\n"
     ]
    }
   ],
   "source": [
    "a = np.array([0, 5, -1])\n",
    "b = np.array([-4, 9, 3])\n",
    "print ('Вектор a:', a)\n",
    "print ('Вектор b:', b)"
   ]
  },
  {
   "cell_type": "markdown",
   "metadata": {},
   "source": [
    "Скалярное произведение в пространстве $\\mathbb{R}^{n}$ для двух векторов $x = (x_{1}, \\dots, x_{n})$ и $y = (y_{1}, \\dots, y_{n})$ определяется как:\n",
    "\n",
    "$$\n",
    "\\langle x, y \\rangle = \\sum_{i=1}^n x_{i} y_{i}.\n",
    "$$"
   ]
  },
  {
   "cell_type": "markdown",
   "metadata": {},
   "source": [
    "Длиной вектора $x = (x_{1}, \\dots, x_{n}) \\in \\mathbb{R}^{n}$ называется квадратный корень из скалярного произведения, то есть длина равна евклидовой норме вектора:\n",
    "\n",
    "$$\n",
    "\\left| x \\right| = \\sqrt{\\langle x, x \\rangle} = \\sqrt{\\sum_{i=1}^n x_{i}^2} =  \\left\\Vert x \\right\\Vert_{2}.\n",
    "$$"
   ]
  },
  {
   "cell_type": "markdown",
   "metadata": {},
   "source": [
    "Теперь, когда мы знаем расстояние между двумя ненулевыми векторами и их длины, мы можем вычислить угол между ними через скалярное произведение:\n",
    "\n",
    "$$\n",
    "\\langle x, y \\rangle = \\left| x \\right| | y | \\cos(\\alpha)\n",
    "\\implies \\cos(\\alpha) = \\frac{\\langle x, y \\rangle}{\\left| x \\right| | y |},\n",
    "$$\n",
    "\n",
    "где $\\alpha \\in [0, \\pi]$ — угол между векторами $x$ и $y$."
   ]
  },
  {
   "cell_type": "code",
   "execution_count": 70,
   "metadata": {},
   "outputs": [
    {
     "name": "stdout",
     "output_type": "stream",
     "text": [
      "Косинус угла между a и b: 0.8000362836474323\n",
      "Сам угол: 0.6434406336093618\n"
     ]
    }
   ],
   "source": [
    "cos_angle = np.dot(a, b) / norm(a) / norm(b)\n",
    "print ('Косинус угла между a и b:', cos_angle)\n",
    "print ('Сам угол:', np.arccos(cos_angle))"
   ]
  },
  {
   "cell_type": "markdown",
   "metadata": {},
   "source": [
    "## 17. Комплексные числа в питоне"
   ]
  },
  {
   "cell_type": "markdown",
   "metadata": {},
   "source": [
    "__Напоминание теории.__ __Комплексными числами__ называются числа вида $x + iy$, где $x$ и $y$ — вещественные числа, а $i$ — мнимая единица (величина, для которой выполняется равенство $i^{2} = -1$). Множество всех комплексных чисел обозначается буквой $\\mathbb{C}$ (подробнее про комплексные числа см. [википедию](https://ru.wikipedia.org/wiki/%D0%9A%D0%BE%D0%BC%D0%BF%D0%BB%D0%B5%D0%BA%D1%81%D0%BD%D0%BE%D0%B5_%D1%87%D0%B8%D1%81%D0%BB%D0%BE))."
   ]
  },
  {
   "cell_type": "markdown",
   "metadata": {},
   "source": [
    "В питоне комплескные числа можно задать следующим образом (__j__ обозначает мнимую единицу):"
   ]
  },
  {
   "cell_type": "code",
   "execution_count": 71,
   "metadata": {},
   "outputs": [],
   "source": [
    "a = 3 + 2j\n",
    "b = 1j"
   ]
  },
  {
   "cell_type": "code",
   "execution_count": 72,
   "metadata": {},
   "outputs": [
    {
     "name": "stdout",
     "output_type": "stream",
     "text": [
      "Комплексное число a:\n",
      " (3+2j)\n",
      "Комплексное число b:\n",
      " 1j\n"
     ]
    }
   ],
   "source": [
    "print (\"Комплексное число a:\\n\", a)\n",
    "print (\"Комплексное число b:\\n\", b)"
   ]
  },
  {
   "cell_type": "markdown",
   "metadata": {},
   "source": [
    "С комплексными числами в питоне можно производить базовые арифметические операции так же, как и с вещественными числами:"
   ]
  },
  {
   "cell_type": "code",
   "execution_count": 73,
   "metadata": {},
   "outputs": [],
   "source": [
    "c = a * a\n",
    "d = a / (4 - 5j)"
   ]
  },
  {
   "cell_type": "code",
   "execution_count": 74,
   "metadata": {},
   "outputs": [
    {
     "name": "stdout",
     "output_type": "stream",
     "text": [
      "Комплексное число c:\n",
      " (5+12j)\n",
      "Комплексное число d:\n",
      " (0.0487804878048781+0.5609756097560976j)\n"
     ]
    }
   ],
   "source": [
    "print (\"Комплексное число c:\\n\", c)\n",
    "print (\"Комплексное число d:\\n\", d)"
   ]
  },
  {
   "cell_type": "markdown",
   "metadata": {},
   "source": [
    "# Задания: (Блок 2)\n",
    "### Задание 3:\n",
    "Рассмотрим сложную математическую функцию на отрезке [1, 15]:\n",
    "\n",
    "f(x) = sin(x / 5) * exp(x / 10) + 5 * exp(-x / 2)\n",
    "\n",
    "![func.png](func.png \"func.png\")"
   ]
  },
  {
   "cell_type": "markdown",
   "metadata": {},
   "source": [
    "Она может описывать, например, зависимость оценок, которые выставляют определенному сорту вина эксперты, в зависимости от возраста этого вина. Мы хотим приблизить сложную зависимость с помощью функции из определенного семейства. В этом задании мы будем приближать указанную функцию с помощью многочленов."
   ]
  },
  {
   "cell_type": "markdown",
   "metadata": {},
   "source": [
    "Как известно, многочлен степени $n$ (то есть $w_0$ + $w_1 x$ + $w_2 x^2$ + $\\ldots$ + $w_n x^n$) однозначно определяется любыми n + 1 различными точками, через которые он проходит. Это значит, что его коэффициенты $w_0$, ... $w_n$ можно определить из следующей системы линейных уравнений:"
   ]
  },
  {
   "cell_type": "markdown",
   "metadata": {},
   "source": [
    "![eqs.png](eqs.png \"eqs.png\")"
   ]
  },
  {
   "cell_type": "markdown",
   "metadata": {},
   "source": [
    "где через $x_1, ..., x_n, x_{n+1}$ обозначены точки, через которые проходит многочлен, а через $f(x_1), ..., f(x_n), f(x_{n+1})$ — значения, которые он должен принимать в этих точках."
   ]
  },
  {
   "cell_type": "markdown",
   "metadata": {},
   "source": [
    "Воспользуемся описанным свойством, и будем находить приближение функции многочленом, решая систему линейных уравнений.\n",
    "\n",
    "1. Сформируйте систему линейных уравнений (то есть задайте матрицу коэффициентов A и свободный вектор b) для многочлена первой степени, который должен совпадать с функцией f в точках 1 и 15. Решите данную систему с помощью функции scipy.linalg.solve. Нарисуйте функцию f и полученный многочлен. Хорошо ли он приближает исходную функцию?\n",
    "2. Повторите те же шаги для многочлена второй степени, который совпадает с функцией f в точках 1, 8 и 15. Улучшилось ли качество аппроксимации?\n",
    "3. Повторите те же шаги для многочлена третьей степени, который совпадает с функцией f в точках 1, 4, 10 и 15. Хорошо ли он аппроксимирует функцию?"
   ]
  },
  {
   "cell_type": "code",
   "execution_count": 133,
   "metadata": {},
   "outputs": [],
   "source": [
    "def f(x):\n",
    "    return np.sin(x / 5) * np.exp(x / 10) + 5 * np.exp(-x / 2)"
   ]
  },
  {
   "cell_type": "code",
   "execution_count": 187,
   "metadata": {},
   "outputs": [],
   "source": [
    "def A(deg, *points):\n",
    "    return np.array([\n",
    "            [point**i for i in range(deg)]\n",
    "            for point in points\n",
    "    ])\n",
    "\n",
    "\n",
    "def b(*points):\n",
    "    return np.array([f(point) for point in points])\n",
    "\n",
    "\n",
    "def polynom(plotRange, *points):\n",
    "    deg = len(points)\n",
    "    return A(deg, *plotRange) @ np.linalg.solve(A(deg, *points), b(*points)) "
   ]
  },
  {
   "cell_type": "code",
   "execution_count": 145,
   "metadata": {},
   "outputs": [],
   "source": [
    "import matplotlib.pyplot as plt"
   ]
  },
  {
   "cell_type": "code",
   "execution_count": 202,
   "metadata": {},
   "outputs": [
    {
     "data": {
      "text/plain": [
       "<matplotlib.legend.Legend at 0x1b01309f460>"
      ]
     },
     "execution_count": 202,
     "metadata": {},
     "output_type": "execute_result"
    },
    {
     "data": {
      "image/png": "[encoded data removed]",
      "text/plain": [
       "<Figure size 600x400 with 1 Axes>"
      ]
     },
     "metadata": {
      "needs_background": "light"
     },
     "output_type": "display_data"
    }
   ],
   "source": [
    "plt.figure(dpi=100)\n",
    "\n",
    "xx = np.linspace(1, 15, 100)\n",
    "plt.plot(xx, f(xx), label='Функция')\n",
    "for points in [(1, 15), (1, 8, 15), (1, 4, 10, 15)]:\n",
    "    plt.plot(xx, polynom(xx, *points), label=f'Полином {len(points) - 1} степени')\n",
    "plt.grid()\n",
    "plt.legend()"
   ]
  },
  {
   "cell_type": "markdown",
   "metadata": {},
   "source": [
    "### Полиномы 1 и 2 степеней плохо аппроксимируют функцию. Полином 3 степени в большей степени приближает ее."
   ]
  }
 ],
 "metadata": {
  "kernelspec": {
   "display_name": "Python 3",
   "language": "python",
   "name": "python3"
  },
  "language_info": {
   "codemirror_mode": {
    "name": "ipython",
    "version": 3
   },
   "file_extension": ".py",
   "mimetype": "text/x-python",
   "name": "python",
   "nbconvert_exporter": "python",
   "pygments_lexer": "ipython3",
   "version": "3.9.1"
  }
 },
 "nbformat": 4,
 "nbformat_minor": 1
}
